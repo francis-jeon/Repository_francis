{
  "nbformat": 4,
  "nbformat_minor": 0,
  "metadata": {
    "colab": {
      "name": "anomaly_detection_minjong.ipynb",
      "provenance": [],
      "machine_shape": "hm",
      "collapsed_sections": [],
      "authorship_tag": "ABX9TyOtiDAhzhwuyqR1wsdVlJtT",
      "include_colab_link": true
    },
    "kernelspec": {
      "name": "python3",
      "display_name": "Python 3"
    },
    "language_info": {
      "name": "python"
    },
    "accelerator": "GPU",
    "gpuClass": "standard"
  },
  "cells": [
    {
      "cell_type": "markdown",
      "metadata": {
        "id": "view-in-github",
        "colab_type": "text"
      },
      "source": [
        "<a href=\"https://colab.research.google.com/github/francis-jeon/Repository_francis/blob/main/anomaly_detection_minjong.ipynb\" target=\"_parent\"><img src=\"https://colab.research.google.com/assets/colab-badge.svg\" alt=\"Open In Colab\"/></a>"
      ]
    },
    {
      "cell_type": "markdown",
      "source": [
        "##*Dataset* download via Kaggle API"
      ],
      "metadata": {
        "id": "JCICmWp8Kg5M"
      }
    },
    {
      "cell_type": "code",
      "execution_count": 1,
      "metadata": {
        "id": "_wrX1Cs_nNK2",
        "colab": {
          "base_uri": "https://localhost:8080/"
        },
        "outputId": "34e38d30-207d-43ce-f772-6be44261a384"
      },
      "outputs": [
        {
          "output_type": "stream",
          "name": "stdout",
          "text": [
            "Downloading find-a-defect-in-the-production-extrusion-line.zip to /content\n",
            " 89% 43.0M/48.5M [00:00<00:00, 59.5MB/s]\n",
            "100% 48.5M/48.5M [00:00<00:00, 64.3MB/s]\n"
          ]
        }
      ],
      "source": [
        "! mkdir ~/.kaggle\n",
        "! cp kaggle.json ~/.kaggle/\n",
        "! chmod 600 ~/.kaggle/kaggle.json\n",
        "! kaggle datasets download podsyp/find-a-defect-in-the-production-extrusion-line"
      ]
    },
    {
      "cell_type": "markdown",
      "source": [
        "#<strong> Machine Learning approach </strong>"
      ],
      "metadata": {
        "id": "Psq4OZKjKu8A"
      }
    },
    {
      "cell_type": "markdown",
      "source": [
        "##Import neccesary libraries / dataset"
      ],
      "metadata": {
        "id": "j4NiNu_e6MTb"
      }
    },
    {
      "cell_type": "code",
      "source": [
        "import numpy as np\n",
        "import matplotlib.pyplot as plt\n",
        "import tensorflow as tf\n",
        "import pandas as pd\n",
        "import glob \n",
        "from sklearn.metrics import confusion_matrix\n",
        "import os\n",
        "import sys\n",
        "import warnings\n",
        "import seaborn as sns\n",
        "\n",
        "if not sys.warnoptions:\n",
        "    warnings.simplefilter(\"ignore\")\n",
        "warnings.filterwarnings(\"ignore\", category=DeprecationWarning) "
      ],
      "metadata": {
        "id": "mYtDvjmZnmUc"
      },
      "execution_count": 2,
      "outputs": []
    },
    {
      "cell_type": "code",
      "source": [
        "import zipfile \n",
        "dataset_path = \"/content/find-a-defect-in-the-production-extrusion-line.zip\"\n",
        "zfile = zipfile.ZipFile(dataset_path)\n",
        "zfile.extractall()"
      ],
      "metadata": {
        "id": "ID7YJ4RtnrD1"
      },
      "execution_count": 3,
      "outputs": []
    },
    {
      "cell_type": "code",
      "source": [
        "data = pd.read_csv('/content/extrusion.csv')\n",
        "\n",
        "data.head()"
      ],
      "metadata": {
        "colab": {
          "base_uri": "https://localhost:8080/",
          "height": 386
        },
        "id": "6WYhgDN_n353",
        "outputId": "6004c154-f666-42f1-bc35-2245a77c4ac8"
      },
      "execution_count": 4,
      "outputs": [
        {
          "output_type": "execute_result",
          "data": {
            "text/plain": [
              "             Datum  ST0_VARActAuftrag  ST110_VARExtr_0_HeizungZone_3_Regler_Y  \\\n",
              "0  25.06.2018 4:40                0.0                                     9.0   \n",
              "1  25.06.2018 4:42                0.0                                     9.0   \n",
              "2  25.06.2018 4:45                0.0                                     9.0   \n",
              "3  25.06.2018 4:47                0.0                                    10.0   \n",
              "4  25.06.2018 4:49                0.0                                    11.0   \n",
              "\n",
              "   ST110_VARExtr_0_HeizungZone_3_SollTemp  \\\n",
              "0                                   190.0   \n",
              "1                                   190.0   \n",
              "2                                   190.0   \n",
              "3                                   190.0   \n",
              "4                                   190.0   \n",
              "\n",
              "   ST110_VARExtr_0_HeizungZone_4_Konfig  \\\n",
              "0                                   1.0   \n",
              "1                                   1.0   \n",
              "2                                   1.0   \n",
              "3                                   1.0   \n",
              "4                                   1.0   \n",
              "\n",
              "   ST110_VARExtr_0_HeizungZone_4_Regler_X  \\\n",
              "0                                   193.0   \n",
              "1                                   193.0   \n",
              "2                                   193.0   \n",
              "3                                   193.0   \n",
              "4                                   193.0   \n",
              "\n",
              "   ST110_VARExtr_0_HeizungZone_4_Regler_Y  \\\n",
              "0                                     0.0   \n",
              "1                                     0.0   \n",
              "2                                     0.0   \n",
              "3                                     0.0   \n",
              "4                                     0.0   \n",
              "\n",
              "   ST110_VARExtr_0_HeizungZone_4_SollTemp  \\\n",
              "0                                   190.0   \n",
              "1                                   190.0   \n",
              "2                                   190.0   \n",
              "3                                   190.0   \n",
              "4                                   190.0   \n",
              "\n",
              "   ST110_VARExtr_0_HeizungZone_5_Konfig  \\\n",
              "0                                   1.0   \n",
              "1                                   1.0   \n",
              "2                                   1.0   \n",
              "3                                   1.0   \n",
              "4                                   1.0   \n",
              "\n",
              "   ST110_VARExtr_0_HeizungZone_5_Regler_X  ...  ST114_VARTensPlusSp  \\\n",
              "0                                   190.0  ...                 21.0   \n",
              "1                                   190.0  ...                 21.0   \n",
              "2                                   190.0  ...                 21.0   \n",
              "3                                   190.0  ...                 21.0   \n",
              "4                                   190.0  ...                 21.0   \n",
              "\n",
              "   ST114_VARTotalLen  ST114_VARTotalRolls  ST114_VARWdCloseCmd  \\\n",
              "0          3544103.0               2174.0                  1.0   \n",
              "1          3544103.0               2174.0                  1.0   \n",
              "2          3544103.0               2174.0                  1.0   \n",
              "3          3544103.0               2174.0                  1.0   \n",
              "4          3544103.0               2174.0                  1.0   \n",
              "\n",
              "   ST114_VARWdSpeedHMI  ST114_VARWdSpSpeed  ST114_VARWdSpTens  \\\n",
              "0                 78.0                 0.0               50.0   \n",
              "1                 81.0                 0.0               50.0   \n",
              "2                 81.0                 0.0               50.0   \n",
              "3                 81.0                 0.0               50.0   \n",
              "4                 81.0                 0.0               50.0   \n",
              "\n",
              "   ST114_VARWdTapeNum  ST114_VARWdTapeReductVal  ST114_VARWdTensVis  \n",
              "0                 5.0                      15.0                53.0  \n",
              "1                 5.0                      15.0                49.0  \n",
              "2                 5.0                      15.0                48.0  \n",
              "3                 5.0                      15.0                50.0  \n",
              "4                 5.0                      15.0                51.0  \n",
              "\n",
              "[5 rows x 470 columns]"
            ],
            "text/html": [
              "\n",
              "  <div id=\"df-4f744956-8791-46c6-ba7b-e4780c46c077\">\n",
              "    <div class=\"colab-df-container\">\n",
              "      <div>\n",
              "<style scoped>\n",
              "    .dataframe tbody tr th:only-of-type {\n",
              "        vertical-align: middle;\n",
              "    }\n",
              "\n",
              "    .dataframe tbody tr th {\n",
              "        vertical-align: top;\n",
              "    }\n",
              "\n",
              "    .dataframe thead th {\n",
              "        text-align: right;\n",
              "    }\n",
              "</style>\n",
              "<table border=\"1\" class=\"dataframe\">\n",
              "  <thead>\n",
              "    <tr style=\"text-align: right;\">\n",
              "      <th></th>\n",
              "      <th>Datum</th>\n",
              "      <th>ST0_VARActAuftrag</th>\n",
              "      <th>ST110_VARExtr_0_HeizungZone_3_Regler_Y</th>\n",
              "      <th>ST110_VARExtr_0_HeizungZone_3_SollTemp</th>\n",
              "      <th>ST110_VARExtr_0_HeizungZone_4_Konfig</th>\n",
              "      <th>ST110_VARExtr_0_HeizungZone_4_Regler_X</th>\n",
              "      <th>ST110_VARExtr_0_HeizungZone_4_Regler_Y</th>\n",
              "      <th>ST110_VARExtr_0_HeizungZone_4_SollTemp</th>\n",
              "      <th>ST110_VARExtr_0_HeizungZone_5_Konfig</th>\n",
              "      <th>ST110_VARExtr_0_HeizungZone_5_Regler_X</th>\n",
              "      <th>...</th>\n",
              "      <th>ST114_VARTensPlusSp</th>\n",
              "      <th>ST114_VARTotalLen</th>\n",
              "      <th>ST114_VARTotalRolls</th>\n",
              "      <th>ST114_VARWdCloseCmd</th>\n",
              "      <th>ST114_VARWdSpeedHMI</th>\n",
              "      <th>ST114_VARWdSpSpeed</th>\n",
              "      <th>ST114_VARWdSpTens</th>\n",
              "      <th>ST114_VARWdTapeNum</th>\n",
              "      <th>ST114_VARWdTapeReductVal</th>\n",
              "      <th>ST114_VARWdTensVis</th>\n",
              "    </tr>\n",
              "  </thead>\n",
              "  <tbody>\n",
              "    <tr>\n",
              "      <th>0</th>\n",
              "      <td>25.06.2018 4:40</td>\n",
              "      <td>0.0</td>\n",
              "      <td>9.0</td>\n",
              "      <td>190.0</td>\n",
              "      <td>1.0</td>\n",
              "      <td>193.0</td>\n",
              "      <td>0.0</td>\n",
              "      <td>190.0</td>\n",
              "      <td>1.0</td>\n",
              "      <td>190.0</td>\n",
              "      <td>...</td>\n",
              "      <td>21.0</td>\n",
              "      <td>3544103.0</td>\n",
              "      <td>2174.0</td>\n",
              "      <td>1.0</td>\n",
              "      <td>78.0</td>\n",
              "      <td>0.0</td>\n",
              "      <td>50.0</td>\n",
              "      <td>5.0</td>\n",
              "      <td>15.0</td>\n",
              "      <td>53.0</td>\n",
              "    </tr>\n",
              "    <tr>\n",
              "      <th>1</th>\n",
              "      <td>25.06.2018 4:42</td>\n",
              "      <td>0.0</td>\n",
              "      <td>9.0</td>\n",
              "      <td>190.0</td>\n",
              "      <td>1.0</td>\n",
              "      <td>193.0</td>\n",
              "      <td>0.0</td>\n",
              "      <td>190.0</td>\n",
              "      <td>1.0</td>\n",
              "      <td>190.0</td>\n",
              "      <td>...</td>\n",
              "      <td>21.0</td>\n",
              "      <td>3544103.0</td>\n",
              "      <td>2174.0</td>\n",
              "      <td>1.0</td>\n",
              "      <td>81.0</td>\n",
              "      <td>0.0</td>\n",
              "      <td>50.0</td>\n",
              "      <td>5.0</td>\n",
              "      <td>15.0</td>\n",
              "      <td>49.0</td>\n",
              "    </tr>\n",
              "    <tr>\n",
              "      <th>2</th>\n",
              "      <td>25.06.2018 4:45</td>\n",
              "      <td>0.0</td>\n",
              "      <td>9.0</td>\n",
              "      <td>190.0</td>\n",
              "      <td>1.0</td>\n",
              "      <td>193.0</td>\n",
              "      <td>0.0</td>\n",
              "      <td>190.0</td>\n",
              "      <td>1.0</td>\n",
              "      <td>190.0</td>\n",
              "      <td>...</td>\n",
              "      <td>21.0</td>\n",
              "      <td>3544103.0</td>\n",
              "      <td>2174.0</td>\n",
              "      <td>1.0</td>\n",
              "      <td>81.0</td>\n",
              "      <td>0.0</td>\n",
              "      <td>50.0</td>\n",
              "      <td>5.0</td>\n",
              "      <td>15.0</td>\n",
              "      <td>48.0</td>\n",
              "    </tr>\n",
              "    <tr>\n",
              "      <th>3</th>\n",
              "      <td>25.06.2018 4:47</td>\n",
              "      <td>0.0</td>\n",
              "      <td>10.0</td>\n",
              "      <td>190.0</td>\n",
              "      <td>1.0</td>\n",
              "      <td>193.0</td>\n",
              "      <td>0.0</td>\n",
              "      <td>190.0</td>\n",
              "      <td>1.0</td>\n",
              "      <td>190.0</td>\n",
              "      <td>...</td>\n",
              "      <td>21.0</td>\n",
              "      <td>3544103.0</td>\n",
              "      <td>2174.0</td>\n",
              "      <td>1.0</td>\n",
              "      <td>81.0</td>\n",
              "      <td>0.0</td>\n",
              "      <td>50.0</td>\n",
              "      <td>5.0</td>\n",
              "      <td>15.0</td>\n",
              "      <td>50.0</td>\n",
              "    </tr>\n",
              "    <tr>\n",
              "      <th>4</th>\n",
              "      <td>25.06.2018 4:49</td>\n",
              "      <td>0.0</td>\n",
              "      <td>11.0</td>\n",
              "      <td>190.0</td>\n",
              "      <td>1.0</td>\n",
              "      <td>193.0</td>\n",
              "      <td>0.0</td>\n",
              "      <td>190.0</td>\n",
              "      <td>1.0</td>\n",
              "      <td>190.0</td>\n",
              "      <td>...</td>\n",
              "      <td>21.0</td>\n",
              "      <td>3544103.0</td>\n",
              "      <td>2174.0</td>\n",
              "      <td>1.0</td>\n",
              "      <td>81.0</td>\n",
              "      <td>0.0</td>\n",
              "      <td>50.0</td>\n",
              "      <td>5.0</td>\n",
              "      <td>15.0</td>\n",
              "      <td>51.0</td>\n",
              "    </tr>\n",
              "  </tbody>\n",
              "</table>\n",
              "<p>5 rows × 470 columns</p>\n",
              "</div>\n",
              "      <button class=\"colab-df-convert\" onclick=\"convertToInteractive('df-4f744956-8791-46c6-ba7b-e4780c46c077')\"\n",
              "              title=\"Convert this dataframe to an interactive table.\"\n",
              "              style=\"display:none;\">\n",
              "        \n",
              "  <svg xmlns=\"http://www.w3.org/2000/svg\" height=\"24px\"viewBox=\"0 0 24 24\"\n",
              "       width=\"24px\">\n",
              "    <path d=\"M0 0h24v24H0V0z\" fill=\"none\"/>\n",
              "    <path d=\"M18.56 5.44l.94 2.06.94-2.06 2.06-.94-2.06-.94-.94-2.06-.94 2.06-2.06.94zm-11 1L8.5 8.5l.94-2.06 2.06-.94-2.06-.94L8.5 2.5l-.94 2.06-2.06.94zm10 10l.94 2.06.94-2.06 2.06-.94-2.06-.94-.94-2.06-.94 2.06-2.06.94z\"/><path d=\"M17.41 7.96l-1.37-1.37c-.4-.4-.92-.59-1.43-.59-.52 0-1.04.2-1.43.59L10.3 9.45l-7.72 7.72c-.78.78-.78 2.05 0 2.83L4 21.41c.39.39.9.59 1.41.59.51 0 1.02-.2 1.41-.59l7.78-7.78 2.81-2.81c.8-.78.8-2.07 0-2.86zM5.41 20L4 18.59l7.72-7.72 1.47 1.35L5.41 20z\"/>\n",
              "  </svg>\n",
              "      </button>\n",
              "      \n",
              "  <style>\n",
              "    .colab-df-container {\n",
              "      display:flex;\n",
              "      flex-wrap:wrap;\n",
              "      gap: 12px;\n",
              "    }\n",
              "\n",
              "    .colab-df-convert {\n",
              "      background-color: #E8F0FE;\n",
              "      border: none;\n",
              "      border-radius: 50%;\n",
              "      cursor: pointer;\n",
              "      display: none;\n",
              "      fill: #1967D2;\n",
              "      height: 32px;\n",
              "      padding: 0 0 0 0;\n",
              "      width: 32px;\n",
              "    }\n",
              "\n",
              "    .colab-df-convert:hover {\n",
              "      background-color: #E2EBFA;\n",
              "      box-shadow: 0px 1px 2px rgba(60, 64, 67, 0.3), 0px 1px 3px 1px rgba(60, 64, 67, 0.15);\n",
              "      fill: #174EA6;\n",
              "    }\n",
              "\n",
              "    [theme=dark] .colab-df-convert {\n",
              "      background-color: #3B4455;\n",
              "      fill: #D2E3FC;\n",
              "    }\n",
              "\n",
              "    [theme=dark] .colab-df-convert:hover {\n",
              "      background-color: #434B5C;\n",
              "      box-shadow: 0px 1px 3px 1px rgba(0, 0, 0, 0.15);\n",
              "      filter: drop-shadow(0px 1px 2px rgba(0, 0, 0, 0.3));\n",
              "      fill: #FFFFFF;\n",
              "    }\n",
              "  </style>\n",
              "\n",
              "      <script>\n",
              "        const buttonEl =\n",
              "          document.querySelector('#df-4f744956-8791-46c6-ba7b-e4780c46c077 button.colab-df-convert');\n",
              "        buttonEl.style.display =\n",
              "          google.colab.kernel.accessAllowed ? 'block' : 'none';\n",
              "\n",
              "        async function convertToInteractive(key) {\n",
              "          const element = document.querySelector('#df-4f744956-8791-46c6-ba7b-e4780c46c077');\n",
              "          const dataTable =\n",
              "            await google.colab.kernel.invokeFunction('convertToInteractive',\n",
              "                                                     [key], {});\n",
              "          if (!dataTable) return;\n",
              "\n",
              "          const docLinkHtml = 'Like what you see? Visit the ' +\n",
              "            '<a target=\"_blank\" href=https://colab.research.google.com/notebooks/data_table.ipynb>data table notebook</a>'\n",
              "            + ' to learn more about interactive tables.';\n",
              "          element.innerHTML = '';\n",
              "          dataTable['output_type'] = 'display_data';\n",
              "          await google.colab.output.renderOutput(dataTable, element);\n",
              "          const docLink = document.createElement('div');\n",
              "          docLink.innerHTML = docLinkHtml;\n",
              "          element.appendChild(docLink);\n",
              "        }\n",
              "      </script>\n",
              "    </div>\n",
              "  </div>\n",
              "  "
            ]
          },
          "metadata": {},
          "execution_count": 4
        }
      ]
    },
    {
      "cell_type": "code",
      "source": [
        "def reduce_mem_usage(df):\n",
        "\n",
        "    start_mem = df.memory_usage().sum() / 1024**2\n",
        "    print('Memory usage of dataframe is {:.2f} MB'.format(start_mem))\n",
        "    \n",
        "    for col in df.columns:\n",
        "        col_type = df[col].dtype\n",
        "        \n",
        "        if col_type != object:\n",
        "            c_min = df[col].min()\n",
        "            c_max = df[col].max()\n",
        "            if str(col_type)[:3] == 'int':\n",
        "                if c_min > np.iinfo(np.int8).min and c_max < np.iinfo(np.int8).max:\n",
        "                    df[col] = df[col].astype(np.int8)\n",
        "                elif c_min > np.iinfo(np.int16).min and c_max < np.iinfo(np.int16).max:\n",
        "                                      df[col] = df[col].astype(np.int32)\n",
        "                elif c_min > np.iinfo(np.int64).min and c_max < np.iinfo(np.int64).max:\n",
        "                    df[col] = df[col].astype(np.int64)  \n",
        "            else:\n",
        "                if c_min > np.finfo(np.float16).min and c_max < np.finfo(np.float16).max:\n",
        "                    df[col] = df[col].astype(np.float16)\n",
        "                elif c_min > np.finfo(np.float32).min and c_max < np.finfo(np.float32).max:\n",
        "                    df[col] = df[col].astype(np.float32)\n",
        "                else:\n",
        "                    df[col] = df[col].astype(np.float64)\n",
        "        else:\n",
        "            df[col] = df[col].astype('category')\n",
        "\n",
        "    end_mem = df.memory_usage().sum() / 1024**2\n",
        "    print('Memory usage after optimization is: {:.2f} MB'.format(end_mem))\n",
        "    print('Decreased by {:.1f}%'.format(100 * (start_mem - end_mem) / start_mem))\n",
        "    \n",
        "    return df"
      ],
      "metadata": {
        "id": "1OFqySJ7AL5o"
      },
      "execution_count": 5,
      "outputs": []
    },
    {
      "cell_type": "code",
      "source": [
        "data = reduce_mem_usage(data)"
      ],
      "metadata": {
        "colab": {
          "base_uri": "https://localhost:8080/"
        },
        "id": "8aaMtbCxARVT",
        "outputId": "e2c7d599-d8bb-42ce-fb8d-ec8655ca77c9"
      },
      "execution_count": 6,
      "outputs": [
        {
          "output_type": "stream",
          "name": "stdout",
          "text": [
            "Memory usage of dataframe is 812.32 MB\n",
            "Memory usage after optimization is: 217.62 MB\n",
            "Decreased by 73.2%\n"
          ]
        }
      ]
    },
    {
      "cell_type": "markdown",
      "source": [
        "##Preprocessing Steps 1: Checking Null Values"
      ],
      "metadata": {
        "id": "40bRBijbK6Ai"
      }
    },
    {
      "cell_type": "code",
      "source": [
        "Sum = data.isnull().sum().sort_values(ascending=False)\n",
        "percent = ((data.isnull().sum()/data.isnull().count())*100).sort_values(ascending=False)\n",
        "missing_data = pd.concat([Sum, percent], axis=1, keys=['Sum', 'Percent'])\n",
        "missing_data"
      ],
      "metadata": {
        "colab": {
          "base_uri": "https://localhost:8080/",
          "height": 424
        },
        "id": "127Bxn7MfDUu",
        "outputId": "a39d21e2-7be2-4beb-8ed6-c384c8abbcc0"
      },
      "execution_count": 7,
      "outputs": [
        {
          "output_type": "execute_result",
          "data": {
            "text/plain": [
              "                                         Sum   Percent\n",
              "ST114_VARWdTensVis                      1101  0.486015\n",
              "ST114_VARLmpRun                         1101  0.486015\n",
              "ST114_VARGesamtZeit                     1101  0.486015\n",
              "ST114_VARGapMin                         1101  0.486015\n",
              "ST114_VARGapMax                         1101  0.486015\n",
              "...                                      ...       ...\n",
              "ST110_VARExtr_3_HeizungZone_8_Regler_Y    62  0.027369\n",
              "ST110_VARExtr_3_HeizungZone_8_Regler_X    62  0.027369\n",
              "ST110_VARExtr_0_HeizungZone_3_SollTemp    62  0.027369\n",
              "ST0_VARActAuftrag                          0  0.000000\n",
              "Datum                                      0  0.000000\n",
              "\n",
              "[470 rows x 2 columns]"
            ],
            "text/html": [
              "\n",
              "  <div id=\"df-8a38f616-1e77-4e6d-a8b4-27e108a44ffb\">\n",
              "    <div class=\"colab-df-container\">\n",
              "      <div>\n",
              "<style scoped>\n",
              "    .dataframe tbody tr th:only-of-type {\n",
              "        vertical-align: middle;\n",
              "    }\n",
              "\n",
              "    .dataframe tbody tr th {\n",
              "        vertical-align: top;\n",
              "    }\n",
              "\n",
              "    .dataframe thead th {\n",
              "        text-align: right;\n",
              "    }\n",
              "</style>\n",
              "<table border=\"1\" class=\"dataframe\">\n",
              "  <thead>\n",
              "    <tr style=\"text-align: right;\">\n",
              "      <th></th>\n",
              "      <th>Sum</th>\n",
              "      <th>Percent</th>\n",
              "    </tr>\n",
              "  </thead>\n",
              "  <tbody>\n",
              "    <tr>\n",
              "      <th>ST114_VARWdTensVis</th>\n",
              "      <td>1101</td>\n",
              "      <td>0.486015</td>\n",
              "    </tr>\n",
              "    <tr>\n",
              "      <th>ST114_VARLmpRun</th>\n",
              "      <td>1101</td>\n",
              "      <td>0.486015</td>\n",
              "    </tr>\n",
              "    <tr>\n",
              "      <th>ST114_VARGesamtZeit</th>\n",
              "      <td>1101</td>\n",
              "      <td>0.486015</td>\n",
              "    </tr>\n",
              "    <tr>\n",
              "      <th>ST114_VARGapMin</th>\n",
              "      <td>1101</td>\n",
              "      <td>0.486015</td>\n",
              "    </tr>\n",
              "    <tr>\n",
              "      <th>ST114_VARGapMax</th>\n",
              "      <td>1101</td>\n",
              "      <td>0.486015</td>\n",
              "    </tr>\n",
              "    <tr>\n",
              "      <th>...</th>\n",
              "      <td>...</td>\n",
              "      <td>...</td>\n",
              "    </tr>\n",
              "    <tr>\n",
              "      <th>ST110_VARExtr_3_HeizungZone_8_Regler_Y</th>\n",
              "      <td>62</td>\n",
              "      <td>0.027369</td>\n",
              "    </tr>\n",
              "    <tr>\n",
              "      <th>ST110_VARExtr_3_HeizungZone_8_Regler_X</th>\n",
              "      <td>62</td>\n",
              "      <td>0.027369</td>\n",
              "    </tr>\n",
              "    <tr>\n",
              "      <th>ST110_VARExtr_0_HeizungZone_3_SollTemp</th>\n",
              "      <td>62</td>\n",
              "      <td>0.027369</td>\n",
              "    </tr>\n",
              "    <tr>\n",
              "      <th>ST0_VARActAuftrag</th>\n",
              "      <td>0</td>\n",
              "      <td>0.000000</td>\n",
              "    </tr>\n",
              "    <tr>\n",
              "      <th>Datum</th>\n",
              "      <td>0</td>\n",
              "      <td>0.000000</td>\n",
              "    </tr>\n",
              "  </tbody>\n",
              "</table>\n",
              "<p>470 rows × 2 columns</p>\n",
              "</div>\n",
              "      <button class=\"colab-df-convert\" onclick=\"convertToInteractive('df-8a38f616-1e77-4e6d-a8b4-27e108a44ffb')\"\n",
              "              title=\"Convert this dataframe to an interactive table.\"\n",
              "              style=\"display:none;\">\n",
              "        \n",
              "  <svg xmlns=\"http://www.w3.org/2000/svg\" height=\"24px\"viewBox=\"0 0 24 24\"\n",
              "       width=\"24px\">\n",
              "    <path d=\"M0 0h24v24H0V0z\" fill=\"none\"/>\n",
              "    <path d=\"M18.56 5.44l.94 2.06.94-2.06 2.06-.94-2.06-.94-.94-2.06-.94 2.06-2.06.94zm-11 1L8.5 8.5l.94-2.06 2.06-.94-2.06-.94L8.5 2.5l-.94 2.06-2.06.94zm10 10l.94 2.06.94-2.06 2.06-.94-2.06-.94-.94-2.06-.94 2.06-2.06.94z\"/><path d=\"M17.41 7.96l-1.37-1.37c-.4-.4-.92-.59-1.43-.59-.52 0-1.04.2-1.43.59L10.3 9.45l-7.72 7.72c-.78.78-.78 2.05 0 2.83L4 21.41c.39.39.9.59 1.41.59.51 0 1.02-.2 1.41-.59l7.78-7.78 2.81-2.81c.8-.78.8-2.07 0-2.86zM5.41 20L4 18.59l7.72-7.72 1.47 1.35L5.41 20z\"/>\n",
              "  </svg>\n",
              "      </button>\n",
              "      \n",
              "  <style>\n",
              "    .colab-df-container {\n",
              "      display:flex;\n",
              "      flex-wrap:wrap;\n",
              "      gap: 12px;\n",
              "    }\n",
              "\n",
              "    .colab-df-convert {\n",
              "      background-color: #E8F0FE;\n",
              "      border: none;\n",
              "      border-radius: 50%;\n",
              "      cursor: pointer;\n",
              "      display: none;\n",
              "      fill: #1967D2;\n",
              "      height: 32px;\n",
              "      padding: 0 0 0 0;\n",
              "      width: 32px;\n",
              "    }\n",
              "\n",
              "    .colab-df-convert:hover {\n",
              "      background-color: #E2EBFA;\n",
              "      box-shadow: 0px 1px 2px rgba(60, 64, 67, 0.3), 0px 1px 3px 1px rgba(60, 64, 67, 0.15);\n",
              "      fill: #174EA6;\n",
              "    }\n",
              "\n",
              "    [theme=dark] .colab-df-convert {\n",
              "      background-color: #3B4455;\n",
              "      fill: #D2E3FC;\n",
              "    }\n",
              "\n",
              "    [theme=dark] .colab-df-convert:hover {\n",
              "      background-color: #434B5C;\n",
              "      box-shadow: 0px 1px 3px 1px rgba(0, 0, 0, 0.15);\n",
              "      filter: drop-shadow(0px 1px 2px rgba(0, 0, 0, 0.3));\n",
              "      fill: #FFFFFF;\n",
              "    }\n",
              "  </style>\n",
              "\n",
              "      <script>\n",
              "        const buttonEl =\n",
              "          document.querySelector('#df-8a38f616-1e77-4e6d-a8b4-27e108a44ffb button.colab-df-convert');\n",
              "        buttonEl.style.display =\n",
              "          google.colab.kernel.accessAllowed ? 'block' : 'none';\n",
              "\n",
              "        async function convertToInteractive(key) {\n",
              "          const element = document.querySelector('#df-8a38f616-1e77-4e6d-a8b4-27e108a44ffb');\n",
              "          const dataTable =\n",
              "            await google.colab.kernel.invokeFunction('convertToInteractive',\n",
              "                                                     [key], {});\n",
              "          if (!dataTable) return;\n",
              "\n",
              "          const docLinkHtml = 'Like what you see? Visit the ' +\n",
              "            '<a target=\"_blank\" href=https://colab.research.google.com/notebooks/data_table.ipynb>data table notebook</a>'\n",
              "            + ' to learn more about interactive tables.';\n",
              "          element.innerHTML = '';\n",
              "          dataTable['output_type'] = 'display_data';\n",
              "          await google.colab.output.renderOutput(dataTable, element);\n",
              "          const docLink = document.createElement('div');\n",
              "          docLink.innerHTML = docLinkHtml;\n",
              "          element.appendChild(docLink);\n",
              "        }\n",
              "      </script>\n",
              "    </div>\n",
              "  </div>\n",
              "  "
            ]
          },
          "metadata": {},
          "execution_count": 7
        }
      ]
    },
    {
      "cell_type": "code",
      "source": [
        "data['Datum'] = pd.to_datetime(data['Datum']).dt.date\n",
        "data.head()"
      ],
      "metadata": {
        "colab": {
          "base_uri": "https://localhost:8080/",
          "height": 386
        },
        "id": "0PyHm3QZQFbS",
        "outputId": "71505625-ec97-469d-f8b2-ce12636865a6"
      },
      "execution_count": 8,
      "outputs": [
        {
          "output_type": "execute_result",
          "data": {
            "text/plain": [
              "        Datum  ST0_VARActAuftrag  ST110_VARExtr_0_HeizungZone_3_Regler_Y  \\\n",
              "0  2018-06-25                0.0                                     9.0   \n",
              "1  2018-06-25                0.0                                     9.0   \n",
              "2  2018-06-25                0.0                                     9.0   \n",
              "3  2018-06-25                0.0                                    10.0   \n",
              "4  2018-06-25                0.0                                    11.0   \n",
              "\n",
              "   ST110_VARExtr_0_HeizungZone_3_SollTemp  \\\n",
              "0                                   190.0   \n",
              "1                                   190.0   \n",
              "2                                   190.0   \n",
              "3                                   190.0   \n",
              "4                                   190.0   \n",
              "\n",
              "   ST110_VARExtr_0_HeizungZone_4_Konfig  \\\n",
              "0                                   1.0   \n",
              "1                                   1.0   \n",
              "2                                   1.0   \n",
              "3                                   1.0   \n",
              "4                                   1.0   \n",
              "\n",
              "   ST110_VARExtr_0_HeizungZone_4_Regler_X  \\\n",
              "0                                   193.0   \n",
              "1                                   193.0   \n",
              "2                                   193.0   \n",
              "3                                   193.0   \n",
              "4                                   193.0   \n",
              "\n",
              "   ST110_VARExtr_0_HeizungZone_4_Regler_Y  \\\n",
              "0                                     0.0   \n",
              "1                                     0.0   \n",
              "2                                     0.0   \n",
              "3                                     0.0   \n",
              "4                                     0.0   \n",
              "\n",
              "   ST110_VARExtr_0_HeizungZone_4_SollTemp  \\\n",
              "0                                   190.0   \n",
              "1                                   190.0   \n",
              "2                                   190.0   \n",
              "3                                   190.0   \n",
              "4                                   190.0   \n",
              "\n",
              "   ST110_VARExtr_0_HeizungZone_5_Konfig  \\\n",
              "0                                   1.0   \n",
              "1                                   1.0   \n",
              "2                                   1.0   \n",
              "3                                   1.0   \n",
              "4                                   1.0   \n",
              "\n",
              "   ST110_VARExtr_0_HeizungZone_5_Regler_X  ...  ST114_VARTensPlusSp  \\\n",
              "0                                   190.0  ...                 21.0   \n",
              "1                                   190.0  ...                 21.0   \n",
              "2                                   190.0  ...                 21.0   \n",
              "3                                   190.0  ...                 21.0   \n",
              "4                                   190.0  ...                 21.0   \n",
              "\n",
              "   ST114_VARTotalLen  ST114_VARTotalRolls  ST114_VARWdCloseCmd  \\\n",
              "0          3544103.0               2174.0                  1.0   \n",
              "1          3544103.0               2174.0                  1.0   \n",
              "2          3544103.0               2174.0                  1.0   \n",
              "3          3544103.0               2174.0                  1.0   \n",
              "4          3544103.0               2174.0                  1.0   \n",
              "\n",
              "   ST114_VARWdSpeedHMI  ST114_VARWdSpSpeed  ST114_VARWdSpTens  \\\n",
              "0                 78.0                 0.0               50.0   \n",
              "1                 81.0                 0.0               50.0   \n",
              "2                 81.0                 0.0               50.0   \n",
              "3                 81.0                 0.0               50.0   \n",
              "4                 81.0                 0.0               50.0   \n",
              "\n",
              "   ST114_VARWdTapeNum  ST114_VARWdTapeReductVal  ST114_VARWdTensVis  \n",
              "0                 5.0                      15.0                53.0  \n",
              "1                 5.0                      15.0                49.0  \n",
              "2                 5.0                      15.0                48.0  \n",
              "3                 5.0                      15.0                50.0  \n",
              "4                 5.0                      15.0                51.0  \n",
              "\n",
              "[5 rows x 470 columns]"
            ],
            "text/html": [
              "\n",
              "  <div id=\"df-226ae985-1df1-445b-a8e6-615ab31ed6c7\">\n",
              "    <div class=\"colab-df-container\">\n",
              "      <div>\n",
              "<style scoped>\n",
              "    .dataframe tbody tr th:only-of-type {\n",
              "        vertical-align: middle;\n",
              "    }\n",
              "\n",
              "    .dataframe tbody tr th {\n",
              "        vertical-align: top;\n",
              "    }\n",
              "\n",
              "    .dataframe thead th {\n",
              "        text-align: right;\n",
              "    }\n",
              "</style>\n",
              "<table border=\"1\" class=\"dataframe\">\n",
              "  <thead>\n",
              "    <tr style=\"text-align: right;\">\n",
              "      <th></th>\n",
              "      <th>Datum</th>\n",
              "      <th>ST0_VARActAuftrag</th>\n",
              "      <th>ST110_VARExtr_0_HeizungZone_3_Regler_Y</th>\n",
              "      <th>ST110_VARExtr_0_HeizungZone_3_SollTemp</th>\n",
              "      <th>ST110_VARExtr_0_HeizungZone_4_Konfig</th>\n",
              "      <th>ST110_VARExtr_0_HeizungZone_4_Regler_X</th>\n",
              "      <th>ST110_VARExtr_0_HeizungZone_4_Regler_Y</th>\n",
              "      <th>ST110_VARExtr_0_HeizungZone_4_SollTemp</th>\n",
              "      <th>ST110_VARExtr_0_HeizungZone_5_Konfig</th>\n",
              "      <th>ST110_VARExtr_0_HeizungZone_5_Regler_X</th>\n",
              "      <th>...</th>\n",
              "      <th>ST114_VARTensPlusSp</th>\n",
              "      <th>ST114_VARTotalLen</th>\n",
              "      <th>ST114_VARTotalRolls</th>\n",
              "      <th>ST114_VARWdCloseCmd</th>\n",
              "      <th>ST114_VARWdSpeedHMI</th>\n",
              "      <th>ST114_VARWdSpSpeed</th>\n",
              "      <th>ST114_VARWdSpTens</th>\n",
              "      <th>ST114_VARWdTapeNum</th>\n",
              "      <th>ST114_VARWdTapeReductVal</th>\n",
              "      <th>ST114_VARWdTensVis</th>\n",
              "    </tr>\n",
              "  </thead>\n",
              "  <tbody>\n",
              "    <tr>\n",
              "      <th>0</th>\n",
              "      <td>2018-06-25</td>\n",
              "      <td>0.0</td>\n",
              "      <td>9.0</td>\n",
              "      <td>190.0</td>\n",
              "      <td>1.0</td>\n",
              "      <td>193.0</td>\n",
              "      <td>0.0</td>\n",
              "      <td>190.0</td>\n",
              "      <td>1.0</td>\n",
              "      <td>190.0</td>\n",
              "      <td>...</td>\n",
              "      <td>21.0</td>\n",
              "      <td>3544103.0</td>\n",
              "      <td>2174.0</td>\n",
              "      <td>1.0</td>\n",
              "      <td>78.0</td>\n",
              "      <td>0.0</td>\n",
              "      <td>50.0</td>\n",
              "      <td>5.0</td>\n",
              "      <td>15.0</td>\n",
              "      <td>53.0</td>\n",
              "    </tr>\n",
              "    <tr>\n",
              "      <th>1</th>\n",
              "      <td>2018-06-25</td>\n",
              "      <td>0.0</td>\n",
              "      <td>9.0</td>\n",
              "      <td>190.0</td>\n",
              "      <td>1.0</td>\n",
              "      <td>193.0</td>\n",
              "      <td>0.0</td>\n",
              "      <td>190.0</td>\n",
              "      <td>1.0</td>\n",
              "      <td>190.0</td>\n",
              "      <td>...</td>\n",
              "      <td>21.0</td>\n",
              "      <td>3544103.0</td>\n",
              "      <td>2174.0</td>\n",
              "      <td>1.0</td>\n",
              "      <td>81.0</td>\n",
              "      <td>0.0</td>\n",
              "      <td>50.0</td>\n",
              "      <td>5.0</td>\n",
              "      <td>15.0</td>\n",
              "      <td>49.0</td>\n",
              "    </tr>\n",
              "    <tr>\n",
              "      <th>2</th>\n",
              "      <td>2018-06-25</td>\n",
              "      <td>0.0</td>\n",
              "      <td>9.0</td>\n",
              "      <td>190.0</td>\n",
              "      <td>1.0</td>\n",
              "      <td>193.0</td>\n",
              "      <td>0.0</td>\n",
              "      <td>190.0</td>\n",
              "      <td>1.0</td>\n",
              "      <td>190.0</td>\n",
              "      <td>...</td>\n",
              "      <td>21.0</td>\n",
              "      <td>3544103.0</td>\n",
              "      <td>2174.0</td>\n",
              "      <td>1.0</td>\n",
              "      <td>81.0</td>\n",
              "      <td>0.0</td>\n",
              "      <td>50.0</td>\n",
              "      <td>5.0</td>\n",
              "      <td>15.0</td>\n",
              "      <td>48.0</td>\n",
              "    </tr>\n",
              "    <tr>\n",
              "      <th>3</th>\n",
              "      <td>2018-06-25</td>\n",
              "      <td>0.0</td>\n",
              "      <td>10.0</td>\n",
              "      <td>190.0</td>\n",
              "      <td>1.0</td>\n",
              "      <td>193.0</td>\n",
              "      <td>0.0</td>\n",
              "      <td>190.0</td>\n",
              "      <td>1.0</td>\n",
              "      <td>190.0</td>\n",
              "      <td>...</td>\n",
              "      <td>21.0</td>\n",
              "      <td>3544103.0</td>\n",
              "      <td>2174.0</td>\n",
              "      <td>1.0</td>\n",
              "      <td>81.0</td>\n",
              "      <td>0.0</td>\n",
              "      <td>50.0</td>\n",
              "      <td>5.0</td>\n",
              "      <td>15.0</td>\n",
              "      <td>50.0</td>\n",
              "    </tr>\n",
              "    <tr>\n",
              "      <th>4</th>\n",
              "      <td>2018-06-25</td>\n",
              "      <td>0.0</td>\n",
              "      <td>11.0</td>\n",
              "      <td>190.0</td>\n",
              "      <td>1.0</td>\n",
              "      <td>193.0</td>\n",
              "      <td>0.0</td>\n",
              "      <td>190.0</td>\n",
              "      <td>1.0</td>\n",
              "      <td>190.0</td>\n",
              "      <td>...</td>\n",
              "      <td>21.0</td>\n",
              "      <td>3544103.0</td>\n",
              "      <td>2174.0</td>\n",
              "      <td>1.0</td>\n",
              "      <td>81.0</td>\n",
              "      <td>0.0</td>\n",
              "      <td>50.0</td>\n",
              "      <td>5.0</td>\n",
              "      <td>15.0</td>\n",
              "      <td>51.0</td>\n",
              "    </tr>\n",
              "  </tbody>\n",
              "</table>\n",
              "<p>5 rows × 470 columns</p>\n",
              "</div>\n",
              "      <button class=\"colab-df-convert\" onclick=\"convertToInteractive('df-226ae985-1df1-445b-a8e6-615ab31ed6c7')\"\n",
              "              title=\"Convert this dataframe to an interactive table.\"\n",
              "              style=\"display:none;\">\n",
              "        \n",
              "  <svg xmlns=\"http://www.w3.org/2000/svg\" height=\"24px\"viewBox=\"0 0 24 24\"\n",
              "       width=\"24px\">\n",
              "    <path d=\"M0 0h24v24H0V0z\" fill=\"none\"/>\n",
              "    <path d=\"M18.56 5.44l.94 2.06.94-2.06 2.06-.94-2.06-.94-.94-2.06-.94 2.06-2.06.94zm-11 1L8.5 8.5l.94-2.06 2.06-.94-2.06-.94L8.5 2.5l-.94 2.06-2.06.94zm10 10l.94 2.06.94-2.06 2.06-.94-2.06-.94-.94-2.06-.94 2.06-2.06.94z\"/><path d=\"M17.41 7.96l-1.37-1.37c-.4-.4-.92-.59-1.43-.59-.52 0-1.04.2-1.43.59L10.3 9.45l-7.72 7.72c-.78.78-.78 2.05 0 2.83L4 21.41c.39.39.9.59 1.41.59.51 0 1.02-.2 1.41-.59l7.78-7.78 2.81-2.81c.8-.78.8-2.07 0-2.86zM5.41 20L4 18.59l7.72-7.72 1.47 1.35L5.41 20z\"/>\n",
              "  </svg>\n",
              "      </button>\n",
              "      \n",
              "  <style>\n",
              "    .colab-df-container {\n",
              "      display:flex;\n",
              "      flex-wrap:wrap;\n",
              "      gap: 12px;\n",
              "    }\n",
              "\n",
              "    .colab-df-convert {\n",
              "      background-color: #E8F0FE;\n",
              "      border: none;\n",
              "      border-radius: 50%;\n",
              "      cursor: pointer;\n",
              "      display: none;\n",
              "      fill: #1967D2;\n",
              "      height: 32px;\n",
              "      padding: 0 0 0 0;\n",
              "      width: 32px;\n",
              "    }\n",
              "\n",
              "    .colab-df-convert:hover {\n",
              "      background-color: #E2EBFA;\n",
              "      box-shadow: 0px 1px 2px rgba(60, 64, 67, 0.3), 0px 1px 3px 1px rgba(60, 64, 67, 0.15);\n",
              "      fill: #174EA6;\n",
              "    }\n",
              "\n",
              "    [theme=dark] .colab-df-convert {\n",
              "      background-color: #3B4455;\n",
              "      fill: #D2E3FC;\n",
              "    }\n",
              "\n",
              "    [theme=dark] .colab-df-convert:hover {\n",
              "      background-color: #434B5C;\n",
              "      box-shadow: 0px 1px 3px 1px rgba(0, 0, 0, 0.15);\n",
              "      filter: drop-shadow(0px 1px 2px rgba(0, 0, 0, 0.3));\n",
              "      fill: #FFFFFF;\n",
              "    }\n",
              "  </style>\n",
              "\n",
              "      <script>\n",
              "        const buttonEl =\n",
              "          document.querySelector('#df-226ae985-1df1-445b-a8e6-615ab31ed6c7 button.colab-df-convert');\n",
              "        buttonEl.style.display =\n",
              "          google.colab.kernel.accessAllowed ? 'block' : 'none';\n",
              "\n",
              "        async function convertToInteractive(key) {\n",
              "          const element = document.querySelector('#df-226ae985-1df1-445b-a8e6-615ab31ed6c7');\n",
              "          const dataTable =\n",
              "            await google.colab.kernel.invokeFunction('convertToInteractive',\n",
              "                                                     [key], {});\n",
              "          if (!dataTable) return;\n",
              "\n",
              "          const docLinkHtml = 'Like what you see? Visit the ' +\n",
              "            '<a target=\"_blank\" href=https://colab.research.google.com/notebooks/data_table.ipynb>data table notebook</a>'\n",
              "            + ' to learn more about interactive tables.';\n",
              "          element.innerHTML = '';\n",
              "          dataTable['output_type'] = 'display_data';\n",
              "          await google.colab.output.renderOutput(dataTable, element);\n",
              "          const docLink = document.createElement('div');\n",
              "          docLink.innerHTML = docLinkHtml;\n",
              "          element.appendChild(docLink);\n",
              "        }\n",
              "      </script>\n",
              "    </div>\n",
              "  </div>\n",
              "  "
            ]
          },
          "metadata": {},
          "execution_count": 8
        }
      ]
    },
    {
      "cell_type": "code",
      "source": [
        "from datetime import datetime\n",
        "\n",
        "data['year'] = pd.to_datetime(data['Datum']).dt.strftime('%Y')\n",
        "data['month'] = pd.DatetimeIndex(data['Datum']).month\n",
        "data['date'] = pd.to_datetime(data['Datum']).dt.strftime('%d')\n",
        "\n",
        "data.head()"
      ],
      "metadata": {
        "colab": {
          "base_uri": "https://localhost:8080/",
          "height": 493
        },
        "id": "M2IMwkLAmoKi",
        "outputId": "44594734-7fc1-45a2-b21c-96b27edc1143"
      },
      "execution_count": 9,
      "outputs": [
        {
          "output_type": "stream",
          "name": "stderr",
          "text": [
            "/usr/local/lib/python3.7/dist-packages/ipykernel_launcher.py:3: PerformanceWarning: DataFrame is highly fragmented.  This is usually the result of calling `frame.insert` many times, which has poor performance.  Consider joining all columns at once using pd.concat(axis=1) instead.  To get a de-fragmented frame, use `newframe = frame.copy()`\n",
            "  This is separate from the ipykernel package so we can avoid doing imports until\n",
            "/usr/local/lib/python3.7/dist-packages/ipykernel_launcher.py:4: PerformanceWarning: DataFrame is highly fragmented.  This is usually the result of calling `frame.insert` many times, which has poor performance.  Consider joining all columns at once using pd.concat(axis=1) instead.  To get a de-fragmented frame, use `newframe = frame.copy()`\n",
            "  after removing the cwd from sys.path.\n",
            "/usr/local/lib/python3.7/dist-packages/ipykernel_launcher.py:5: PerformanceWarning: DataFrame is highly fragmented.  This is usually the result of calling `frame.insert` many times, which has poor performance.  Consider joining all columns at once using pd.concat(axis=1) instead.  To get a de-fragmented frame, use `newframe = frame.copy()`\n",
            "  \"\"\"\n"
          ]
        },
        {
          "output_type": "execute_result",
          "data": {
            "text/plain": [
              "        Datum  ST0_VARActAuftrag  ST110_VARExtr_0_HeizungZone_3_Regler_Y  \\\n",
              "0  2018-06-25                0.0                                     9.0   \n",
              "1  2018-06-25                0.0                                     9.0   \n",
              "2  2018-06-25                0.0                                     9.0   \n",
              "3  2018-06-25                0.0                                    10.0   \n",
              "4  2018-06-25                0.0                                    11.0   \n",
              "\n",
              "   ST110_VARExtr_0_HeizungZone_3_SollTemp  \\\n",
              "0                                   190.0   \n",
              "1                                   190.0   \n",
              "2                                   190.0   \n",
              "3                                   190.0   \n",
              "4                                   190.0   \n",
              "\n",
              "   ST110_VARExtr_0_HeizungZone_4_Konfig  \\\n",
              "0                                   1.0   \n",
              "1                                   1.0   \n",
              "2                                   1.0   \n",
              "3                                   1.0   \n",
              "4                                   1.0   \n",
              "\n",
              "   ST110_VARExtr_0_HeizungZone_4_Regler_X  \\\n",
              "0                                   193.0   \n",
              "1                                   193.0   \n",
              "2                                   193.0   \n",
              "3                                   193.0   \n",
              "4                                   193.0   \n",
              "\n",
              "   ST110_VARExtr_0_HeizungZone_4_Regler_Y  \\\n",
              "0                                     0.0   \n",
              "1                                     0.0   \n",
              "2                                     0.0   \n",
              "3                                     0.0   \n",
              "4                                     0.0   \n",
              "\n",
              "   ST110_VARExtr_0_HeizungZone_4_SollTemp  \\\n",
              "0                                   190.0   \n",
              "1                                   190.0   \n",
              "2                                   190.0   \n",
              "3                                   190.0   \n",
              "4                                   190.0   \n",
              "\n",
              "   ST110_VARExtr_0_HeizungZone_5_Konfig  \\\n",
              "0                                   1.0   \n",
              "1                                   1.0   \n",
              "2                                   1.0   \n",
              "3                                   1.0   \n",
              "4                                   1.0   \n",
              "\n",
              "   ST110_VARExtr_0_HeizungZone_5_Regler_X  ...  ST114_VARWdCloseCmd  \\\n",
              "0                                   190.0  ...                  1.0   \n",
              "1                                   190.0  ...                  1.0   \n",
              "2                                   190.0  ...                  1.0   \n",
              "3                                   190.0  ...                  1.0   \n",
              "4                                   190.0  ...                  1.0   \n",
              "\n",
              "   ST114_VARWdSpeedHMI  ST114_VARWdSpSpeed  ST114_VARWdSpTens  \\\n",
              "0                 78.0                 0.0               50.0   \n",
              "1                 81.0                 0.0               50.0   \n",
              "2                 81.0                 0.0               50.0   \n",
              "3                 81.0                 0.0               50.0   \n",
              "4                 81.0                 0.0               50.0   \n",
              "\n",
              "   ST114_VARWdTapeNum  ST114_VARWdTapeReductVal  ST114_VARWdTensVis  year  \\\n",
              "0                 5.0                      15.0                53.0  2018   \n",
              "1                 5.0                      15.0                49.0  2018   \n",
              "2                 5.0                      15.0                48.0  2018   \n",
              "3                 5.0                      15.0                50.0  2018   \n",
              "4                 5.0                      15.0                51.0  2018   \n",
              "\n",
              "   month  date  \n",
              "0      6    25  \n",
              "1      6    25  \n",
              "2      6    25  \n",
              "3      6    25  \n",
              "4      6    25  \n",
              "\n",
              "[5 rows x 473 columns]"
            ],
            "text/html": [
              "\n",
              "  <div id=\"df-9794f1f9-1eea-421c-a2b6-ad58ce1e0b9a\">\n",
              "    <div class=\"colab-df-container\">\n",
              "      <div>\n",
              "<style scoped>\n",
              "    .dataframe tbody tr th:only-of-type {\n",
              "        vertical-align: middle;\n",
              "    }\n",
              "\n",
              "    .dataframe tbody tr th {\n",
              "        vertical-align: top;\n",
              "    }\n",
              "\n",
              "    .dataframe thead th {\n",
              "        text-align: right;\n",
              "    }\n",
              "</style>\n",
              "<table border=\"1\" class=\"dataframe\">\n",
              "  <thead>\n",
              "    <tr style=\"text-align: right;\">\n",
              "      <th></th>\n",
              "      <th>Datum</th>\n",
              "      <th>ST0_VARActAuftrag</th>\n",
              "      <th>ST110_VARExtr_0_HeizungZone_3_Regler_Y</th>\n",
              "      <th>ST110_VARExtr_0_HeizungZone_3_SollTemp</th>\n",
              "      <th>ST110_VARExtr_0_HeizungZone_4_Konfig</th>\n",
              "      <th>ST110_VARExtr_0_HeizungZone_4_Regler_X</th>\n",
              "      <th>ST110_VARExtr_0_HeizungZone_4_Regler_Y</th>\n",
              "      <th>ST110_VARExtr_0_HeizungZone_4_SollTemp</th>\n",
              "      <th>ST110_VARExtr_0_HeizungZone_5_Konfig</th>\n",
              "      <th>ST110_VARExtr_0_HeizungZone_5_Regler_X</th>\n",
              "      <th>...</th>\n",
              "      <th>ST114_VARWdCloseCmd</th>\n",
              "      <th>ST114_VARWdSpeedHMI</th>\n",
              "      <th>ST114_VARWdSpSpeed</th>\n",
              "      <th>ST114_VARWdSpTens</th>\n",
              "      <th>ST114_VARWdTapeNum</th>\n",
              "      <th>ST114_VARWdTapeReductVal</th>\n",
              "      <th>ST114_VARWdTensVis</th>\n",
              "      <th>year</th>\n",
              "      <th>month</th>\n",
              "      <th>date</th>\n",
              "    </tr>\n",
              "  </thead>\n",
              "  <tbody>\n",
              "    <tr>\n",
              "      <th>0</th>\n",
              "      <td>2018-06-25</td>\n",
              "      <td>0.0</td>\n",
              "      <td>9.0</td>\n",
              "      <td>190.0</td>\n",
              "      <td>1.0</td>\n",
              "      <td>193.0</td>\n",
              "      <td>0.0</td>\n",
              "      <td>190.0</td>\n",
              "      <td>1.0</td>\n",
              "      <td>190.0</td>\n",
              "      <td>...</td>\n",
              "      <td>1.0</td>\n",
              "      <td>78.0</td>\n",
              "      <td>0.0</td>\n",
              "      <td>50.0</td>\n",
              "      <td>5.0</td>\n",
              "      <td>15.0</td>\n",
              "      <td>53.0</td>\n",
              "      <td>2018</td>\n",
              "      <td>6</td>\n",
              "      <td>25</td>\n",
              "    </tr>\n",
              "    <tr>\n",
              "      <th>1</th>\n",
              "      <td>2018-06-25</td>\n",
              "      <td>0.0</td>\n",
              "      <td>9.0</td>\n",
              "      <td>190.0</td>\n",
              "      <td>1.0</td>\n",
              "      <td>193.0</td>\n",
              "      <td>0.0</td>\n",
              "      <td>190.0</td>\n",
              "      <td>1.0</td>\n",
              "      <td>190.0</td>\n",
              "      <td>...</td>\n",
              "      <td>1.0</td>\n",
              "      <td>81.0</td>\n",
              "      <td>0.0</td>\n",
              "      <td>50.0</td>\n",
              "      <td>5.0</td>\n",
              "      <td>15.0</td>\n",
              "      <td>49.0</td>\n",
              "      <td>2018</td>\n",
              "      <td>6</td>\n",
              "      <td>25</td>\n",
              "    </tr>\n",
              "    <tr>\n",
              "      <th>2</th>\n",
              "      <td>2018-06-25</td>\n",
              "      <td>0.0</td>\n",
              "      <td>9.0</td>\n",
              "      <td>190.0</td>\n",
              "      <td>1.0</td>\n",
              "      <td>193.0</td>\n",
              "      <td>0.0</td>\n",
              "      <td>190.0</td>\n",
              "      <td>1.0</td>\n",
              "      <td>190.0</td>\n",
              "      <td>...</td>\n",
              "      <td>1.0</td>\n",
              "      <td>81.0</td>\n",
              "      <td>0.0</td>\n",
              "      <td>50.0</td>\n",
              "      <td>5.0</td>\n",
              "      <td>15.0</td>\n",
              "      <td>48.0</td>\n",
              "      <td>2018</td>\n",
              "      <td>6</td>\n",
              "      <td>25</td>\n",
              "    </tr>\n",
              "    <tr>\n",
              "      <th>3</th>\n",
              "      <td>2018-06-25</td>\n",
              "      <td>0.0</td>\n",
              "      <td>10.0</td>\n",
              "      <td>190.0</td>\n",
              "      <td>1.0</td>\n",
              "      <td>193.0</td>\n",
              "      <td>0.0</td>\n",
              "      <td>190.0</td>\n",
              "      <td>1.0</td>\n",
              "      <td>190.0</td>\n",
              "      <td>...</td>\n",
              "      <td>1.0</td>\n",
              "      <td>81.0</td>\n",
              "      <td>0.0</td>\n",
              "      <td>50.0</td>\n",
              "      <td>5.0</td>\n",
              "      <td>15.0</td>\n",
              "      <td>50.0</td>\n",
              "      <td>2018</td>\n",
              "      <td>6</td>\n",
              "      <td>25</td>\n",
              "    </tr>\n",
              "    <tr>\n",
              "      <th>4</th>\n",
              "      <td>2018-06-25</td>\n",
              "      <td>0.0</td>\n",
              "      <td>11.0</td>\n",
              "      <td>190.0</td>\n",
              "      <td>1.0</td>\n",
              "      <td>193.0</td>\n",
              "      <td>0.0</td>\n",
              "      <td>190.0</td>\n",
              "      <td>1.0</td>\n",
              "      <td>190.0</td>\n",
              "      <td>...</td>\n",
              "      <td>1.0</td>\n",
              "      <td>81.0</td>\n",
              "      <td>0.0</td>\n",
              "      <td>50.0</td>\n",
              "      <td>5.0</td>\n",
              "      <td>15.0</td>\n",
              "      <td>51.0</td>\n",
              "      <td>2018</td>\n",
              "      <td>6</td>\n",
              "      <td>25</td>\n",
              "    </tr>\n",
              "  </tbody>\n",
              "</table>\n",
              "<p>5 rows × 473 columns</p>\n",
              "</div>\n",
              "      <button class=\"colab-df-convert\" onclick=\"convertToInteractive('df-9794f1f9-1eea-421c-a2b6-ad58ce1e0b9a')\"\n",
              "              title=\"Convert this dataframe to an interactive table.\"\n",
              "              style=\"display:none;\">\n",
              "        \n",
              "  <svg xmlns=\"http://www.w3.org/2000/svg\" height=\"24px\"viewBox=\"0 0 24 24\"\n",
              "       width=\"24px\">\n",
              "    <path d=\"M0 0h24v24H0V0z\" fill=\"none\"/>\n",
              "    <path d=\"M18.56 5.44l.94 2.06.94-2.06 2.06-.94-2.06-.94-.94-2.06-.94 2.06-2.06.94zm-11 1L8.5 8.5l.94-2.06 2.06-.94-2.06-.94L8.5 2.5l-.94 2.06-2.06.94zm10 10l.94 2.06.94-2.06 2.06-.94-2.06-.94-.94-2.06-.94 2.06-2.06.94z\"/><path d=\"M17.41 7.96l-1.37-1.37c-.4-.4-.92-.59-1.43-.59-.52 0-1.04.2-1.43.59L10.3 9.45l-7.72 7.72c-.78.78-.78 2.05 0 2.83L4 21.41c.39.39.9.59 1.41.59.51 0 1.02-.2 1.41-.59l7.78-7.78 2.81-2.81c.8-.78.8-2.07 0-2.86zM5.41 20L4 18.59l7.72-7.72 1.47 1.35L5.41 20z\"/>\n",
              "  </svg>\n",
              "      </button>\n",
              "      \n",
              "  <style>\n",
              "    .colab-df-container {\n",
              "      display:flex;\n",
              "      flex-wrap:wrap;\n",
              "      gap: 12px;\n",
              "    }\n",
              "\n",
              "    .colab-df-convert {\n",
              "      background-color: #E8F0FE;\n",
              "      border: none;\n",
              "      border-radius: 50%;\n",
              "      cursor: pointer;\n",
              "      display: none;\n",
              "      fill: #1967D2;\n",
              "      height: 32px;\n",
              "      padding: 0 0 0 0;\n",
              "      width: 32px;\n",
              "    }\n",
              "\n",
              "    .colab-df-convert:hover {\n",
              "      background-color: #E2EBFA;\n",
              "      box-shadow: 0px 1px 2px rgba(60, 64, 67, 0.3), 0px 1px 3px 1px rgba(60, 64, 67, 0.15);\n",
              "      fill: #174EA6;\n",
              "    }\n",
              "\n",
              "    [theme=dark] .colab-df-convert {\n",
              "      background-color: #3B4455;\n",
              "      fill: #D2E3FC;\n",
              "    }\n",
              "\n",
              "    [theme=dark] .colab-df-convert:hover {\n",
              "      background-color: #434B5C;\n",
              "      box-shadow: 0px 1px 3px 1px rgba(0, 0, 0, 0.15);\n",
              "      filter: drop-shadow(0px 1px 2px rgba(0, 0, 0, 0.3));\n",
              "      fill: #FFFFFF;\n",
              "    }\n",
              "  </style>\n",
              "\n",
              "      <script>\n",
              "        const buttonEl =\n",
              "          document.querySelector('#df-9794f1f9-1eea-421c-a2b6-ad58ce1e0b9a button.colab-df-convert');\n",
              "        buttonEl.style.display =\n",
              "          google.colab.kernel.accessAllowed ? 'block' : 'none';\n",
              "\n",
              "        async function convertToInteractive(key) {\n",
              "          const element = document.querySelector('#df-9794f1f9-1eea-421c-a2b6-ad58ce1e0b9a');\n",
              "          const dataTable =\n",
              "            await google.colab.kernel.invokeFunction('convertToInteractive',\n",
              "                                                     [key], {});\n",
              "          if (!dataTable) return;\n",
              "\n",
              "          const docLinkHtml = 'Like what you see? Visit the ' +\n",
              "            '<a target=\"_blank\" href=https://colab.research.google.com/notebooks/data_table.ipynb>data table notebook</a>'\n",
              "            + ' to learn more about interactive tables.';\n",
              "          element.innerHTML = '';\n",
              "          dataTable['output_type'] = 'display_data';\n",
              "          await google.colab.output.renderOutput(dataTable, element);\n",
              "          const docLink = document.createElement('div');\n",
              "          docLink.innerHTML = docLinkHtml;\n",
              "          element.appendChild(docLink);\n",
              "        }\n",
              "      </script>\n",
              "    </div>\n",
              "  </div>\n",
              "  "
            ]
          },
          "metadata": {},
          "execution_count": 9
        }
      ]
    },
    {
      "cell_type": "markdown",
      "source": [
        "##Preprocessing Steps 2: Determining target variable"
      ],
      "metadata": {
        "id": "Nnwmp6tZLXUd"
      }
    },
    {
      "cell_type": "code",
      "source": [
        "plt.figure(figsize=(8,6))\n",
        "plt.hist(data[data['ST110_VAREx_0_SDickeIst'] < 100]['ST110_VAREx_0_SDickeIst'], bins=100, alpha=0.5, label=\"extruder 0\")\n",
        "plt.hist(data[data['ST110_VAREx_1_SDickeIst'] < 100]['ST110_VAREx_1_SDickeIst'], bins=100, alpha=0.5, label=\"extruder A\")\n",
        "plt.hist(data[data['ST110_VAREx_2_SDickeIst'] < 100]['ST110_VAREx_2_SDickeIst'], bins=100, alpha=0.5, label=\"extruder B\")\n",
        "plt.hist(data[data['ST110_VAREx_3_SDickeIst'] < 100]['ST110_VAREx_3_SDickeIst'], bins=100, alpha=0.5, label=\"extruder C\")\n",
        "plt.xlabel(\"Data\", size=14)\n",
        "plt.ylabel(\"Count\", size=14)\n",
        "plt.title(\"Different extruders and actual layer thickness\")\n",
        "plt.legend(loc='upper right')"
      ],
      "metadata": {
        "colab": {
          "base_uri": "https://localhost:8080/",
          "height": 426
        },
        "id": "qFQyzHPKz9GA",
        "outputId": "06cba393-9cfd-4454-a0a1-12e80dc71375"
      },
      "execution_count": 10,
      "outputs": [
        {
          "output_type": "execute_result",
          "data": {
            "text/plain": [
              "<matplotlib.legend.Legend at 0x7fe2141b5c90>"
            ]
          },
          "metadata": {},
          "execution_count": 10
        },
        {
          "output_type": "display_data",
          "data": {
            "text/plain": [
              "<Figure size 576x432 with 1 Axes>"
            ],
            "image/png": "[encoded data removed]"
          },
          "metadata": {
            "needs_background": "light"
          }
        }
      ]
    },
    {
      "cell_type": "code",
      "source": [
        "data['EXT0'] = data['ST110_VAREx_0_SDickeIst'].apply(lambda x: 1 if x == 0 else 0)\n",
        "data['EXTA'] = data['ST110_VAREx_1_SDickeIst'].apply(lambda x: 1 if x == 0 else 0)\n",
        "data['EXTB'] = data['ST110_VAREx_2_SDickeIst'].apply(lambda x: 1 if x == 0 else 0)\n",
        "data['EXTC'] = data['ST110_VAREx_3_SDickeIst'].apply(lambda x: 1 if x == 0 else 0)\n",
        "data['EXTsum'] = data['EXTC']+data['EXTA']+data['EXTB']+data['EXT0']\n",
        "data['EXTtotal'] = data['EXTsum'].apply(lambda x: 0 if x == 0 else 1)"
      ],
      "metadata": {
        "id": "phlrcSUDo7hp"
      },
      "execution_count": 12,
      "outputs": []
    },
    {
      "cell_type": "code",
      "source": [
        "plt.figure(figsize=(8,6))\n",
        "plt.hist(data[data['EXTtotal'] < 100]['EXTtotal'], bins=100, alpha=0.5, label=\"extruder_sum\", color='r')\n",
        "plt.xlabel(\"Data\", size=14)\n",
        "plt.ylabel(\"Count\", size=14)\n",
        "plt.title(\"Incorporated extruders and actual layer thickness\")\n",
        "plt.legend(loc='upper right')"
      ],
      "metadata": {
        "colab": {
          "base_uri": "https://localhost:8080/",
          "height": 426
        },
        "id": "2MC7ltep0bzq",
        "outputId": "42a2a559-93f5-4732-cef1-531482e13dca"
      },
      "execution_count": 13,
      "outputs": [
        {
          "output_type": "execute_result",
          "data": {
            "text/plain": [
              "<matplotlib.legend.Legend at 0x7fe217169e90>"
            ]
          },
          "metadata": {},
          "execution_count": 13
        },
        {
          "output_type": "display_data",
          "data": {
            "text/plain": [
              "<Figure size 576x432 with 1 Axes>"
            ],
            "image/png": "[encoded data removed]"
          },
          "metadata": {
            "needs_background": "light"
          }
        }
      ]
    },
    {
      "cell_type": "code",
      "source": [
        "data['EXTtotal'].value_counts()"
      ],
      "metadata": {
        "colab": {
          "base_uri": "https://localhost:8080/"
        },
        "id": "gcq_YLC76H6k",
        "outputId": "2769bcad-4ba7-4322-d056-129e397f4c98"
      },
      "execution_count": 14,
      "outputs": [
        {
          "output_type": "execute_result",
          "data": {
            "text/plain": [
              "0    196068\n",
              "1     30468\n",
              "Name: EXTtotal, dtype: int64"
            ]
          },
          "metadata": {},
          "execution_count": 14
        }
      ]
    },
    {
      "cell_type": "markdown",
      "source": [
        "##Preprocessing Steps 3: \n",
        "\n",
        "* Delete unneccessary columns and drop N/A\n",
        "\n",
        "* Find categoricla columns -> if exist, should be converted via One-Hot encoding or Label encoding\n",
        "\n",
        "\n",
        "\n",
        "\n",
        "\n",
        "\n",
        "---\n",
        "\n"
      ],
      "metadata": {
        "id": "u8tM90KLLdIh"
      }
    },
    {
      "cell_type": "code",
      "source": [
        "data = data.drop(['Datum'], axis=1)\n",
        "data.head()"
      ],
      "metadata": {
        "colab": {
          "base_uri": "https://localhost:8080/",
          "height": 300
        },
        "id": "kp7pkagN3C3B",
        "outputId": "ffe10813-d8ea-4e6d-b5f3-7a1fdde59a85"
      },
      "execution_count": 15,
      "outputs": [
        {
          "output_type": "execute_result",
          "data": {
            "text/plain": [
              "   ST0_VARActAuftrag  ST110_VARExtr_0_HeizungZone_3_Regler_Y  \\\n",
              "0                0.0                                     9.0   \n",
              "1                0.0                                     9.0   \n",
              "2                0.0                                     9.0   \n",
              "3                0.0                                    10.0   \n",
              "4                0.0                                    11.0   \n",
              "\n",
              "   ST110_VARExtr_0_HeizungZone_3_SollTemp  \\\n",
              "0                                   190.0   \n",
              "1                                   190.0   \n",
              "2                                   190.0   \n",
              "3                                   190.0   \n",
              "4                                   190.0   \n",
              "\n",
              "   ST110_VARExtr_0_HeizungZone_4_Konfig  \\\n",
              "0                                   1.0   \n",
              "1                                   1.0   \n",
              "2                                   1.0   \n",
              "3                                   1.0   \n",
              "4                                   1.0   \n",
              "\n",
              "   ST110_VARExtr_0_HeizungZone_4_Regler_X  \\\n",
              "0                                   193.0   \n",
              "1                                   193.0   \n",
              "2                                   193.0   \n",
              "3                                   193.0   \n",
              "4                                   193.0   \n",
              "\n",
              "   ST110_VARExtr_0_HeizungZone_4_Regler_Y  \\\n",
              "0                                     0.0   \n",
              "1                                     0.0   \n",
              "2                                     0.0   \n",
              "3                                     0.0   \n",
              "4                                     0.0   \n",
              "\n",
              "   ST110_VARExtr_0_HeizungZone_4_SollTemp  \\\n",
              "0                                   190.0   \n",
              "1                                   190.0   \n",
              "2                                   190.0   \n",
              "3                                   190.0   \n",
              "4                                   190.0   \n",
              "\n",
              "   ST110_VARExtr_0_HeizungZone_5_Konfig  \\\n",
              "0                                   1.0   \n",
              "1                                   1.0   \n",
              "2                                   1.0   \n",
              "3                                   1.0   \n",
              "4                                   1.0   \n",
              "\n",
              "   ST110_VARExtr_0_HeizungZone_5_Regler_X  \\\n",
              "0                                   190.0   \n",
              "1                                   190.0   \n",
              "2                                   190.0   \n",
              "3                                   190.0   \n",
              "4                                   190.0   \n",
              "\n",
              "   ST110_VARExtr_0_HeizungZone_5_Regler_Y  ...  ST114_VARWdTensVis  year  \\\n",
              "0                                    22.0  ...                53.0  2018   \n",
              "1                                    23.0  ...                49.0  2018   \n",
              "2                                    22.0  ...                48.0  2018   \n",
              "3                                    23.0  ...                50.0  2018   \n",
              "4                                    23.0  ...                51.0  2018   \n",
              "\n",
              "   month  date  EXT0  EXTA  EXTB  EXTC  EXTsum  EXTtotal  \n",
              "0      6    25     0     0     0     0       0         0  \n",
              "1      6    25     0     0     0     0       0         0  \n",
              "2      6    25     0     0     0     0       0         0  \n",
              "3      6    25     0     0     0     0       0         0  \n",
              "4      6    25     0     0     0     0       0         0  \n",
              "\n",
              "[5 rows x 478 columns]"
            ],
            "text/html": [
              "\n",
              "  <div id=\"df-676d48f4-d383-473d-b592-bf32ff414b9a\">\n",
              "    <div class=\"colab-df-container\">\n",
              "      <div>\n",
              "<style scoped>\n",
              "    .dataframe tbody tr th:only-of-type {\n",
              "        vertical-align: middle;\n",
              "    }\n",
              "\n",
              "    .dataframe tbody tr th {\n",
              "        vertical-align: top;\n",
              "    }\n",
              "\n",
              "    .dataframe thead th {\n",
              "        text-align: right;\n",
              "    }\n",
              "</style>\n",
              "<table border=\"1\" class=\"dataframe\">\n",
              "  <thead>\n",
              "    <tr style=\"text-align: right;\">\n",
              "      <th></th>\n",
              "      <th>ST0_VARActAuftrag</th>\n",
              "      <th>ST110_VARExtr_0_HeizungZone_3_Regler_Y</th>\n",
              "      <th>ST110_VARExtr_0_HeizungZone_3_SollTemp</th>\n",
              "      <th>ST110_VARExtr_0_HeizungZone_4_Konfig</th>\n",
              "      <th>ST110_VARExtr_0_HeizungZone_4_Regler_X</th>\n",
              "      <th>ST110_VARExtr_0_HeizungZone_4_Regler_Y</th>\n",
              "      <th>ST110_VARExtr_0_HeizungZone_4_SollTemp</th>\n",
              "      <th>ST110_VARExtr_0_HeizungZone_5_Konfig</th>\n",
              "      <th>ST110_VARExtr_0_HeizungZone_5_Regler_X</th>\n",
              "      <th>ST110_VARExtr_0_HeizungZone_5_Regler_Y</th>\n",
              "      <th>...</th>\n",
              "      <th>ST114_VARWdTensVis</th>\n",
              "      <th>year</th>\n",
              "      <th>month</th>\n",
              "      <th>date</th>\n",
              "      <th>EXT0</th>\n",
              "      <th>EXTA</th>\n",
              "      <th>EXTB</th>\n",
              "      <th>EXTC</th>\n",
              "      <th>EXTsum</th>\n",
              "      <th>EXTtotal</th>\n",
              "    </tr>\n",
              "  </thead>\n",
              "  <tbody>\n",
              "    <tr>\n",
              "      <th>0</th>\n",
              "      <td>0.0</td>\n",
              "      <td>9.0</td>\n",
              "      <td>190.0</td>\n",
              "      <td>1.0</td>\n",
              "      <td>193.0</td>\n",
              "      <td>0.0</td>\n",
              "      <td>190.0</td>\n",
              "      <td>1.0</td>\n",
              "      <td>190.0</td>\n",
              "      <td>22.0</td>\n",
              "      <td>...</td>\n",
              "      <td>53.0</td>\n",
              "      <td>2018</td>\n",
              "      <td>6</td>\n",
              "      <td>25</td>\n",
              "      <td>0</td>\n",
              "      <td>0</td>\n",
              "      <td>0</td>\n",
              "      <td>0</td>\n",
              "      <td>0</td>\n",
              "      <td>0</td>\n",
              "    </tr>\n",
              "    <tr>\n",
              "      <th>1</th>\n",
              "      <td>0.0</td>\n",
              "      <td>9.0</td>\n",
              "      <td>190.0</td>\n",
              "      <td>1.0</td>\n",
              "      <td>193.0</td>\n",
              "      <td>0.0</td>\n",
              "      <td>190.0</td>\n",
              "      <td>1.0</td>\n",
              "      <td>190.0</td>\n",
              "      <td>23.0</td>\n",
              "      <td>...</td>\n",
              "      <td>49.0</td>\n",
              "      <td>2018</td>\n",
              "      <td>6</td>\n",
              "      <td>25</td>\n",
              "      <td>0</td>\n",
              "      <td>0</td>\n",
              "      <td>0</td>\n",
              "      <td>0</td>\n",
              "      <td>0</td>\n",
              "      <td>0</td>\n",
              "    </tr>\n",
              "    <tr>\n",
              "      <th>2</th>\n",
              "      <td>0.0</td>\n",
              "      <td>9.0</td>\n",
              "      <td>190.0</td>\n",
              "      <td>1.0</td>\n",
              "      <td>193.0</td>\n",
              "      <td>0.0</td>\n",
              "      <td>190.0</td>\n",
              "      <td>1.0</td>\n",
              "      <td>190.0</td>\n",
              "      <td>22.0</td>\n",
              "      <td>...</td>\n",
              "      <td>48.0</td>\n",
              "      <td>2018</td>\n",
              "      <td>6</td>\n",
              "      <td>25</td>\n",
              "      <td>0</td>\n",
              "      <td>0</td>\n",
              "      <td>0</td>\n",
              "      <td>0</td>\n",
              "      <td>0</td>\n",
              "      <td>0</td>\n",
              "    </tr>\n",
              "    <tr>\n",
              "      <th>3</th>\n",
              "      <td>0.0</td>\n",
              "      <td>10.0</td>\n",
              "      <td>190.0</td>\n",
              "      <td>1.0</td>\n",
              "      <td>193.0</td>\n",
              "      <td>0.0</td>\n",
              "      <td>190.0</td>\n",
              "      <td>1.0</td>\n",
              "      <td>190.0</td>\n",
              "      <td>23.0</td>\n",
              "      <td>...</td>\n",
              "      <td>50.0</td>\n",
              "      <td>2018</td>\n",
              "      <td>6</td>\n",
              "      <td>25</td>\n",
              "      <td>0</td>\n",
              "      <td>0</td>\n",
              "      <td>0</td>\n",
              "      <td>0</td>\n",
              "      <td>0</td>\n",
              "      <td>0</td>\n",
              "    </tr>\n",
              "    <tr>\n",
              "      <th>4</th>\n",
              "      <td>0.0</td>\n",
              "      <td>11.0</td>\n",
              "      <td>190.0</td>\n",
              "      <td>1.0</td>\n",
              "      <td>193.0</td>\n",
              "      <td>0.0</td>\n",
              "      <td>190.0</td>\n",
              "      <td>1.0</td>\n",
              "      <td>190.0</td>\n",
              "      <td>23.0</td>\n",
              "      <td>...</td>\n",
              "      <td>51.0</td>\n",
              "      <td>2018</td>\n",
              "      <td>6</td>\n",
              "      <td>25</td>\n",
              "      <td>0</td>\n",
              "      <td>0</td>\n",
              "      <td>0</td>\n",
              "      <td>0</td>\n",
              "      <td>0</td>\n",
              "      <td>0</td>\n",
              "    </tr>\n",
              "  </tbody>\n",
              "</table>\n",
              "<p>5 rows × 478 columns</p>\n",
              "</div>\n",
              "      <button class=\"colab-df-convert\" onclick=\"convertToInteractive('df-676d48f4-d383-473d-b592-bf32ff414b9a')\"\n",
              "              title=\"Convert this dataframe to an interactive table.\"\n",
              "              style=\"display:none;\">\n",
              "        \n",
              "  <svg xmlns=\"http://www.w3.org/2000/svg\" height=\"24px\"viewBox=\"0 0 24 24\"\n",
              "       width=\"24px\">\n",
              "    <path d=\"M0 0h24v24H0V0z\" fill=\"none\"/>\n",
              "    <path d=\"M18.56 5.44l.94 2.06.94-2.06 2.06-.94-2.06-.94-.94-2.06-.94 2.06-2.06.94zm-11 1L8.5 8.5l.94-2.06 2.06-.94-2.06-.94L8.5 2.5l-.94 2.06-2.06.94zm10 10l.94 2.06.94-2.06 2.06-.94-2.06-.94-.94-2.06-.94 2.06-2.06.94z\"/><path d=\"M17.41 7.96l-1.37-1.37c-.4-.4-.92-.59-1.43-.59-.52 0-1.04.2-1.43.59L10.3 9.45l-7.72 7.72c-.78.78-.78 2.05 0 2.83L4 21.41c.39.39.9.59 1.41.59.51 0 1.02-.2 1.41-.59l7.78-7.78 2.81-2.81c.8-.78.8-2.07 0-2.86zM5.41 20L4 18.59l7.72-7.72 1.47 1.35L5.41 20z\"/>\n",
              "  </svg>\n",
              "      </button>\n",
              "      \n",
              "  <style>\n",
              "    .colab-df-container {\n",
              "      display:flex;\n",
              "      flex-wrap:wrap;\n",
              "      gap: 12px;\n",
              "    }\n",
              "\n",
              "    .colab-df-convert {\n",
              "      background-color: #E8F0FE;\n",
              "      border: none;\n",
              "      border-radius: 50%;\n",
              "      cursor: pointer;\n",
              "      display: none;\n",
              "      fill: #1967D2;\n",
              "      height: 32px;\n",
              "      padding: 0 0 0 0;\n",
              "      width: 32px;\n",
              "    }\n",
              "\n",
              "    .colab-df-convert:hover {\n",
              "      background-color: #E2EBFA;\n",
              "      box-shadow: 0px 1px 2px rgba(60, 64, 67, 0.3), 0px 1px 3px 1px rgba(60, 64, 67, 0.15);\n",
              "      fill: #174EA6;\n",
              "    }\n",
              "\n",
              "    [theme=dark] .colab-df-convert {\n",
              "      background-color: #3B4455;\n",
              "      fill: #D2E3FC;\n",
              "    }\n",
              "\n",
              "    [theme=dark] .colab-df-convert:hover {\n",
              "      background-color: #434B5C;\n",
              "      box-shadow: 0px 1px 3px 1px rgba(0, 0, 0, 0.15);\n",
              "      filter: drop-shadow(0px 1px 2px rgba(0, 0, 0, 0.3));\n",
              "      fill: #FFFFFF;\n",
              "    }\n",
              "  </style>\n",
              "\n",
              "      <script>\n",
              "        const buttonEl =\n",
              "          document.querySelector('#df-676d48f4-d383-473d-b592-bf32ff414b9a button.colab-df-convert');\n",
              "        buttonEl.style.display =\n",
              "          google.colab.kernel.accessAllowed ? 'block' : 'none';\n",
              "\n",
              "        async function convertToInteractive(key) {\n",
              "          const element = document.querySelector('#df-676d48f4-d383-473d-b592-bf32ff414b9a');\n",
              "          const dataTable =\n",
              "            await google.colab.kernel.invokeFunction('convertToInteractive',\n",
              "                                                     [key], {});\n",
              "          if (!dataTable) return;\n",
              "\n",
              "          const docLinkHtml = 'Like what you see? Visit the ' +\n",
              "            '<a target=\"_blank\" href=https://colab.research.google.com/notebooks/data_table.ipynb>data table notebook</a>'\n",
              "            + ' to learn more about interactive tables.';\n",
              "          element.innerHTML = '';\n",
              "          dataTable['output_type'] = 'display_data';\n",
              "          await google.colab.output.renderOutput(dataTable, element);\n",
              "          const docLink = document.createElement('div');\n",
              "          docLink.innerHTML = docLinkHtml;\n",
              "          element.appendChild(docLink);\n",
              "        }\n",
              "      </script>\n",
              "    </div>\n",
              "  </div>\n",
              "  "
            ]
          },
          "metadata": {},
          "execution_count": 15
        }
      ]
    },
    {
      "cell_type": "code",
      "source": [
        "data = data.drop(['EXT0', 'EXTA', 'EXTB', 'EXTC', 'EXTsum', 'ST110_VAREx_0_SDickeIst', 'ST110_VAREx_1_SDickeIst', 'ST110_VAREx_2_SDickeIst', 'ST110_VAREx_3_SDickeIst'], axis = 1)\n",
        "data = data.dropna()\n",
        "data.isnull().sum().sum()"
      ],
      "metadata": {
        "colab": {
          "base_uri": "https://localhost:8080/"
        },
        "id": "kPuiBk_w3IVf",
        "outputId": "3feafdf2-7723-4187-b4d6-4ec7a6dba0f8"
      },
      "execution_count": 16,
      "outputs": [
        {
          "output_type": "execute_result",
          "data": {
            "text/plain": [
              "0"
            ]
          },
          "metadata": {},
          "execution_count": 16
        }
      ]
    },
    {
      "cell_type": "code",
      "source": [
        "objList = data.select_dtypes(include = \"object\").columns\n",
        "print(objList)"
      ],
      "metadata": {
        "colab": {
          "base_uri": "https://localhost:8080/"
        },
        "id": "3SDAe-tr3Kql",
        "outputId": "d6e24747-75e1-4630-817e-2c81acd38d86"
      },
      "execution_count": 17,
      "outputs": [
        {
          "output_type": "stream",
          "name": "stdout",
          "text": [
            "Index(['year', 'date'], dtype='object')\n"
          ]
        }
      ]
    },
    {
      "cell_type": "markdown",
      "source": [
        "##Preprocessing Steps 4: Simple EDA on target variable\n",
        "\n"
      ],
      "metadata": {
        "id": "1nz6AClu3NoO"
      }
    },
    {
      "cell_type": "code",
      "source": [
        "plt.figure(figsize=(12,4))\n",
        "\n",
        "ax = sns.countplot(data = data, x = 'year', hue=\"EXTtotal\", palette = 'RdGy')\n",
        "\n",
        "plt.xlabel(\"year\", fontsize= 12)\n",
        "plt.ylabel(\"# of EXTtotal\", fontsize= 12)\n",
        "\n",
        "for p in ax.patches:\n",
        "    ax.annotate((p.get_height()), (p.get_x()+0.16, p.get_height()+1000))\n",
        "\n",
        "plt.show()"
      ],
      "metadata": {
        "colab": {
          "base_uri": "https://localhost:8080/",
          "height": 282
        },
        "id": "tNE_G-mNOaC9",
        "outputId": "fcb33ebf-cb7f-4079-e7dd-cba9a2a5e641"
      },
      "execution_count": 18,
      "outputs": [
        {
          "output_type": "display_data",
          "data": {
            "text/plain": [
              "<Figure size 864x288 with 1 Axes>"
            ],
            "image/png": "[encoded data removed]"
          },
          "metadata": {
            "needs_background": "light"
          }
        }
      ]
    },
    {
      "cell_type": "code",
      "source": [
        "plt.figure(figsize=(12,4))\n",
        "\n",
        "ax = sns.countplot(data = data, x = 'date', hue=\"EXTtotal\", palette = 'Paired_r')\n",
        "\n",
        "plt.xlabel(\"date\", fontsize= 12)\n",
        "plt.ylabel(\"# of EXTtotal\", fontsize= 12)\n",
        "\n",
        "\n",
        "\n",
        "plt.show()"
      ],
      "metadata": {
        "colab": {
          "base_uri": "https://localhost:8080/",
          "height": 282
        },
        "id": "8H6eb4JKO2Ws",
        "outputId": "7abf7361-5ee6-4773-90f3-314a530806c5"
      },
      "execution_count": 19,
      "outputs": [
        {
          "output_type": "display_data",
          "data": {
            "text/plain": [
              "<Figure size 864x288 with 1 Axes>"
            ],
            "image/png": "[encoded data removed]"
          },
          "metadata": {
            "needs_background": "light"
          }
        }
      ]
    },
    {
      "cell_type": "code",
      "source": [
        "plt.figure(figsize=(12,4))\n",
        "\n",
        "ax = sns.countplot(data = data, x = 'month', hue=\"EXTtotal\", palette = 'PuRd')\n",
        "\n",
        "plt.xlabel(\"month\", fontsize= 12)\n",
        "plt.ylabel(\"# of EXTtotal\", fontsize= 12)\n",
        "\n",
        "\n",
        "\n",
        "plt.show()"
      ],
      "metadata": {
        "colab": {
          "base_uri": "https://localhost:8080/",
          "height": 282
        },
        "id": "U-jVU_tmSX4m",
        "outputId": "4a410d93-76a5-4f0f-c988-e414eaf46a7b"
      },
      "execution_count": 20,
      "outputs": [
        {
          "output_type": "display_data",
          "data": {
            "text/plain": [
              "<Figure size 864x288 with 1 Axes>"
            ],
            "image/png": "[encoded data removed]"
          },
          "metadata": {
            "needs_background": "light"
          }
        }
      ]
    },
    {
      "cell_type": "code",
      "source": [
        "corr_matrix = data.corr().abs()\n",
        "cor_target = corr_matrix[\"EXTtotal\"]"
      ],
      "metadata": {
        "id": "-A4YWg0L6Dua"
      },
      "execution_count": 21,
      "outputs": []
    },
    {
      "cell_type": "code",
      "source": [
        "relevant_features = cor_target[cor_target>0.]\n",
        "relevant_features"
      ],
      "metadata": {
        "colab": {
          "base_uri": "https://localhost:8080/"
        },
        "id": "DFUGqau1VbNp",
        "outputId": "72149de2-584a-4538-f6b5-5df001c9d48e"
      },
      "execution_count": 22,
      "outputs": [
        {
          "output_type": "execute_result",
          "data": {
            "text/plain": [
              "ST110_VARExtr_0_HeizungZone_3_Regler_Y    0.426451\n",
              "ST110_VARExtr_0_HeizungZone_3_SollTemp    0.350227\n",
              "ST110_VARExtr_0_HeizungZone_4_Regler_X    0.447943\n",
              "ST110_VARExtr_0_HeizungZone_4_Regler_Y    0.318290\n",
              "ST110_VARExtr_0_HeizungZone_4_SollTemp    0.352378\n",
              "                                            ...   \n",
              "ST114_VARWdSpeedHMI                       0.692658\n",
              "ST114_VARWdSpTens                         0.005695\n",
              "ST114_VARWdTensVis                        0.627557\n",
              "month                                     0.013047\n",
              "EXTtotal                                  1.000000\n",
              "Name: EXTtotal, Length: 350, dtype: float64"
            ]
          },
          "metadata": {},
          "execution_count": 22
        }
      ]
    },
    {
      "cell_type": "code",
      "source": [
        "from sklearn.manifold import TSNE\n",
        "\n",
        "data_tsne=data[data['EXTtotal']==0].sample(1000)\n",
        "data_tsne_abnormal=data[data['EXTtotal']==1].sample(50)\n",
        "data_tsne=pd.concat([data_tsne,data_tsne_abnormal])\n",
        "y_plt=data_tsne['EXTtotal']\n",
        "X_plt=data_tsne.drop('EXTtotal',1)\n",
        "\n",
        "X_embedded = TSNE(n_components=2).fit_transform(X_plt)\n",
        "\n",
        "plt.figure(figsize=(12,8))\n",
        "plt.scatter(X_embedded[:,0], X_embedded[:,1], c=y_plt, cmap=plt.cm.get_cmap(\"Paired\", 2))\n",
        "plt.colorbar(ticks=range(2))"
      ],
      "metadata": {
        "colab": {
          "base_uri": "https://localhost:8080/",
          "height": 632
        },
        "id": "qsONGtNJ3LuF",
        "outputId": "c7b8b5c2-0858-4b09-fc45-f5895fb60917"
      },
      "execution_count": 23,
      "outputs": [
        {
          "output_type": "stream",
          "name": "stderr",
          "text": [
            "/usr/local/lib/python3.7/dist-packages/ipykernel_launcher.py:7: FutureWarning: In a future version of pandas all arguments of DataFrame.drop except for the argument 'labels' will be keyword-only\n",
            "  import sys\n",
            "/usr/local/lib/python3.7/dist-packages/sklearn/manifold/_t_sne.py:783: FutureWarning: The default initialization in TSNE will change from 'random' to 'pca' in 1.2.\n",
            "  FutureWarning,\n",
            "/usr/local/lib/python3.7/dist-packages/sklearn/manifold/_t_sne.py:793: FutureWarning: The default learning rate in TSNE will change from 200.0 to 'auto' in 1.2.\n",
            "  FutureWarning,\n"
          ]
        },
        {
          "output_type": "execute_result",
          "data": {
            "text/plain": [
              "<matplotlib.colorbar.Colorbar at 0x7fe2120ffbd0>"
            ]
          },
          "metadata": {},
          "execution_count": 23
        },
        {
          "output_type": "display_data",
          "data": {
            "text/plain": [
              "<Figure size 864x576 with 2 Axes>"
            ],
            "image/png": "[encoded data removed]"
          },
          "metadata": {
            "needs_background": "light"
          }
        }
      ]
    },
    {
      "cell_type": "code",
      "source": [
        "pred = data.drop(['EXTtotal'], axis=1)\n",
        "target = data['EXTtotal']"
      ],
      "metadata": {
        "id": "JtNikLamfZKo"
      },
      "execution_count": 24,
      "outputs": []
    },
    {
      "cell_type": "markdown",
      "source": [
        "##Preprocessing Steps 5: PCA since more than 400 columns exist"
      ],
      "metadata": {
        "id": "_BWHTfQSMcq4"
      }
    },
    {
      "cell_type": "code",
      "source": [
        "from sklearn.decomposition import PCA\n",
        "from sklearn.preprocessing import StandardScaler\n",
        "\n",
        "scaler=StandardScaler().fit(pred)\n",
        "pred=scaler.transform(pred)\n",
        "\n",
        "pca=PCA(n_components=5)\n",
        "principalComponents=pca.fit_transform(pred)\n",
        "pca_result=pd.DataFrame(data= principalComponents, columns = ['principal component 1', 'principal component 2', 'principal component 3', 'principal component 4', 'principal component 5'])"
      ],
      "metadata": {
        "id": "Kym_iZrFy6gM"
      },
      "execution_count": 25,
      "outputs": []
    },
    {
      "cell_type": "code",
      "source": [
        "print(pca.explained_variance_)\n",
        "print(pca.explained_variance_ratio_)\n",
        "print(pca.explained_variance_ratio_.cumsum())"
      ],
      "metadata": {
        "colab": {
          "base_uri": "https://localhost:8080/"
        },
        "id": "wHLPSvR2zNYr",
        "outputId": "bb7474ec-f198-4f88-913b-8241786449e5"
      },
      "execution_count": 26,
      "outputs": [
        {
          "output_type": "stream",
          "name": "stdout",
          "text": [
            "[76.94605015 38.59136111 28.71586398 14.03895491 11.71368275]\n",
            "[0.21921854 0.10994641 0.08181122 0.03999685 0.03337217]\n",
            "[0.21921854 0.32916495 0.41097617 0.45097301 0.48434518]\n"
          ]
        }
      ]
    },
    {
      "cell_type": "code",
      "source": [
        "from sklearn.decomposition import PCA\n",
        "pca = PCA(n_components=5)\n",
        "pca_result = pca.fit_transform(pred)\n",
        "pca_result = pd.DataFrame(pca_result)\n",
        "pca_result.head()"
      ],
      "metadata": {
        "colab": {
          "base_uri": "https://localhost:8080/",
          "height": 206
        },
        "id": "K1l_OxlG2Fie",
        "outputId": "188a79bb-a0ac-43f9-cc6b-2ee7f007dd1b"
      },
      "execution_count": 27,
      "outputs": [
        {
          "output_type": "execute_result",
          "data": {
            "text/plain": [
              "          0         1         2         3         4\n",
              "0 -5.227052  7.199301  4.228665 -2.544303 -3.964058\n",
              "1 -5.217645  7.063703  3.918170 -2.699682 -4.014281\n",
              "2 -5.212943  7.194251  4.118350 -2.616951 -3.953944\n",
              "3 -5.301629  7.182970  3.894066 -2.614762 -3.927165\n",
              "4 -5.322019  7.185694  3.918251 -2.612281 -3.912631"
            ],
            "text/html": [
              "\n",
              "  <div id=\"df-a8a5fae3-4642-4216-84d2-112cea662856\">\n",
              "    <div class=\"colab-df-container\">\n",
              "      <div>\n",
              "<style scoped>\n",
              "    .dataframe tbody tr th:only-of-type {\n",
              "        vertical-align: middle;\n",
              "    }\n",
              "\n",
              "    .dataframe tbody tr th {\n",
              "        vertical-align: top;\n",
              "    }\n",
              "\n",
              "    .dataframe thead th {\n",
              "        text-align: right;\n",
              "    }\n",
              "</style>\n",
              "<table border=\"1\" class=\"dataframe\">\n",
              "  <thead>\n",
              "    <tr style=\"text-align: right;\">\n",
              "      <th></th>\n",
              "      <th>0</th>\n",
              "      <th>1</th>\n",
              "      <th>2</th>\n",
              "      <th>3</th>\n",
              "      <th>4</th>\n",
              "    </tr>\n",
              "  </thead>\n",
              "  <tbody>\n",
              "    <tr>\n",
              "      <th>0</th>\n",
              "      <td>-5.227052</td>\n",
              "      <td>7.199301</td>\n",
              "      <td>4.228665</td>\n",
              "      <td>-2.544303</td>\n",
              "      <td>-3.964058</td>\n",
              "    </tr>\n",
              "    <tr>\n",
              "      <th>1</th>\n",
              "      <td>-5.217645</td>\n",
              "      <td>7.063703</td>\n",
              "      <td>3.918170</td>\n",
              "      <td>-2.699682</td>\n",
              "      <td>-4.014281</td>\n",
              "    </tr>\n",
              "    <tr>\n",
              "      <th>2</th>\n",
              "      <td>-5.212943</td>\n",
              "      <td>7.194251</td>\n",
              "      <td>4.118350</td>\n",
              "      <td>-2.616951</td>\n",
              "      <td>-3.953944</td>\n",
              "    </tr>\n",
              "    <tr>\n",
              "      <th>3</th>\n",
              "      <td>-5.301629</td>\n",
              "      <td>7.182970</td>\n",
              "      <td>3.894066</td>\n",
              "      <td>-2.614762</td>\n",
              "      <td>-3.927165</td>\n",
              "    </tr>\n",
              "    <tr>\n",
              "      <th>4</th>\n",
              "      <td>-5.322019</td>\n",
              "      <td>7.185694</td>\n",
              "      <td>3.918251</td>\n",
              "      <td>-2.612281</td>\n",
              "      <td>-3.912631</td>\n",
              "    </tr>\n",
              "  </tbody>\n",
              "</table>\n",
              "</div>\n",
              "      <button class=\"colab-df-convert\" onclick=\"convertToInteractive('df-a8a5fae3-4642-4216-84d2-112cea662856')\"\n",
              "              title=\"Convert this dataframe to an interactive table.\"\n",
              "              style=\"display:none;\">\n",
              "        \n",
              "  <svg xmlns=\"http://www.w3.org/2000/svg\" height=\"24px\"viewBox=\"0 0 24 24\"\n",
              "       width=\"24px\">\n",
              "    <path d=\"M0 0h24v24H0V0z\" fill=\"none\"/>\n",
              "    <path d=\"M18.56 5.44l.94 2.06.94-2.06 2.06-.94-2.06-.94-.94-2.06-.94 2.06-2.06.94zm-11 1L8.5 8.5l.94-2.06 2.06-.94-2.06-.94L8.5 2.5l-.94 2.06-2.06.94zm10 10l.94 2.06.94-2.06 2.06-.94-2.06-.94-.94-2.06-.94 2.06-2.06.94z\"/><path d=\"M17.41 7.96l-1.37-1.37c-.4-.4-.92-.59-1.43-.59-.52 0-1.04.2-1.43.59L10.3 9.45l-7.72 7.72c-.78.78-.78 2.05 0 2.83L4 21.41c.39.39.9.59 1.41.59.51 0 1.02-.2 1.41-.59l7.78-7.78 2.81-2.81c.8-.78.8-2.07 0-2.86zM5.41 20L4 18.59l7.72-7.72 1.47 1.35L5.41 20z\"/>\n",
              "  </svg>\n",
              "      </button>\n",
              "      \n",
              "  <style>\n",
              "    .colab-df-container {\n",
              "      display:flex;\n",
              "      flex-wrap:wrap;\n",
              "      gap: 12px;\n",
              "    }\n",
              "\n",
              "    .colab-df-convert {\n",
              "      background-color: #E8F0FE;\n",
              "      border: none;\n",
              "      border-radius: 50%;\n",
              "      cursor: pointer;\n",
              "      display: none;\n",
              "      fill: #1967D2;\n",
              "      height: 32px;\n",
              "      padding: 0 0 0 0;\n",
              "      width: 32px;\n",
              "    }\n",
              "\n",
              "    .colab-df-convert:hover {\n",
              "      background-color: #E2EBFA;\n",
              "      box-shadow: 0px 1px 2px rgba(60, 64, 67, 0.3), 0px 1px 3px 1px rgba(60, 64, 67, 0.15);\n",
              "      fill: #174EA6;\n",
              "    }\n",
              "\n",
              "    [theme=dark] .colab-df-convert {\n",
              "      background-color: #3B4455;\n",
              "      fill: #D2E3FC;\n",
              "    }\n",
              "\n",
              "    [theme=dark] .colab-df-convert:hover {\n",
              "      background-color: #434B5C;\n",
              "      box-shadow: 0px 1px 3px 1px rgba(0, 0, 0, 0.15);\n",
              "      filter: drop-shadow(0px 1px 2px rgba(0, 0, 0, 0.3));\n",
              "      fill: #FFFFFF;\n",
              "    }\n",
              "  </style>\n",
              "\n",
              "      <script>\n",
              "        const buttonEl =\n",
              "          document.querySelector('#df-a8a5fae3-4642-4216-84d2-112cea662856 button.colab-df-convert');\n",
              "        buttonEl.style.display =\n",
              "          google.colab.kernel.accessAllowed ? 'block' : 'none';\n",
              "\n",
              "        async function convertToInteractive(key) {\n",
              "          const element = document.querySelector('#df-a8a5fae3-4642-4216-84d2-112cea662856');\n",
              "          const dataTable =\n",
              "            await google.colab.kernel.invokeFunction('convertToInteractive',\n",
              "                                                     [key], {});\n",
              "          if (!dataTable) return;\n",
              "\n",
              "          const docLinkHtml = 'Like what you see? Visit the ' +\n",
              "            '<a target=\"_blank\" href=https://colab.research.google.com/notebooks/data_table.ipynb>data table notebook</a>'\n",
              "            + ' to learn more about interactive tables.';\n",
              "          element.innerHTML = '';\n",
              "          dataTable['output_type'] = 'display_data';\n",
              "          await google.colab.output.renderOutput(dataTable, element);\n",
              "          const docLink = document.createElement('div');\n",
              "          docLink.innerHTML = docLinkHtml;\n",
              "          element.appendChild(docLink);\n",
              "        }\n",
              "      </script>\n",
              "    </div>\n",
              "  </div>\n",
              "  "
            ]
          },
          "metadata": {},
          "execution_count": 27
        }
      ]
    },
    {
      "cell_type": "markdown",
      "source": [
        "##Preprocessing Steps 6: Train test split for machine learning approach"
      ],
      "metadata": {
        "id": "L7bFNxvGMkZT"
      }
    },
    {
      "cell_type": "code",
      "source": [
        "from sklearn.model_selection import train_test_split\n",
        "\n",
        "X_train, X_test, y_train, y_test=train_test_split(pca_result, target, test_size=0.2, random_state=77, stratify=target)"
      ],
      "metadata": {
        "id": "Gst2zrzs2NfC"
      },
      "execution_count": 28,
      "outputs": []
    },
    {
      "cell_type": "markdown",
      "source": [
        "##Various machine learning classifiers"
      ],
      "metadata": {
        "id": "3_M8jSFkFG2M"
      }
    },
    {
      "cell_type": "code",
      "source": [
        "from sklearn.linear_model import LogisticRegression\n",
        "from sklearn.neighbors import KNeighborsClassifier\n",
        "from xgboost import XGBClassifier\n",
        "from lightgbm import LGBMClassifier\n",
        "from sklearn.ensemble import RandomForestClassifier\n",
        "from sklearn.tree import ExtraTreeClassifier\n",
        "\n",
        "from sklearn.metrics import classification_report, accuracy_score"
      ],
      "metadata": {
        "id": "8EuPeraQuPCw"
      },
      "execution_count": 31,
      "outputs": []
    },
    {
      "cell_type": "code",
      "source": [
        "estimators = {\n",
        "    'KNN':KNeighborsClassifier(),\n",
        "    'Logistic Regression':LogisticRegression(),\n",
        "    'XGBoost':XGBClassifier(),\n",
        "    'LGBM': LGBMClassifier(),\n",
        "    'Random Forest': RandomForestClassifier(),\n",
        "    'Extra Tree': ExtraTreeClassifier()\n",
        "}"
      ],
      "metadata": {
        "id": "6qpxbDJkumKy"
      },
      "execution_count": 32,
      "outputs": []
    },
    {
      "cell_type": "code",
      "source": [
        "for name, clf in estimators.items():\n",
        "    clf.fit(X_train, y_train)\n",
        "    pred = clf.predict(X_test)\n",
        "    n_errors = (pred != y_test).sum()\n",
        "\n",
        "    print(\"{}: {}\".format(name,n_errors))\n",
        "    print(classification_report(y_test, pred))\n",
        "    print('-'*50)"
      ],
      "metadata": {
        "colab": {
          "base_uri": "https://localhost:8080/"
        },
        "id": "tq2qGqD9uof4",
        "outputId": "35b76b8a-0abe-4582-bf55-ea481a81689f"
      },
      "execution_count": 33,
      "outputs": [
        {
          "output_type": "stream",
          "name": "stdout",
          "text": [
            "KNN: 124\n",
            "              precision    recall  f1-score   support\n",
            "\n",
            "           0       1.00      1.00      1.00     39201\n",
            "           1       0.99      0.99      0.99      5886\n",
            "\n",
            "    accuracy                           1.00     45087\n",
            "   macro avg       0.99      1.00      0.99     45087\n",
            "weighted avg       1.00      1.00      1.00     45087\n",
            "\n",
            "--------------------------------------------------\n",
            "Logistic Regression: 168\n",
            "              precision    recall  f1-score   support\n",
            "\n",
            "           0       1.00      1.00      1.00     39201\n",
            "           1       0.98      0.99      0.99      5886\n",
            "\n",
            "    accuracy                           1.00     45087\n",
            "   macro avg       0.99      0.99      0.99     45087\n",
            "weighted avg       1.00      1.00      1.00     45087\n",
            "\n",
            "--------------------------------------------------\n",
            "XGBoost: 162\n",
            "              precision    recall  f1-score   support\n",
            "\n",
            "           0       1.00      1.00      1.00     39201\n",
            "           1       0.98      0.99      0.99      5886\n",
            "\n",
            "    accuracy                           1.00     45087\n",
            "   macro avg       0.99      0.99      0.99     45087\n",
            "weighted avg       1.00      1.00      1.00     45087\n",
            "\n",
            "--------------------------------------------------\n",
            "LGBM: 294\n",
            "              precision    recall  f1-score   support\n",
            "\n",
            "           0       1.00      0.99      1.00     39201\n",
            "           1       0.96      0.99      0.98      5886\n",
            "\n",
            "    accuracy                           0.99     45087\n",
            "   macro avg       0.98      0.99      0.99     45087\n",
            "weighted avg       0.99      0.99      0.99     45087\n",
            "\n",
            "--------------------------------------------------\n",
            "Random Forest: 129\n",
            "              precision    recall  f1-score   support\n",
            "\n",
            "           0       1.00      1.00      1.00     39201\n",
            "           1       0.99      0.99      0.99      5886\n",
            "\n",
            "    accuracy                           1.00     45087\n",
            "   macro avg       0.99      0.99      0.99     45087\n",
            "weighted avg       1.00      1.00      1.00     45087\n",
            "\n",
            "--------------------------------------------------\n",
            "Extra Tree: 254\n",
            "              precision    recall  f1-score   support\n",
            "\n",
            "           0       1.00      1.00      1.00     39201\n",
            "           1       0.98      0.98      0.98      5886\n",
            "\n",
            "    accuracy                           0.99     45087\n",
            "   macro avg       0.99      0.99      0.99     45087\n",
            "weighted avg       0.99      0.99      0.99     45087\n",
            "\n",
            "--------------------------------------------------\n"
          ]
        }
      ]
    },
    {
      "cell_type": "markdown",
      "source": [
        "# Anomaly detection algorithms: Isolation Forest, Local Outlier, One Class SVM: "
      ],
      "metadata": {
        "id": "DVenCuw46chu"
      }
    },
    {
      "cell_type": "markdown",
      "source": [
        "##Define abnormal_proportion for those algorithms "
      ],
      "metadata": {
        "id": "lg3zrXof784P"
      }
    },
    {
      "cell_type": "markdown",
      "source": [
        ""
      ],
      "metadata": {
        "id": "6OBQnige77gv"
      }
    },
    {
      "cell_type": "code",
      "source": [
        "import numpy as np\n",
        "from sklearn.ensemble import IsolationForest\n",
        "from sklearn.neighbors import LocalOutlierFactor\n",
        "from sklearn.svm import OneClassSVM\n",
        "\n",
        "\n",
        "abnormal = target[target == 1]\n",
        "normal = target[target == 0]\n",
        "\n",
        "abnormal_proportion = len(abnormal) / float(len(normal))\n",
        "\n",
        "abnormal_proportion"
      ],
      "metadata": {
        "colab": {
          "base_uri": "https://localhost:8080/"
        },
        "id": "Nqeg2tAM-T04",
        "outputId": "68de3fbb-970b-4389-8ae0-edb51ced67bf"
      },
      "execution_count": 29,
      "outputs": [
        {
          "output_type": "execute_result",
          "data": {
            "text/plain": [
              "0.15013826107364062"
            ]
          },
          "metadata": {},
          "execution_count": 29
        }
      ]
    },
    {
      "cell_type": "markdown",
      "source": [
        "##Local Outlier Factor"
      ],
      "metadata": {
        "id": "RdMDL2s8-dJL"
      }
    },
    {
      "cell_type": "code",
      "source": [
        "lof = LocalOutlierFactor(contamination=abnormal_proportion)\n",
        "lof.fit(X_test)\n",
        "\n",
        "lof_y_pred=lof.negative_outlier_factor_\n",
        "\n",
        "lof_y_pred_class=lof_y_pred.copy()\n",
        "lof_y_pred_class[lof_y_pred>=np.percentile(lof_y_pred,85)]=1\n",
        "lof_y_pred_class[lof_y_pred<np.percentile(lof_y_pred,85)]=0\n",
        "n_errors = (lof_y_pred_class != y_test).sum()\n",
        "\n",
        "\n",
        "print(classification_report(y_test, lof_y_pred_class))\n",
        "print(n_errors)"
      ],
      "metadata": {
        "colab": {
          "base_uri": "https://localhost:8080/"
        },
        "id": "TJzNY0Ux-k8I",
        "outputId": "738fa885-94db-48d6-f278-7732a7259c7e"
      },
      "execution_count": 34,
      "outputs": [
        {
          "output_type": "stream",
          "name": "stdout",
          "text": [
            "              precision    recall  f1-score   support\n",
            "\n",
            "           0       0.86      0.84      0.85     39201\n",
            "           1       0.09      0.10      0.09      5886\n",
            "\n",
            "    accuracy                           0.75     45087\n",
            "   macro avg       0.47      0.47      0.47     45087\n",
            "weighted avg       0.76      0.75      0.75     45087\n",
            "\n",
            "11487\n"
          ]
        }
      ]
    },
    {
      "cell_type": "markdown",
      "source": [
        "##Isolation Forest"
      ],
      "metadata": {
        "id": "p3GZytzr-tjW"
      }
    },
    {
      "cell_type": "code",
      "source": [
        "def get_pred_label(model_pred):\n",
        "    model_pred = np.where(model_pred == 1, 0, model_pred)\n",
        "    model_pred = np.where(model_pred == -1, 1, model_pred)\n",
        "    return model_pred"
      ],
      "metadata": {
        "id": "aRNl7YN7_7FA"
      },
      "execution_count": null,
      "outputs": []
    },
    {
      "cell_type": "code",
      "source": [
        "ift = IsolationForest(max_samples=len(pred), contamination=abnormal_proportion,random_state=77, verbose=0)\n",
        "ift.fit(X_train, y_train)\n",
        "\n",
        "y_pred = ift.predict(X_test) \n",
        "y_pred = get_pred_label(y_pred)\n",
        "\n",
        "n_errors = (y_pred != y_test).sum()\n",
        "\n",
        "print(classification_report(y_test, y_pred))\n",
        "print(n_errors)"
      ],
      "metadata": {
        "colab": {
          "base_uri": "https://localhost:8080/"
        },
        "id": "Evt2OZ6J-sY9",
        "outputId": "2fbc58c3-fb24-4039-fc52-73ab41653271"
      },
      "execution_count": null,
      "outputs": [
        {
          "output_type": "stream",
          "name": "stdout",
          "text": [
            "              precision    recall  f1-score   support\n",
            "\n",
            "           0       0.92      0.90      0.91     39201\n",
            "           1       0.43      0.49      0.46      5886\n",
            "\n",
            "    accuracy                           0.85     45087\n",
            "   macro avg       0.67      0.70      0.68     45087\n",
            "weighted avg       0.86      0.85      0.85     45087\n",
            "\n",
            "5886\n"
          ]
        }
      ]
    }
  ]
}
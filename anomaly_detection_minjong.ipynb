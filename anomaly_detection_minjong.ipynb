{
  "nbformat": 4,
  "nbformat_minor": 0,
  "metadata": {
    "colab": {
      "name": "anomaly_detection_minjong.ipynb",
      "provenance": [],
      "machine_shape": "hm",
      "collapsed_sections": [],
      "authorship_tag": "ABX9TyN5pzK5r1FqmNUiv4l83Pj5",
      "include_colab_link": true
    },
    "kernelspec": {
      "name": "python3",
      "display_name": "Python 3"
    },
    "language_info": {
      "name": "python"
    },
    "accelerator": "GPU",
    "gpuClass": "standard"
  },
  "cells": [
    {
      "cell_type": "markdown",
      "metadata": {
        "id": "view-in-github",
        "colab_type": "text"
      },
      "source": [
        "<a href=\"https://colab.research.google.com/github/francis-jeon/Repository_francis/blob/main/anomaly_detection_minjong.ipynb\" target=\"_parent\"><img src=\"https://colab.research.google.com/assets/colab-badge.svg\" alt=\"Open In Colab\"/></a>"
      ]
    },
    {
      "cell_type": "markdown",
      "source": [
        "Dataset download via Kaggle API"
      ],
      "metadata": {
        "id": "JCICmWp8Kg5M"
      }
    },
    {
      "cell_type": "code",
      "execution_count": 3,
      "metadata": {
        "id": "_wrX1Cs_nNK2",
        "colab": {
          "base_uri": "https://localhost:8080/"
        },
        "outputId": "405a2213-8d02-4dd7-ebaf-a65df014c4fb"
      },
      "outputs": [
        {
          "output_type": "stream",
          "name": "stdout",
          "text": [
            "mkdir: cannot create directory ‘/root/.kaggle’: File exists\n"
          ]
        }
      ],
      "source": [
        "! mkdir ~/.kaggle"
      ]
    },
    {
      "cell_type": "code",
      "source": [
        "! cp kaggle.json ~/.kaggle/"
      ],
      "metadata": {
        "id": "CdbHh39s2S_u"
      },
      "execution_count": 4,
      "outputs": []
    },
    {
      "cell_type": "code",
      "source": [
        "! chmod 600 ~/.kaggle/kaggle.json"
      ],
      "metadata": {
        "id": "MIw3Xuqr2Tt9"
      },
      "execution_count": 5,
      "outputs": []
    },
    {
      "cell_type": "code",
      "source": [
        "! kaggle datasets download podsyp/find-a-defect-in-the-production-extrusion-line"
      ],
      "metadata": {
        "colab": {
          "base_uri": "https://localhost:8080/"
        },
        "id": "-4TH-tp02VAu",
        "outputId": "ddfbf2a0-8a82-4d67-e1aa-2871eb0d84cf"
      },
      "execution_count": 6,
      "outputs": [
        {
          "output_type": "stream",
          "name": "stdout",
          "text": [
            "find-a-defect-in-the-production-extrusion-line.zip: Skipping, found more recently modified local copy (use --force to force download)\n"
          ]
        }
      ]
    },
    {
      "cell_type": "markdown",
      "source": [
        "#<strong> Machine Learning approach: LGBM </strong>"
      ],
      "metadata": {
        "id": "Psq4OZKjKu8A"
      }
    },
    {
      "cell_type": "markdown",
      "source": [
        "##Import neccesary libraries / dataset"
      ],
      "metadata": {
        "id": "j4NiNu_e6MTb"
      }
    },
    {
      "cell_type": "code",
      "source": [
        "import numpy as np\n",
        "import matplotlib.pyplot as plt\n",
        "import tensorflow as tf\n",
        "import pandas as pd\n",
        "import glob \n",
        "from sklearn.metrics import confusion_matrix\n",
        "import os\n",
        "import sys\n",
        "import warnings\n",
        "import seaborn as sns\n",
        "\n",
        "if not sys.warnoptions:\n",
        "    warnings.simplefilter(\"ignore\")\n",
        "warnings.filterwarnings(\"ignore\", category=DeprecationWarning) "
      ],
      "metadata": {
        "id": "mYtDvjmZnmUc"
      },
      "execution_count": 1,
      "outputs": []
    },
    {
      "cell_type": "code",
      "source": [
        "import zipfile \n",
        "dataset_path = \"/content/find-a-defect-in-the-production-extrusion-line.zip\"\n",
        "zfile = zipfile.ZipFile(dataset_path)\n",
        "zfile.extractall()"
      ],
      "metadata": {
        "id": "ID7YJ4RtnrD1"
      },
      "execution_count": 2,
      "outputs": []
    },
    {
      "cell_type": "code",
      "source": [
        "data = pd.read_csv('/content/extrusion.csv')\n",
        "\n",
        "data.head()"
      ],
      "metadata": {
        "colab": {
          "base_uri": "https://localhost:8080/",
          "height": 386
        },
        "id": "6WYhgDN_n353",
        "outputId": "c7bd1ce6-5904-4701-a36d-bf5828c62c73"
      },
      "execution_count": 7,
      "outputs": [
        {
          "output_type": "execute_result",
          "data": {
            "text/plain": [
              "             Datum  ST0_VARActAuftrag  ST110_VARExtr_0_HeizungZone_3_Regler_Y  \\\n",
              "0  25.06.2018 4:40                0.0                                     9.0   \n",
              "1  25.06.2018 4:42                0.0                                     9.0   \n",
              "2  25.06.2018 4:45                0.0                                     9.0   \n",
              "3  25.06.2018 4:47                0.0                                    10.0   \n",
              "4  25.06.2018 4:49                0.0                                    11.0   \n",
              "\n",
              "   ST110_VARExtr_0_HeizungZone_3_SollTemp  \\\n",
              "0                                   190.0   \n",
              "1                                   190.0   \n",
              "2                                   190.0   \n",
              "3                                   190.0   \n",
              "4                                   190.0   \n",
              "\n",
              "   ST110_VARExtr_0_HeizungZone_4_Konfig  \\\n",
              "0                                   1.0   \n",
              "1                                   1.0   \n",
              "2                                   1.0   \n",
              "3                                   1.0   \n",
              "4                                   1.0   \n",
              "\n",
              "   ST110_VARExtr_0_HeizungZone_4_Regler_X  \\\n",
              "0                                   193.0   \n",
              "1                                   193.0   \n",
              "2                                   193.0   \n",
              "3                                   193.0   \n",
              "4                                   193.0   \n",
              "\n",
              "   ST110_VARExtr_0_HeizungZone_4_Regler_Y  \\\n",
              "0                                     0.0   \n",
              "1                                     0.0   \n",
              "2                                     0.0   \n",
              "3                                     0.0   \n",
              "4                                     0.0   \n",
              "\n",
              "   ST110_VARExtr_0_HeizungZone_4_SollTemp  \\\n",
              "0                                   190.0   \n",
              "1                                   190.0   \n",
              "2                                   190.0   \n",
              "3                                   190.0   \n",
              "4                                   190.0   \n",
              "\n",
              "   ST110_VARExtr_0_HeizungZone_5_Konfig  \\\n",
              "0                                   1.0   \n",
              "1                                   1.0   \n",
              "2                                   1.0   \n",
              "3                                   1.0   \n",
              "4                                   1.0   \n",
              "\n",
              "   ST110_VARExtr_0_HeizungZone_5_Regler_X  ...  ST114_VARTensPlusSp  \\\n",
              "0                                   190.0  ...                 21.0   \n",
              "1                                   190.0  ...                 21.0   \n",
              "2                                   190.0  ...                 21.0   \n",
              "3                                   190.0  ...                 21.0   \n",
              "4                                   190.0  ...                 21.0   \n",
              "\n",
              "   ST114_VARTotalLen  ST114_VARTotalRolls  ST114_VARWdCloseCmd  \\\n",
              "0          3544103.0               2174.0                  1.0   \n",
              "1          3544103.0               2174.0                  1.0   \n",
              "2          3544103.0               2174.0                  1.0   \n",
              "3          3544103.0               2174.0                  1.0   \n",
              "4          3544103.0               2174.0                  1.0   \n",
              "\n",
              "   ST114_VARWdSpeedHMI  ST114_VARWdSpSpeed  ST114_VARWdSpTens  \\\n",
              "0                 78.0                 0.0               50.0   \n",
              "1                 81.0                 0.0               50.0   \n",
              "2                 81.0                 0.0               50.0   \n",
              "3                 81.0                 0.0               50.0   \n",
              "4                 81.0                 0.0               50.0   \n",
              "\n",
              "   ST114_VARWdTapeNum  ST114_VARWdTapeReductVal  ST114_VARWdTensVis  \n",
              "0                 5.0                      15.0                53.0  \n",
              "1                 5.0                      15.0                49.0  \n",
              "2                 5.0                      15.0                48.0  \n",
              "3                 5.0                      15.0                50.0  \n",
              "4                 5.0                      15.0                51.0  \n",
              "\n",
              "[5 rows x 470 columns]"
            ],
            "text/html": [
              "\n",
              "  <div id=\"df-02047cf9-117d-41e1-9f1e-77b250b8ce11\">\n",
              "    <div class=\"colab-df-container\">\n",
              "      <div>\n",
              "<style scoped>\n",
              "    .dataframe tbody tr th:only-of-type {\n",
              "        vertical-align: middle;\n",
              "    }\n",
              "\n",
              "    .dataframe tbody tr th {\n",
              "        vertical-align: top;\n",
              "    }\n",
              "\n",
              "    .dataframe thead th {\n",
              "        text-align: right;\n",
              "    }\n",
              "</style>\n",
              "<table border=\"1\" class=\"dataframe\">\n",
              "  <thead>\n",
              "    <tr style=\"text-align: right;\">\n",
              "      <th></th>\n",
              "      <th>Datum</th>\n",
              "      <th>ST0_VARActAuftrag</th>\n",
              "      <th>ST110_VARExtr_0_HeizungZone_3_Regler_Y</th>\n",
              "      <th>ST110_VARExtr_0_HeizungZone_3_SollTemp</th>\n",
              "      <th>ST110_VARExtr_0_HeizungZone_4_Konfig</th>\n",
              "      <th>ST110_VARExtr_0_HeizungZone_4_Regler_X</th>\n",
              "      <th>ST110_VARExtr_0_HeizungZone_4_Regler_Y</th>\n",
              "      <th>ST110_VARExtr_0_HeizungZone_4_SollTemp</th>\n",
              "      <th>ST110_VARExtr_0_HeizungZone_5_Konfig</th>\n",
              "      <th>ST110_VARExtr_0_HeizungZone_5_Regler_X</th>\n",
              "      <th>...</th>\n",
              "      <th>ST114_VARTensPlusSp</th>\n",
              "      <th>ST114_VARTotalLen</th>\n",
              "      <th>ST114_VARTotalRolls</th>\n",
              "      <th>ST114_VARWdCloseCmd</th>\n",
              "      <th>ST114_VARWdSpeedHMI</th>\n",
              "      <th>ST114_VARWdSpSpeed</th>\n",
              "      <th>ST114_VARWdSpTens</th>\n",
              "      <th>ST114_VARWdTapeNum</th>\n",
              "      <th>ST114_VARWdTapeReductVal</th>\n",
              "      <th>ST114_VARWdTensVis</th>\n",
              "    </tr>\n",
              "  </thead>\n",
              "  <tbody>\n",
              "    <tr>\n",
              "      <th>0</th>\n",
              "      <td>25.06.2018 4:40</td>\n",
              "      <td>0.0</td>\n",
              "      <td>9.0</td>\n",
              "      <td>190.0</td>\n",
              "      <td>1.0</td>\n",
              "      <td>193.0</td>\n",
              "      <td>0.0</td>\n",
              "      <td>190.0</td>\n",
              "      <td>1.0</td>\n",
              "      <td>190.0</td>\n",
              "      <td>...</td>\n",
              "      <td>21.0</td>\n",
              "      <td>3544103.0</td>\n",
              "      <td>2174.0</td>\n",
              "      <td>1.0</td>\n",
              "      <td>78.0</td>\n",
              "      <td>0.0</td>\n",
              "      <td>50.0</td>\n",
              "      <td>5.0</td>\n",
              "      <td>15.0</td>\n",
              "      <td>53.0</td>\n",
              "    </tr>\n",
              "    <tr>\n",
              "      <th>1</th>\n",
              "      <td>25.06.2018 4:42</td>\n",
              "      <td>0.0</td>\n",
              "      <td>9.0</td>\n",
              "      <td>190.0</td>\n",
              "      <td>1.0</td>\n",
              "      <td>193.0</td>\n",
              "      <td>0.0</td>\n",
              "      <td>190.0</td>\n",
              "      <td>1.0</td>\n",
              "      <td>190.0</td>\n",
              "      <td>...</td>\n",
              "      <td>21.0</td>\n",
              "      <td>3544103.0</td>\n",
              "      <td>2174.0</td>\n",
              "      <td>1.0</td>\n",
              "      <td>81.0</td>\n",
              "      <td>0.0</td>\n",
              "      <td>50.0</td>\n",
              "      <td>5.0</td>\n",
              "      <td>15.0</td>\n",
              "      <td>49.0</td>\n",
              "    </tr>\n",
              "    <tr>\n",
              "      <th>2</th>\n",
              "      <td>25.06.2018 4:45</td>\n",
              "      <td>0.0</td>\n",
              "      <td>9.0</td>\n",
              "      <td>190.0</td>\n",
              "      <td>1.0</td>\n",
              "      <td>193.0</td>\n",
              "      <td>0.0</td>\n",
              "      <td>190.0</td>\n",
              "      <td>1.0</td>\n",
              "      <td>190.0</td>\n",
              "      <td>...</td>\n",
              "      <td>21.0</td>\n",
              "      <td>3544103.0</td>\n",
              "      <td>2174.0</td>\n",
              "      <td>1.0</td>\n",
              "      <td>81.0</td>\n",
              "      <td>0.0</td>\n",
              "      <td>50.0</td>\n",
              "      <td>5.0</td>\n",
              "      <td>15.0</td>\n",
              "      <td>48.0</td>\n",
              "    </tr>\n",
              "    <tr>\n",
              "      <th>3</th>\n",
              "      <td>25.06.2018 4:47</td>\n",
              "      <td>0.0</td>\n",
              "      <td>10.0</td>\n",
              "      <td>190.0</td>\n",
              "      <td>1.0</td>\n",
              "      <td>193.0</td>\n",
              "      <td>0.0</td>\n",
              "      <td>190.0</td>\n",
              "      <td>1.0</td>\n",
              "      <td>190.0</td>\n",
              "      <td>...</td>\n",
              "      <td>21.0</td>\n",
              "      <td>3544103.0</td>\n",
              "      <td>2174.0</td>\n",
              "      <td>1.0</td>\n",
              "      <td>81.0</td>\n",
              "      <td>0.0</td>\n",
              "      <td>50.0</td>\n",
              "      <td>5.0</td>\n",
              "      <td>15.0</td>\n",
              "      <td>50.0</td>\n",
              "    </tr>\n",
              "    <tr>\n",
              "      <th>4</th>\n",
              "      <td>25.06.2018 4:49</td>\n",
              "      <td>0.0</td>\n",
              "      <td>11.0</td>\n",
              "      <td>190.0</td>\n",
              "      <td>1.0</td>\n",
              "      <td>193.0</td>\n",
              "      <td>0.0</td>\n",
              "      <td>190.0</td>\n",
              "      <td>1.0</td>\n",
              "      <td>190.0</td>\n",
              "      <td>...</td>\n",
              "      <td>21.0</td>\n",
              "      <td>3544103.0</td>\n",
              "      <td>2174.0</td>\n",
              "      <td>1.0</td>\n",
              "      <td>81.0</td>\n",
              "      <td>0.0</td>\n",
              "      <td>50.0</td>\n",
              "      <td>5.0</td>\n",
              "      <td>15.0</td>\n",
              "      <td>51.0</td>\n",
              "    </tr>\n",
              "  </tbody>\n",
              "</table>\n",
              "<p>5 rows × 470 columns</p>\n",
              "</div>\n",
              "      <button class=\"colab-df-convert\" onclick=\"convertToInteractive('df-02047cf9-117d-41e1-9f1e-77b250b8ce11')\"\n",
              "              title=\"Convert this dataframe to an interactive table.\"\n",
              "              style=\"display:none;\">\n",
              "        \n",
              "  <svg xmlns=\"http://www.w3.org/2000/svg\" height=\"24px\"viewBox=\"0 0 24 24\"\n",
              "       width=\"24px\">\n",
              "    <path d=\"M0 0h24v24H0V0z\" fill=\"none\"/>\n",
              "    <path d=\"M18.56 5.44l.94 2.06.94-2.06 2.06-.94-2.06-.94-.94-2.06-.94 2.06-2.06.94zm-11 1L8.5 8.5l.94-2.06 2.06-.94-2.06-.94L8.5 2.5l-.94 2.06-2.06.94zm10 10l.94 2.06.94-2.06 2.06-.94-2.06-.94-.94-2.06-.94 2.06-2.06.94z\"/><path d=\"M17.41 7.96l-1.37-1.37c-.4-.4-.92-.59-1.43-.59-.52 0-1.04.2-1.43.59L10.3 9.45l-7.72 7.72c-.78.78-.78 2.05 0 2.83L4 21.41c.39.39.9.59 1.41.59.51 0 1.02-.2 1.41-.59l7.78-7.78 2.81-2.81c.8-.78.8-2.07 0-2.86zM5.41 20L4 18.59l7.72-7.72 1.47 1.35L5.41 20z\"/>\n",
              "  </svg>\n",
              "      </button>\n",
              "      \n",
              "  <style>\n",
              "    .colab-df-container {\n",
              "      display:flex;\n",
              "      flex-wrap:wrap;\n",
              "      gap: 12px;\n",
              "    }\n",
              "\n",
              "    .colab-df-convert {\n",
              "      background-color: #E8F0FE;\n",
              "      border: none;\n",
              "      border-radius: 50%;\n",
              "      cursor: pointer;\n",
              "      display: none;\n",
              "      fill: #1967D2;\n",
              "      height: 32px;\n",
              "      padding: 0 0 0 0;\n",
              "      width: 32px;\n",
              "    }\n",
              "\n",
              "    .colab-df-convert:hover {\n",
              "      background-color: #E2EBFA;\n",
              "      box-shadow: 0px 1px 2px rgba(60, 64, 67, 0.3), 0px 1px 3px 1px rgba(60, 64, 67, 0.15);\n",
              "      fill: #174EA6;\n",
              "    }\n",
              "\n",
              "    [theme=dark] .colab-df-convert {\n",
              "      background-color: #3B4455;\n",
              "      fill: #D2E3FC;\n",
              "    }\n",
              "\n",
              "    [theme=dark] .colab-df-convert:hover {\n",
              "      background-color: #434B5C;\n",
              "      box-shadow: 0px 1px 3px 1px rgba(0, 0, 0, 0.15);\n",
              "      filter: drop-shadow(0px 1px 2px rgba(0, 0, 0, 0.3));\n",
              "      fill: #FFFFFF;\n",
              "    }\n",
              "  </style>\n",
              "\n",
              "      <script>\n",
              "        const buttonEl =\n",
              "          document.querySelector('#df-02047cf9-117d-41e1-9f1e-77b250b8ce11 button.colab-df-convert');\n",
              "        buttonEl.style.display =\n",
              "          google.colab.kernel.accessAllowed ? 'block' : 'none';\n",
              "\n",
              "        async function convertToInteractive(key) {\n",
              "          const element = document.querySelector('#df-02047cf9-117d-41e1-9f1e-77b250b8ce11');\n",
              "          const dataTable =\n",
              "            await google.colab.kernel.invokeFunction('convertToInteractive',\n",
              "                                                     [key], {});\n",
              "          if (!dataTable) return;\n",
              "\n",
              "          const docLinkHtml = 'Like what you see? Visit the ' +\n",
              "            '<a target=\"_blank\" href=https://colab.research.google.com/notebooks/data_table.ipynb>data table notebook</a>'\n",
              "            + ' to learn more about interactive tables.';\n",
              "          element.innerHTML = '';\n",
              "          dataTable['output_type'] = 'display_data';\n",
              "          await google.colab.output.renderOutput(dataTable, element);\n",
              "          const docLink = document.createElement('div');\n",
              "          docLink.innerHTML = docLinkHtml;\n",
              "          element.appendChild(docLink);\n",
              "        }\n",
              "      </script>\n",
              "    </div>\n",
              "  </div>\n",
              "  "
            ]
          },
          "metadata": {},
          "execution_count": 7
        }
      ]
    },
    {
      "cell_type": "markdown",
      "source": [
        "##Preprocessing Steps 1: Checking Null Values"
      ],
      "metadata": {
        "id": "40bRBijbK6Ai"
      }
    },
    {
      "cell_type": "code",
      "source": [
        "Sum = data.isnull().sum().sort_values(ascending=False)\n",
        "percent = ((data.isnull().sum()/data.isnull().count())*100).sort_values(ascending=False)\n",
        "missing_data = pd.concat([Sum, percent], axis=1, keys=['Sum', 'Percent'])\n",
        "missing_data"
      ],
      "metadata": {
        "colab": {
          "base_uri": "https://localhost:8080/",
          "height": 424
        },
        "id": "127Bxn7MfDUu",
        "outputId": "d7ad897d-365b-4032-bf9f-685d511dff3d"
      },
      "execution_count": 8,
      "outputs": [
        {
          "output_type": "execute_result",
          "data": {
            "text/plain": [
              "                                         Sum   Percent\n",
              "ST114_VARWdTensVis                      1101  0.486015\n",
              "ST114_VARLmpRun                         1101  0.486015\n",
              "ST114_VARGesamtZeit                     1101  0.486015\n",
              "ST114_VARGapMin                         1101  0.486015\n",
              "ST114_VARGapMax                         1101  0.486015\n",
              "...                                      ...       ...\n",
              "ST110_VARExtr_3_HeizungZone_8_Regler_Y    62  0.027369\n",
              "ST110_VARExtr_3_HeizungZone_8_Regler_X    62  0.027369\n",
              "ST110_VARExtr_0_HeizungZone_3_SollTemp    62  0.027369\n",
              "ST0_VARActAuftrag                          0  0.000000\n",
              "Datum                                      0  0.000000\n",
              "\n",
              "[470 rows x 2 columns]"
            ],
            "text/html": [
              "\n",
              "  <div id=\"df-9702807b-3384-4b11-b5cd-90f922531c39\">\n",
              "    <div class=\"colab-df-container\">\n",
              "      <div>\n",
              "<style scoped>\n",
              "    .dataframe tbody tr th:only-of-type {\n",
              "        vertical-align: middle;\n",
              "    }\n",
              "\n",
              "    .dataframe tbody tr th {\n",
              "        vertical-align: top;\n",
              "    }\n",
              "\n",
              "    .dataframe thead th {\n",
              "        text-align: right;\n",
              "    }\n",
              "</style>\n",
              "<table border=\"1\" class=\"dataframe\">\n",
              "  <thead>\n",
              "    <tr style=\"text-align: right;\">\n",
              "      <th></th>\n",
              "      <th>Sum</th>\n",
              "      <th>Percent</th>\n",
              "    </tr>\n",
              "  </thead>\n",
              "  <tbody>\n",
              "    <tr>\n",
              "      <th>ST114_VARWdTensVis</th>\n",
              "      <td>1101</td>\n",
              "      <td>0.486015</td>\n",
              "    </tr>\n",
              "    <tr>\n",
              "      <th>ST114_VARLmpRun</th>\n",
              "      <td>1101</td>\n",
              "      <td>0.486015</td>\n",
              "    </tr>\n",
              "    <tr>\n",
              "      <th>ST114_VARGesamtZeit</th>\n",
              "      <td>1101</td>\n",
              "      <td>0.486015</td>\n",
              "    </tr>\n",
              "    <tr>\n",
              "      <th>ST114_VARGapMin</th>\n",
              "      <td>1101</td>\n",
              "      <td>0.486015</td>\n",
              "    </tr>\n",
              "    <tr>\n",
              "      <th>ST114_VARGapMax</th>\n",
              "      <td>1101</td>\n",
              "      <td>0.486015</td>\n",
              "    </tr>\n",
              "    <tr>\n",
              "      <th>...</th>\n",
              "      <td>...</td>\n",
              "      <td>...</td>\n",
              "    </tr>\n",
              "    <tr>\n",
              "      <th>ST110_VARExtr_3_HeizungZone_8_Regler_Y</th>\n",
              "      <td>62</td>\n",
              "      <td>0.027369</td>\n",
              "    </tr>\n",
              "    <tr>\n",
              "      <th>ST110_VARExtr_3_HeizungZone_8_Regler_X</th>\n",
              "      <td>62</td>\n",
              "      <td>0.027369</td>\n",
              "    </tr>\n",
              "    <tr>\n",
              "      <th>ST110_VARExtr_0_HeizungZone_3_SollTemp</th>\n",
              "      <td>62</td>\n",
              "      <td>0.027369</td>\n",
              "    </tr>\n",
              "    <tr>\n",
              "      <th>ST0_VARActAuftrag</th>\n",
              "      <td>0</td>\n",
              "      <td>0.000000</td>\n",
              "    </tr>\n",
              "    <tr>\n",
              "      <th>Datum</th>\n",
              "      <td>0</td>\n",
              "      <td>0.000000</td>\n",
              "    </tr>\n",
              "  </tbody>\n",
              "</table>\n",
              "<p>470 rows × 2 columns</p>\n",
              "</div>\n",
              "      <button class=\"colab-df-convert\" onclick=\"convertToInteractive('df-9702807b-3384-4b11-b5cd-90f922531c39')\"\n",
              "              title=\"Convert this dataframe to an interactive table.\"\n",
              "              style=\"display:none;\">\n",
              "        \n",
              "  <svg xmlns=\"http://www.w3.org/2000/svg\" height=\"24px\"viewBox=\"0 0 24 24\"\n",
              "       width=\"24px\">\n",
              "    <path d=\"M0 0h24v24H0V0z\" fill=\"none\"/>\n",
              "    <path d=\"M18.56 5.44l.94 2.06.94-2.06 2.06-.94-2.06-.94-.94-2.06-.94 2.06-2.06.94zm-11 1L8.5 8.5l.94-2.06 2.06-.94-2.06-.94L8.5 2.5l-.94 2.06-2.06.94zm10 10l.94 2.06.94-2.06 2.06-.94-2.06-.94-.94-2.06-.94 2.06-2.06.94z\"/><path d=\"M17.41 7.96l-1.37-1.37c-.4-.4-.92-.59-1.43-.59-.52 0-1.04.2-1.43.59L10.3 9.45l-7.72 7.72c-.78.78-.78 2.05 0 2.83L4 21.41c.39.39.9.59 1.41.59.51 0 1.02-.2 1.41-.59l7.78-7.78 2.81-2.81c.8-.78.8-2.07 0-2.86zM5.41 20L4 18.59l7.72-7.72 1.47 1.35L5.41 20z\"/>\n",
              "  </svg>\n",
              "      </button>\n",
              "      \n",
              "  <style>\n",
              "    .colab-df-container {\n",
              "      display:flex;\n",
              "      flex-wrap:wrap;\n",
              "      gap: 12px;\n",
              "    }\n",
              "\n",
              "    .colab-df-convert {\n",
              "      background-color: #E8F0FE;\n",
              "      border: none;\n",
              "      border-radius: 50%;\n",
              "      cursor: pointer;\n",
              "      display: none;\n",
              "      fill: #1967D2;\n",
              "      height: 32px;\n",
              "      padding: 0 0 0 0;\n",
              "      width: 32px;\n",
              "    }\n",
              "\n",
              "    .colab-df-convert:hover {\n",
              "      background-color: #E2EBFA;\n",
              "      box-shadow: 0px 1px 2px rgba(60, 64, 67, 0.3), 0px 1px 3px 1px rgba(60, 64, 67, 0.15);\n",
              "      fill: #174EA6;\n",
              "    }\n",
              "\n",
              "    [theme=dark] .colab-df-convert {\n",
              "      background-color: #3B4455;\n",
              "      fill: #D2E3FC;\n",
              "    }\n",
              "\n",
              "    [theme=dark] .colab-df-convert:hover {\n",
              "      background-color: #434B5C;\n",
              "      box-shadow: 0px 1px 3px 1px rgba(0, 0, 0, 0.15);\n",
              "      filter: drop-shadow(0px 1px 2px rgba(0, 0, 0, 0.3));\n",
              "      fill: #FFFFFF;\n",
              "    }\n",
              "  </style>\n",
              "\n",
              "      <script>\n",
              "        const buttonEl =\n",
              "          document.querySelector('#df-9702807b-3384-4b11-b5cd-90f922531c39 button.colab-df-convert');\n",
              "        buttonEl.style.display =\n",
              "          google.colab.kernel.accessAllowed ? 'block' : 'none';\n",
              "\n",
              "        async function convertToInteractive(key) {\n",
              "          const element = document.querySelector('#df-9702807b-3384-4b11-b5cd-90f922531c39');\n",
              "          const dataTable =\n",
              "            await google.colab.kernel.invokeFunction('convertToInteractive',\n",
              "                                                     [key], {});\n",
              "          if (!dataTable) return;\n",
              "\n",
              "          const docLinkHtml = 'Like what you see? Visit the ' +\n",
              "            '<a target=\"_blank\" href=https://colab.research.google.com/notebooks/data_table.ipynb>data table notebook</a>'\n",
              "            + ' to learn more about interactive tables.';\n",
              "          element.innerHTML = '';\n",
              "          dataTable['output_type'] = 'display_data';\n",
              "          await google.colab.output.renderOutput(dataTable, element);\n",
              "          const docLink = document.createElement('div');\n",
              "          docLink.innerHTML = docLinkHtml;\n",
              "          element.appendChild(docLink);\n",
              "        }\n",
              "      </script>\n",
              "    </div>\n",
              "  </div>\n",
              "  "
            ]
          },
          "metadata": {},
          "execution_count": 8
        }
      ]
    },
    {
      "cell_type": "code",
      "source": [
        "from datetime import datetime\n",
        "data['year'] = pd.to_datetime(data['Datum']).dt.strftime('%Y')\n",
        "data['month'] = pd.to_datetime(data['Datum']).dt.strftime('%M')\n",
        "data['date'] = pd.to_datetime(data['Datum']).dt.strftime('%d')"
      ],
      "metadata": {
        "id": "M2IMwkLAmoKi"
      },
      "execution_count": 9,
      "outputs": []
    },
    {
      "cell_type": "code",
      "source": [
        "data.head()"
      ],
      "metadata": {
        "colab": {
          "base_uri": "https://localhost:8080/",
          "height": 386
        },
        "id": "3TiGoTMinvOL",
        "outputId": "d8690d8e-bf0a-43e2-80cb-22d1b6f5c97b"
      },
      "execution_count": 10,
      "outputs": [
        {
          "output_type": "execute_result",
          "data": {
            "text/plain": [
              "             Datum  ST0_VARActAuftrag  ST110_VARExtr_0_HeizungZone_3_Regler_Y  \\\n",
              "0  25.06.2018 4:40                0.0                                     9.0   \n",
              "1  25.06.2018 4:42                0.0                                     9.0   \n",
              "2  25.06.2018 4:45                0.0                                     9.0   \n",
              "3  25.06.2018 4:47                0.0                                    10.0   \n",
              "4  25.06.2018 4:49                0.0                                    11.0   \n",
              "\n",
              "   ST110_VARExtr_0_HeizungZone_3_SollTemp  \\\n",
              "0                                   190.0   \n",
              "1                                   190.0   \n",
              "2                                   190.0   \n",
              "3                                   190.0   \n",
              "4                                   190.0   \n",
              "\n",
              "   ST110_VARExtr_0_HeizungZone_4_Konfig  \\\n",
              "0                                   1.0   \n",
              "1                                   1.0   \n",
              "2                                   1.0   \n",
              "3                                   1.0   \n",
              "4                                   1.0   \n",
              "\n",
              "   ST110_VARExtr_0_HeizungZone_4_Regler_X  \\\n",
              "0                                   193.0   \n",
              "1                                   193.0   \n",
              "2                                   193.0   \n",
              "3                                   193.0   \n",
              "4                                   193.0   \n",
              "\n",
              "   ST110_VARExtr_0_HeizungZone_4_Regler_Y  \\\n",
              "0                                     0.0   \n",
              "1                                     0.0   \n",
              "2                                     0.0   \n",
              "3                                     0.0   \n",
              "4                                     0.0   \n",
              "\n",
              "   ST110_VARExtr_0_HeizungZone_4_SollTemp  \\\n",
              "0                                   190.0   \n",
              "1                                   190.0   \n",
              "2                                   190.0   \n",
              "3                                   190.0   \n",
              "4                                   190.0   \n",
              "\n",
              "   ST110_VARExtr_0_HeizungZone_5_Konfig  \\\n",
              "0                                   1.0   \n",
              "1                                   1.0   \n",
              "2                                   1.0   \n",
              "3                                   1.0   \n",
              "4                                   1.0   \n",
              "\n",
              "   ST110_VARExtr_0_HeizungZone_5_Regler_X  ...  ST114_VARWdCloseCmd  \\\n",
              "0                                   190.0  ...                  1.0   \n",
              "1                                   190.0  ...                  1.0   \n",
              "2                                   190.0  ...                  1.0   \n",
              "3                                   190.0  ...                  1.0   \n",
              "4                                   190.0  ...                  1.0   \n",
              "\n",
              "   ST114_VARWdSpeedHMI  ST114_VARWdSpSpeed  ST114_VARWdSpTens  \\\n",
              "0                 78.0                 0.0               50.0   \n",
              "1                 81.0                 0.0               50.0   \n",
              "2                 81.0                 0.0               50.0   \n",
              "3                 81.0                 0.0               50.0   \n",
              "4                 81.0                 0.0               50.0   \n",
              "\n",
              "   ST114_VARWdTapeNum  ST114_VARWdTapeReductVal  ST114_VARWdTensVis  year  \\\n",
              "0                 5.0                      15.0                53.0  2018   \n",
              "1                 5.0                      15.0                49.0  2018   \n",
              "2                 5.0                      15.0                48.0  2018   \n",
              "3                 5.0                      15.0                50.0  2018   \n",
              "4                 5.0                      15.0                51.0  2018   \n",
              "\n",
              "   month  date  \n",
              "0     40    25  \n",
              "1     42    25  \n",
              "2     45    25  \n",
              "3     47    25  \n",
              "4     49    25  \n",
              "\n",
              "[5 rows x 473 columns]"
            ],
            "text/html": [
              "\n",
              "  <div id=\"df-5208b1ad-6e30-4567-9b8a-14ebcd9811ee\">\n",
              "    <div class=\"colab-df-container\">\n",
              "      <div>\n",
              "<style scoped>\n",
              "    .dataframe tbody tr th:only-of-type {\n",
              "        vertical-align: middle;\n",
              "    }\n",
              "\n",
              "    .dataframe tbody tr th {\n",
              "        vertical-align: top;\n",
              "    }\n",
              "\n",
              "    .dataframe thead th {\n",
              "        text-align: right;\n",
              "    }\n",
              "</style>\n",
              "<table border=\"1\" class=\"dataframe\">\n",
              "  <thead>\n",
              "    <tr style=\"text-align: right;\">\n",
              "      <th></th>\n",
              "      <th>Datum</th>\n",
              "      <th>ST0_VARActAuftrag</th>\n",
              "      <th>ST110_VARExtr_0_HeizungZone_3_Regler_Y</th>\n",
              "      <th>ST110_VARExtr_0_HeizungZone_3_SollTemp</th>\n",
              "      <th>ST110_VARExtr_0_HeizungZone_4_Konfig</th>\n",
              "      <th>ST110_VARExtr_0_HeizungZone_4_Regler_X</th>\n",
              "      <th>ST110_VARExtr_0_HeizungZone_4_Regler_Y</th>\n",
              "      <th>ST110_VARExtr_0_HeizungZone_4_SollTemp</th>\n",
              "      <th>ST110_VARExtr_0_HeizungZone_5_Konfig</th>\n",
              "      <th>ST110_VARExtr_0_HeizungZone_5_Regler_X</th>\n",
              "      <th>...</th>\n",
              "      <th>ST114_VARWdCloseCmd</th>\n",
              "      <th>ST114_VARWdSpeedHMI</th>\n",
              "      <th>ST114_VARWdSpSpeed</th>\n",
              "      <th>ST114_VARWdSpTens</th>\n",
              "      <th>ST114_VARWdTapeNum</th>\n",
              "      <th>ST114_VARWdTapeReductVal</th>\n",
              "      <th>ST114_VARWdTensVis</th>\n",
              "      <th>year</th>\n",
              "      <th>month</th>\n",
              "      <th>date</th>\n",
              "    </tr>\n",
              "  </thead>\n",
              "  <tbody>\n",
              "    <tr>\n",
              "      <th>0</th>\n",
              "      <td>25.06.2018 4:40</td>\n",
              "      <td>0.0</td>\n",
              "      <td>9.0</td>\n",
              "      <td>190.0</td>\n",
              "      <td>1.0</td>\n",
              "      <td>193.0</td>\n",
              "      <td>0.0</td>\n",
              "      <td>190.0</td>\n",
              "      <td>1.0</td>\n",
              "      <td>190.0</td>\n",
              "      <td>...</td>\n",
              "      <td>1.0</td>\n",
              "      <td>78.0</td>\n",
              "      <td>0.0</td>\n",
              "      <td>50.0</td>\n",
              "      <td>5.0</td>\n",
              "      <td>15.0</td>\n",
              "      <td>53.0</td>\n",
              "      <td>2018</td>\n",
              "      <td>40</td>\n",
              "      <td>25</td>\n",
              "    </tr>\n",
              "    <tr>\n",
              "      <th>1</th>\n",
              "      <td>25.06.2018 4:42</td>\n",
              "      <td>0.0</td>\n",
              "      <td>9.0</td>\n",
              "      <td>190.0</td>\n",
              "      <td>1.0</td>\n",
              "      <td>193.0</td>\n",
              "      <td>0.0</td>\n",
              "      <td>190.0</td>\n",
              "      <td>1.0</td>\n",
              "      <td>190.0</td>\n",
              "      <td>...</td>\n",
              "      <td>1.0</td>\n",
              "      <td>81.0</td>\n",
              "      <td>0.0</td>\n",
              "      <td>50.0</td>\n",
              "      <td>5.0</td>\n",
              "      <td>15.0</td>\n",
              "      <td>49.0</td>\n",
              "      <td>2018</td>\n",
              "      <td>42</td>\n",
              "      <td>25</td>\n",
              "    </tr>\n",
              "    <tr>\n",
              "      <th>2</th>\n",
              "      <td>25.06.2018 4:45</td>\n",
              "      <td>0.0</td>\n",
              "      <td>9.0</td>\n",
              "      <td>190.0</td>\n",
              "      <td>1.0</td>\n",
              "      <td>193.0</td>\n",
              "      <td>0.0</td>\n",
              "      <td>190.0</td>\n",
              "      <td>1.0</td>\n",
              "      <td>190.0</td>\n",
              "      <td>...</td>\n",
              "      <td>1.0</td>\n",
              "      <td>81.0</td>\n",
              "      <td>0.0</td>\n",
              "      <td>50.0</td>\n",
              "      <td>5.0</td>\n",
              "      <td>15.0</td>\n",
              "      <td>48.0</td>\n",
              "      <td>2018</td>\n",
              "      <td>45</td>\n",
              "      <td>25</td>\n",
              "    </tr>\n",
              "    <tr>\n",
              "      <th>3</th>\n",
              "      <td>25.06.2018 4:47</td>\n",
              "      <td>0.0</td>\n",
              "      <td>10.0</td>\n",
              "      <td>190.0</td>\n",
              "      <td>1.0</td>\n",
              "      <td>193.0</td>\n",
              "      <td>0.0</td>\n",
              "      <td>190.0</td>\n",
              "      <td>1.0</td>\n",
              "      <td>190.0</td>\n",
              "      <td>...</td>\n",
              "      <td>1.0</td>\n",
              "      <td>81.0</td>\n",
              "      <td>0.0</td>\n",
              "      <td>50.0</td>\n",
              "      <td>5.0</td>\n",
              "      <td>15.0</td>\n",
              "      <td>50.0</td>\n",
              "      <td>2018</td>\n",
              "      <td>47</td>\n",
              "      <td>25</td>\n",
              "    </tr>\n",
              "    <tr>\n",
              "      <th>4</th>\n",
              "      <td>25.06.2018 4:49</td>\n",
              "      <td>0.0</td>\n",
              "      <td>11.0</td>\n",
              "      <td>190.0</td>\n",
              "      <td>1.0</td>\n",
              "      <td>193.0</td>\n",
              "      <td>0.0</td>\n",
              "      <td>190.0</td>\n",
              "      <td>1.0</td>\n",
              "      <td>190.0</td>\n",
              "      <td>...</td>\n",
              "      <td>1.0</td>\n",
              "      <td>81.0</td>\n",
              "      <td>0.0</td>\n",
              "      <td>50.0</td>\n",
              "      <td>5.0</td>\n",
              "      <td>15.0</td>\n",
              "      <td>51.0</td>\n",
              "      <td>2018</td>\n",
              "      <td>49</td>\n",
              "      <td>25</td>\n",
              "    </tr>\n",
              "  </tbody>\n",
              "</table>\n",
              "<p>5 rows × 473 columns</p>\n",
              "</div>\n",
              "      <button class=\"colab-df-convert\" onclick=\"convertToInteractive('df-5208b1ad-6e30-4567-9b8a-14ebcd9811ee')\"\n",
              "              title=\"Convert this dataframe to an interactive table.\"\n",
              "              style=\"display:none;\">\n",
              "        \n",
              "  <svg xmlns=\"http://www.w3.org/2000/svg\" height=\"24px\"viewBox=\"0 0 24 24\"\n",
              "       width=\"24px\">\n",
              "    <path d=\"M0 0h24v24H0V0z\" fill=\"none\"/>\n",
              "    <path d=\"M18.56 5.44l.94 2.06.94-2.06 2.06-.94-2.06-.94-.94-2.06-.94 2.06-2.06.94zm-11 1L8.5 8.5l.94-2.06 2.06-.94-2.06-.94L8.5 2.5l-.94 2.06-2.06.94zm10 10l.94 2.06.94-2.06 2.06-.94-2.06-.94-.94-2.06-.94 2.06-2.06.94z\"/><path d=\"M17.41 7.96l-1.37-1.37c-.4-.4-.92-.59-1.43-.59-.52 0-1.04.2-1.43.59L10.3 9.45l-7.72 7.72c-.78.78-.78 2.05 0 2.83L4 21.41c.39.39.9.59 1.41.59.51 0 1.02-.2 1.41-.59l7.78-7.78 2.81-2.81c.8-.78.8-2.07 0-2.86zM5.41 20L4 18.59l7.72-7.72 1.47 1.35L5.41 20z\"/>\n",
              "  </svg>\n",
              "      </button>\n",
              "      \n",
              "  <style>\n",
              "    .colab-df-container {\n",
              "      display:flex;\n",
              "      flex-wrap:wrap;\n",
              "      gap: 12px;\n",
              "    }\n",
              "\n",
              "    .colab-df-convert {\n",
              "      background-color: #E8F0FE;\n",
              "      border: none;\n",
              "      border-radius: 50%;\n",
              "      cursor: pointer;\n",
              "      display: none;\n",
              "      fill: #1967D2;\n",
              "      height: 32px;\n",
              "      padding: 0 0 0 0;\n",
              "      width: 32px;\n",
              "    }\n",
              "\n",
              "    .colab-df-convert:hover {\n",
              "      background-color: #E2EBFA;\n",
              "      box-shadow: 0px 1px 2px rgba(60, 64, 67, 0.3), 0px 1px 3px 1px rgba(60, 64, 67, 0.15);\n",
              "      fill: #174EA6;\n",
              "    }\n",
              "\n",
              "    [theme=dark] .colab-df-convert {\n",
              "      background-color: #3B4455;\n",
              "      fill: #D2E3FC;\n",
              "    }\n",
              "\n",
              "    [theme=dark] .colab-df-convert:hover {\n",
              "      background-color: #434B5C;\n",
              "      box-shadow: 0px 1px 3px 1px rgba(0, 0, 0, 0.15);\n",
              "      filter: drop-shadow(0px 1px 2px rgba(0, 0, 0, 0.3));\n",
              "      fill: #FFFFFF;\n",
              "    }\n",
              "  </style>\n",
              "\n",
              "      <script>\n",
              "        const buttonEl =\n",
              "          document.querySelector('#df-5208b1ad-6e30-4567-9b8a-14ebcd9811ee button.colab-df-convert');\n",
              "        buttonEl.style.display =\n",
              "          google.colab.kernel.accessAllowed ? 'block' : 'none';\n",
              "\n",
              "        async function convertToInteractive(key) {\n",
              "          const element = document.querySelector('#df-5208b1ad-6e30-4567-9b8a-14ebcd9811ee');\n",
              "          const dataTable =\n",
              "            await google.colab.kernel.invokeFunction('convertToInteractive',\n",
              "                                                     [key], {});\n",
              "          if (!dataTable) return;\n",
              "\n",
              "          const docLinkHtml = 'Like what you see? Visit the ' +\n",
              "            '<a target=\"_blank\" href=https://colab.research.google.com/notebooks/data_table.ipynb>data table notebook</a>'\n",
              "            + ' to learn more about interactive tables.';\n",
              "          element.innerHTML = '';\n",
              "          dataTable['output_type'] = 'display_data';\n",
              "          await google.colab.output.renderOutput(dataTable, element);\n",
              "          const docLink = document.createElement('div');\n",
              "          docLink.innerHTML = docLinkHtml;\n",
              "          element.appendChild(docLink);\n",
              "        }\n",
              "      </script>\n",
              "    </div>\n",
              "  </div>\n",
              "  "
            ]
          },
          "metadata": {},
          "execution_count": 10
        }
      ]
    },
    {
      "cell_type": "markdown",
      "source": [
        "##Preprocessing Steps 2: Determining target variable"
      ],
      "metadata": {
        "id": "Nnwmp6tZLXUd"
      }
    },
    {
      "cell_type": "code",
      "source": [
        "plt.figure(figsize=(8,6))\n",
        "plt.hist(data[data['ST110_VAREx_0_SDickeIst'] < 100]['ST110_VAREx_0_SDickeIst'], bins=100, alpha=0.5, label=\"extruder 0\")\n",
        "plt.hist(data[data['ST110_VAREx_1_SDickeIst'] < 100]['ST110_VAREx_1_SDickeIst'], bins=100, alpha=0.5, label=\"extruder A\")\n",
        "plt.hist(data[data['ST110_VAREx_2_SDickeIst'] < 100]['ST110_VAREx_2_SDickeIst'], bins=100, alpha=0.5, label=\"extruder B\")\n",
        "plt.hist(data[data['ST110_VAREx_3_SDickeIst'] < 100]['ST110_VAREx_3_SDickeIst'], bins=100, alpha=0.5, label=\"extruder C\")\n",
        "plt.xlabel(\"Data\", size=14)\n",
        "plt.ylabel(\"Count\", size=14)\n",
        "plt.title(\"Different extruders and actual layer thickness\")\n",
        "plt.legend(loc='upper right')"
      ],
      "metadata": {
        "colab": {
          "base_uri": "https://localhost:8080/",
          "height": 426
        },
        "id": "qFQyzHPKz9GA",
        "outputId": "b1a8e0b5-db1e-491f-c9bf-e62329a677c3"
      },
      "execution_count": 11,
      "outputs": [
        {
          "output_type": "execute_result",
          "data": {
            "text/plain": [
              "<matplotlib.legend.Legend at 0x7f620eb2c210>"
            ]
          },
          "metadata": {},
          "execution_count": 11
        },
        {
          "output_type": "display_data",
          "data": {
            "text/plain": [
              "<Figure size 576x432 with 1 Axes>"
            ],
            "image/png": "[encoded data removed]"
          },
          "metadata": {
            "needs_background": "light"
          }
        }
      ]
    },
    {
      "cell_type": "code",
      "source": [
        "data['EXT0'] = data['ST110_VAREx_0_SDickeIst'].apply(lambda x: 1 if x == 0 else 0)\n",
        "data['EXTA'] = data['ST110_VAREx_1_SDickeIst'].apply(lambda x: 1 if x == 0 else 0)\n",
        "data['EXTB'] = data['ST110_VAREx_2_SDickeIst'].apply(lambda x: 1 if x == 0 else 0)\n",
        "data['EXTC'] = data['ST110_VAREx_3_SDickeIst'].apply(lambda x: 1 if x == 0 else 0)\n",
        "data['EXTsum'] = data['EXTC']+data['EXTA']+data['EXTB']+data['EXT0']\n",
        "data['EXTtotal'] = data['EXTsum'].apply(lambda x: 0 if x == 0 else 1)"
      ],
      "metadata": {
        "id": "phlrcSUDo7hp"
      },
      "execution_count": 12,
      "outputs": []
    },
    {
      "cell_type": "code",
      "source": [
        "plt.figure(figsize=(8,6))\n",
        "plt.hist(data[data['EXTtotal'] < 100]['EXTtotal'], bins=100, alpha=0.5, label=\"extruder_sum\", color='r')\n",
        "plt.xlabel(\"Data\", size=14)\n",
        "plt.ylabel(\"Count\", size=14)\n",
        "plt.title(\"Incorporated extruders and actual layer thickness\")\n",
        "plt.legend(loc='upper right')"
      ],
      "metadata": {
        "colab": {
          "base_uri": "https://localhost:8080/",
          "height": 426
        },
        "id": "2MC7ltep0bzq",
        "outputId": "28b66c05-818e-4739-c3ea-4f8d6aff6cd5"
      },
      "execution_count": 13,
      "outputs": [
        {
          "output_type": "execute_result",
          "data": {
            "text/plain": [
              "<matplotlib.legend.Legend at 0x7f620e1230d0>"
            ]
          },
          "metadata": {},
          "execution_count": 13
        },
        {
          "output_type": "display_data",
          "data": {
            "text/plain": [
              "<Figure size 576x432 with 1 Axes>"
            ],
            "image/png": "[encoded data removed]"
          },
          "metadata": {
            "needs_background": "light"
          }
        }
      ]
    },
    {
      "cell_type": "markdown",
      "source": [
        "##Preprocessing Steps 3: \n",
        "\n",
        "* Since the dataset is time series one, the colum 'Dataum' is utilized as index\n",
        "\n",
        "* Delete unneccessary columns and fill N/A\n",
        "\n",
        "* Find categoricla columns -> if exist, should be converted via One-Hot encoding or Label encoding\n",
        "\n",
        "\n",
        "\n",
        "\n",
        "\n",
        "\n",
        "---\n",
        "\n"
      ],
      "metadata": {
        "id": "u8tM90KLLdIh"
      }
    },
    {
      "cell_type": "code",
      "source": [
        "data['Datum'] = pd.to_datetime(data['Datum'])\n",
        "data = data.set_index('Datum')\n",
        "data.head()"
      ],
      "metadata": {
        "colab": {
          "base_uri": "https://localhost:8080/",
          "height": 504
        },
        "id": "kp7pkagN3C3B",
        "outputId": "8861ae3d-ccc5-4210-ce0c-279f346b666c"
      },
      "execution_count": 14,
      "outputs": [
        {
          "output_type": "execute_result",
          "data": {
            "text/plain": [
              "                     ST0_VARActAuftrag  \\\n",
              "Datum                                    \n",
              "2018-06-25 04:40:00                0.0   \n",
              "2018-06-25 04:42:00                0.0   \n",
              "2018-06-25 04:45:00                0.0   \n",
              "2018-06-25 04:47:00                0.0   \n",
              "2018-06-25 04:49:00                0.0   \n",
              "\n",
              "                     ST110_VARExtr_0_HeizungZone_3_Regler_Y  \\\n",
              "Datum                                                         \n",
              "2018-06-25 04:40:00                                     9.0   \n",
              "2018-06-25 04:42:00                                     9.0   \n",
              "2018-06-25 04:45:00                                     9.0   \n",
              "2018-06-25 04:47:00                                    10.0   \n",
              "2018-06-25 04:49:00                                    11.0   \n",
              "\n",
              "                     ST110_VARExtr_0_HeizungZone_3_SollTemp  \\\n",
              "Datum                                                         \n",
              "2018-06-25 04:40:00                                   190.0   \n",
              "2018-06-25 04:42:00                                   190.0   \n",
              "2018-06-25 04:45:00                                   190.0   \n",
              "2018-06-25 04:47:00                                   190.0   \n",
              "2018-06-25 04:49:00                                   190.0   \n",
              "\n",
              "                     ST110_VARExtr_0_HeizungZone_4_Konfig  \\\n",
              "Datum                                                       \n",
              "2018-06-25 04:40:00                                   1.0   \n",
              "2018-06-25 04:42:00                                   1.0   \n",
              "2018-06-25 04:45:00                                   1.0   \n",
              "2018-06-25 04:47:00                                   1.0   \n",
              "2018-06-25 04:49:00                                   1.0   \n",
              "\n",
              "                     ST110_VARExtr_0_HeizungZone_4_Regler_X  \\\n",
              "Datum                                                         \n",
              "2018-06-25 04:40:00                                   193.0   \n",
              "2018-06-25 04:42:00                                   193.0   \n",
              "2018-06-25 04:45:00                                   193.0   \n",
              "2018-06-25 04:47:00                                   193.0   \n",
              "2018-06-25 04:49:00                                   193.0   \n",
              "\n",
              "                     ST110_VARExtr_0_HeizungZone_4_Regler_Y  \\\n",
              "Datum                                                         \n",
              "2018-06-25 04:40:00                                     0.0   \n",
              "2018-06-25 04:42:00                                     0.0   \n",
              "2018-06-25 04:45:00                                     0.0   \n",
              "2018-06-25 04:47:00                                     0.0   \n",
              "2018-06-25 04:49:00                                     0.0   \n",
              "\n",
              "                     ST110_VARExtr_0_HeizungZone_4_SollTemp  \\\n",
              "Datum                                                         \n",
              "2018-06-25 04:40:00                                   190.0   \n",
              "2018-06-25 04:42:00                                   190.0   \n",
              "2018-06-25 04:45:00                                   190.0   \n",
              "2018-06-25 04:47:00                                   190.0   \n",
              "2018-06-25 04:49:00                                   190.0   \n",
              "\n",
              "                     ST110_VARExtr_0_HeizungZone_5_Konfig  \\\n",
              "Datum                                                       \n",
              "2018-06-25 04:40:00                                   1.0   \n",
              "2018-06-25 04:42:00                                   1.0   \n",
              "2018-06-25 04:45:00                                   1.0   \n",
              "2018-06-25 04:47:00                                   1.0   \n",
              "2018-06-25 04:49:00                                   1.0   \n",
              "\n",
              "                     ST110_VARExtr_0_HeizungZone_5_Regler_X  \\\n",
              "Datum                                                         \n",
              "2018-06-25 04:40:00                                   190.0   \n",
              "2018-06-25 04:42:00                                   190.0   \n",
              "2018-06-25 04:45:00                                   190.0   \n",
              "2018-06-25 04:47:00                                   190.0   \n",
              "2018-06-25 04:49:00                                   190.0   \n",
              "\n",
              "                     ST110_VARExtr_0_HeizungZone_5_Regler_Y  ...  \\\n",
              "Datum                                                        ...   \n",
              "2018-06-25 04:40:00                                    22.0  ...   \n",
              "2018-06-25 04:42:00                                    23.0  ...   \n",
              "2018-06-25 04:45:00                                    22.0  ...   \n",
              "2018-06-25 04:47:00                                    23.0  ...   \n",
              "2018-06-25 04:49:00                                    23.0  ...   \n",
              "\n",
              "                     ST114_VARWdTensVis  year  month  date  EXT0  EXTA  EXTB  \\\n",
              "Datum                                                                          \n",
              "2018-06-25 04:40:00                53.0  2018     40    25     0     0     0   \n",
              "2018-06-25 04:42:00                49.0  2018     42    25     0     0     0   \n",
              "2018-06-25 04:45:00                48.0  2018     45    25     0     0     0   \n",
              "2018-06-25 04:47:00                50.0  2018     47    25     0     0     0   \n",
              "2018-06-25 04:49:00                51.0  2018     49    25     0     0     0   \n",
              "\n",
              "                     EXTC  EXTsum  EXTtotal  \n",
              "Datum                                        \n",
              "2018-06-25 04:40:00     0       0         0  \n",
              "2018-06-25 04:42:00     0       0         0  \n",
              "2018-06-25 04:45:00     0       0         0  \n",
              "2018-06-25 04:47:00     0       0         0  \n",
              "2018-06-25 04:49:00     0       0         0  \n",
              "\n",
              "[5 rows x 478 columns]"
            ],
            "text/html": [
              "\n",
              "  <div id=\"df-bb6b6f32-9604-44ea-9525-07a5cc422576\">\n",
              "    <div class=\"colab-df-container\">\n",
              "      <div>\n",
              "<style scoped>\n",
              "    .dataframe tbody tr th:only-of-type {\n",
              "        vertical-align: middle;\n",
              "    }\n",
              "\n",
              "    .dataframe tbody tr th {\n",
              "        vertical-align: top;\n",
              "    }\n",
              "\n",
              "    .dataframe thead th {\n",
              "        text-align: right;\n",
              "    }\n",
              "</style>\n",
              "<table border=\"1\" class=\"dataframe\">\n",
              "  <thead>\n",
              "    <tr style=\"text-align: right;\">\n",
              "      <th></th>\n",
              "      <th>ST0_VARActAuftrag</th>\n",
              "      <th>ST110_VARExtr_0_HeizungZone_3_Regler_Y</th>\n",
              "      <th>ST110_VARExtr_0_HeizungZone_3_SollTemp</th>\n",
              "      <th>ST110_VARExtr_0_HeizungZone_4_Konfig</th>\n",
              "      <th>ST110_VARExtr_0_HeizungZone_4_Regler_X</th>\n",
              "      <th>ST110_VARExtr_0_HeizungZone_4_Regler_Y</th>\n",
              "      <th>ST110_VARExtr_0_HeizungZone_4_SollTemp</th>\n",
              "      <th>ST110_VARExtr_0_HeizungZone_5_Konfig</th>\n",
              "      <th>ST110_VARExtr_0_HeizungZone_5_Regler_X</th>\n",
              "      <th>ST110_VARExtr_0_HeizungZone_5_Regler_Y</th>\n",
              "      <th>...</th>\n",
              "      <th>ST114_VARWdTensVis</th>\n",
              "      <th>year</th>\n",
              "      <th>month</th>\n",
              "      <th>date</th>\n",
              "      <th>EXT0</th>\n",
              "      <th>EXTA</th>\n",
              "      <th>EXTB</th>\n",
              "      <th>EXTC</th>\n",
              "      <th>EXTsum</th>\n",
              "      <th>EXTtotal</th>\n",
              "    </tr>\n",
              "    <tr>\n",
              "      <th>Datum</th>\n",
              "      <th></th>\n",
              "      <th></th>\n",
              "      <th></th>\n",
              "      <th></th>\n",
              "      <th></th>\n",
              "      <th></th>\n",
              "      <th></th>\n",
              "      <th></th>\n",
              "      <th></th>\n",
              "      <th></th>\n",
              "      <th></th>\n",
              "      <th></th>\n",
              "      <th></th>\n",
              "      <th></th>\n",
              "      <th></th>\n",
              "      <th></th>\n",
              "      <th></th>\n",
              "      <th></th>\n",
              "      <th></th>\n",
              "      <th></th>\n",
              "      <th></th>\n",
              "    </tr>\n",
              "  </thead>\n",
              "  <tbody>\n",
              "    <tr>\n",
              "      <th>2018-06-25 04:40:00</th>\n",
              "      <td>0.0</td>\n",
              "      <td>9.0</td>\n",
              "      <td>190.0</td>\n",
              "      <td>1.0</td>\n",
              "      <td>193.0</td>\n",
              "      <td>0.0</td>\n",
              "      <td>190.0</td>\n",
              "      <td>1.0</td>\n",
              "      <td>190.0</td>\n",
              "      <td>22.0</td>\n",
              "      <td>...</td>\n",
              "      <td>53.0</td>\n",
              "      <td>2018</td>\n",
              "      <td>40</td>\n",
              "      <td>25</td>\n",
              "      <td>0</td>\n",
              "      <td>0</td>\n",
              "      <td>0</td>\n",
              "      <td>0</td>\n",
              "      <td>0</td>\n",
              "      <td>0</td>\n",
              "    </tr>\n",
              "    <tr>\n",
              "      <th>2018-06-25 04:42:00</th>\n",
              "      <td>0.0</td>\n",
              "      <td>9.0</td>\n",
              "      <td>190.0</td>\n",
              "      <td>1.0</td>\n",
              "      <td>193.0</td>\n",
              "      <td>0.0</td>\n",
              "      <td>190.0</td>\n",
              "      <td>1.0</td>\n",
              "      <td>190.0</td>\n",
              "      <td>23.0</td>\n",
              "      <td>...</td>\n",
              "      <td>49.0</td>\n",
              "      <td>2018</td>\n",
              "      <td>42</td>\n",
              "      <td>25</td>\n",
              "      <td>0</td>\n",
              "      <td>0</td>\n",
              "      <td>0</td>\n",
              "      <td>0</td>\n",
              "      <td>0</td>\n",
              "      <td>0</td>\n",
              "    </tr>\n",
              "    <tr>\n",
              "      <th>2018-06-25 04:45:00</th>\n",
              "      <td>0.0</td>\n",
              "      <td>9.0</td>\n",
              "      <td>190.0</td>\n",
              "      <td>1.0</td>\n",
              "      <td>193.0</td>\n",
              "      <td>0.0</td>\n",
              "      <td>190.0</td>\n",
              "      <td>1.0</td>\n",
              "      <td>190.0</td>\n",
              "      <td>22.0</td>\n",
              "      <td>...</td>\n",
              "      <td>48.0</td>\n",
              "      <td>2018</td>\n",
              "      <td>45</td>\n",
              "      <td>25</td>\n",
              "      <td>0</td>\n",
              "      <td>0</td>\n",
              "      <td>0</td>\n",
              "      <td>0</td>\n",
              "      <td>0</td>\n",
              "      <td>0</td>\n",
              "    </tr>\n",
              "    <tr>\n",
              "      <th>2018-06-25 04:47:00</th>\n",
              "      <td>0.0</td>\n",
              "      <td>10.0</td>\n",
              "      <td>190.0</td>\n",
              "      <td>1.0</td>\n",
              "      <td>193.0</td>\n",
              "      <td>0.0</td>\n",
              "      <td>190.0</td>\n",
              "      <td>1.0</td>\n",
              "      <td>190.0</td>\n",
              "      <td>23.0</td>\n",
              "      <td>...</td>\n",
              "      <td>50.0</td>\n",
              "      <td>2018</td>\n",
              "      <td>47</td>\n",
              "      <td>25</td>\n",
              "      <td>0</td>\n",
              "      <td>0</td>\n",
              "      <td>0</td>\n",
              "      <td>0</td>\n",
              "      <td>0</td>\n",
              "      <td>0</td>\n",
              "    </tr>\n",
              "    <tr>\n",
              "      <th>2018-06-25 04:49:00</th>\n",
              "      <td>0.0</td>\n",
              "      <td>11.0</td>\n",
              "      <td>190.0</td>\n",
              "      <td>1.0</td>\n",
              "      <td>193.0</td>\n",
              "      <td>0.0</td>\n",
              "      <td>190.0</td>\n",
              "      <td>1.0</td>\n",
              "      <td>190.0</td>\n",
              "      <td>23.0</td>\n",
              "      <td>...</td>\n",
              "      <td>51.0</td>\n",
              "      <td>2018</td>\n",
              "      <td>49</td>\n",
              "      <td>25</td>\n",
              "      <td>0</td>\n",
              "      <td>0</td>\n",
              "      <td>0</td>\n",
              "      <td>0</td>\n",
              "      <td>0</td>\n",
              "      <td>0</td>\n",
              "    </tr>\n",
              "  </tbody>\n",
              "</table>\n",
              "<p>5 rows × 478 columns</p>\n",
              "</div>\n",
              "      <button class=\"colab-df-convert\" onclick=\"convertToInteractive('df-bb6b6f32-9604-44ea-9525-07a5cc422576')\"\n",
              "              title=\"Convert this dataframe to an interactive table.\"\n",
              "              style=\"display:none;\">\n",
              "        \n",
              "  <svg xmlns=\"http://www.w3.org/2000/svg\" height=\"24px\"viewBox=\"0 0 24 24\"\n",
              "       width=\"24px\">\n",
              "    <path d=\"M0 0h24v24H0V0z\" fill=\"none\"/>\n",
              "    <path d=\"M18.56 5.44l.94 2.06.94-2.06 2.06-.94-2.06-.94-.94-2.06-.94 2.06-2.06.94zm-11 1L8.5 8.5l.94-2.06 2.06-.94-2.06-.94L8.5 2.5l-.94 2.06-2.06.94zm10 10l.94 2.06.94-2.06 2.06-.94-2.06-.94-.94-2.06-.94 2.06-2.06.94z\"/><path d=\"M17.41 7.96l-1.37-1.37c-.4-.4-.92-.59-1.43-.59-.52 0-1.04.2-1.43.59L10.3 9.45l-7.72 7.72c-.78.78-.78 2.05 0 2.83L4 21.41c.39.39.9.59 1.41.59.51 0 1.02-.2 1.41-.59l7.78-7.78 2.81-2.81c.8-.78.8-2.07 0-2.86zM5.41 20L4 18.59l7.72-7.72 1.47 1.35L5.41 20z\"/>\n",
              "  </svg>\n",
              "      </button>\n",
              "      \n",
              "  <style>\n",
              "    .colab-df-container {\n",
              "      display:flex;\n",
              "      flex-wrap:wrap;\n",
              "      gap: 12px;\n",
              "    }\n",
              "\n",
              "    .colab-df-convert {\n",
              "      background-color: #E8F0FE;\n",
              "      border: none;\n",
              "      border-radius: 50%;\n",
              "      cursor: pointer;\n",
              "      display: none;\n",
              "      fill: #1967D2;\n",
              "      height: 32px;\n",
              "      padding: 0 0 0 0;\n",
              "      width: 32px;\n",
              "    }\n",
              "\n",
              "    .colab-df-convert:hover {\n",
              "      background-color: #E2EBFA;\n",
              "      box-shadow: 0px 1px 2px rgba(60, 64, 67, 0.3), 0px 1px 3px 1px rgba(60, 64, 67, 0.15);\n",
              "      fill: #174EA6;\n",
              "    }\n",
              "\n",
              "    [theme=dark] .colab-df-convert {\n",
              "      background-color: #3B4455;\n",
              "      fill: #D2E3FC;\n",
              "    }\n",
              "\n",
              "    [theme=dark] .colab-df-convert:hover {\n",
              "      background-color: #434B5C;\n",
              "      box-shadow: 0px 1px 3px 1px rgba(0, 0, 0, 0.15);\n",
              "      filter: drop-shadow(0px 1px 2px rgba(0, 0, 0, 0.3));\n",
              "      fill: #FFFFFF;\n",
              "    }\n",
              "  </style>\n",
              "\n",
              "      <script>\n",
              "        const buttonEl =\n",
              "          document.querySelector('#df-bb6b6f32-9604-44ea-9525-07a5cc422576 button.colab-df-convert');\n",
              "        buttonEl.style.display =\n",
              "          google.colab.kernel.accessAllowed ? 'block' : 'none';\n",
              "\n",
              "        async function convertToInteractive(key) {\n",
              "          const element = document.querySelector('#df-bb6b6f32-9604-44ea-9525-07a5cc422576');\n",
              "          const dataTable =\n",
              "            await google.colab.kernel.invokeFunction('convertToInteractive',\n",
              "                                                     [key], {});\n",
              "          if (!dataTable) return;\n",
              "\n",
              "          const docLinkHtml = 'Like what you see? Visit the ' +\n",
              "            '<a target=\"_blank\" href=https://colab.research.google.com/notebooks/data_table.ipynb>data table notebook</a>'\n",
              "            + ' to learn more about interactive tables.';\n",
              "          element.innerHTML = '';\n",
              "          dataTable['output_type'] = 'display_data';\n",
              "          await google.colab.output.renderOutput(dataTable, element);\n",
              "          const docLink = document.createElement('div');\n",
              "          docLink.innerHTML = docLinkHtml;\n",
              "          element.appendChild(docLink);\n",
              "        }\n",
              "      </script>\n",
              "    </div>\n",
              "  </div>\n",
              "  "
            ]
          },
          "metadata": {},
          "execution_count": 14
        }
      ]
    },
    {
      "cell_type": "code",
      "source": [
        "data = data.drop(['EXT0', 'EXTA', 'EXTB', 'EXTC', 'EXTsum'], axis = 1)\n",
        "data = data.fillna(data.interpolate())\n",
        "data.isnull().sum().sum()"
      ],
      "metadata": {
        "colab": {
          "base_uri": "https://localhost:8080/"
        },
        "id": "kPuiBk_w3IVf",
        "outputId": "6ee2c38f-4038-4854-be69-176c58ac82b9"
      },
      "execution_count": 15,
      "outputs": [
        {
          "output_type": "execute_result",
          "data": {
            "text/plain": [
              "0"
            ]
          },
          "metadata": {},
          "execution_count": 15
        }
      ]
    },
    {
      "cell_type": "code",
      "source": [
        "objList = data.select_dtypes(include = \"object\").columns\n",
        "print(objList)"
      ],
      "metadata": {
        "colab": {
          "base_uri": "https://localhost:8080/"
        },
        "id": "3SDAe-tr3Kql",
        "outputId": "d154b344-f86c-4925-d5bf-febc131e4aa9"
      },
      "execution_count": 16,
      "outputs": [
        {
          "output_type": "stream",
          "name": "stdout",
          "text": [
            "Index(['year', 'month', 'date'], dtype='object')\n"
          ]
        }
      ]
    },
    {
      "cell_type": "markdown",
      "source": [
        "##Preprocessing Steps 4: Simple EDA on target variable"
      ],
      "metadata": {
        "id": "1nz6AClu3NoO"
      }
    },
    {
      "cell_type": "code",
      "source": [
        "from sklearn.manifold import TSNE\n",
        "\n",
        "data_tsne=data[data['EXTtotal']==0].sample(1000)\n",
        "data_tsne_abnormal=data[data['EXTtotal']==1].sample(50)\n",
        "data_tsne=pd.concat([data_tsne,data_tsne_abnormal])\n",
        "y_plt=data_tsne['EXTtotal']\n",
        "X_plt=data_tsne.drop('EXTtotal',1)\n",
        "\n",
        "X_embedded = TSNE(n_components=2).fit_transform(X_plt)\n",
        "\n",
        "plt.figure(figsize=(12,8))\n",
        "plt.scatter(X_embedded[:,0], X_embedded[:,1], c=y_plt, cmap=plt.cm.get_cmap(\"Paired\", 2))\n",
        "plt.colorbar(ticks=range(2))"
      ],
      "metadata": {
        "colab": {
          "base_uri": "https://localhost:8080/",
          "height": 632
        },
        "id": "qsONGtNJ3LuF",
        "outputId": "8d4f037d-3917-45b8-bfb5-9300620abcde"
      },
      "execution_count": 40,
      "outputs": [
        {
          "output_type": "stream",
          "name": "stderr",
          "text": [
            "/usr/local/lib/python3.7/dist-packages/ipykernel_launcher.py:7: FutureWarning: In a future version of pandas all arguments of DataFrame.drop except for the argument 'labels' will be keyword-only\n",
            "  import sys\n",
            "/usr/local/lib/python3.7/dist-packages/sklearn/manifold/_t_sne.py:783: FutureWarning: The default initialization in TSNE will change from 'random' to 'pca' in 1.2.\n",
            "  FutureWarning,\n",
            "/usr/local/lib/python3.7/dist-packages/sklearn/manifold/_t_sne.py:793: FutureWarning: The default learning rate in TSNE will change from 200.0 to 'auto' in 1.2.\n",
            "  FutureWarning,\n"
          ]
        },
        {
          "output_type": "execute_result",
          "data": {
            "text/plain": [
              "<matplotlib.colorbar.Colorbar at 0x7f6170077610>"
            ]
          },
          "metadata": {},
          "execution_count": 40
        },
        {
          "output_type": "display_data",
          "data": {
            "text/plain": [
              "<Figure size 864x576 with 2 Axes>"
            ],
            "image/png": "[encoded data removed]"
          },
          "metadata": {
            "needs_background": "light"
          }
        }
      ]
    },
    {
      "cell_type": "code",
      "source": [
        "pred = data.drop(['EXTtotal'], axis=1)\n",
        "target = data['EXTtotal']"
      ],
      "metadata": {
        "id": "JtNikLamfZKo"
      },
      "execution_count": 41,
      "outputs": []
    },
    {
      "cell_type": "markdown",
      "source": [
        "##Preprocessing Steps 5: PCA since more than 400 columns exist"
      ],
      "metadata": {
        "id": "_BWHTfQSMcq4"
      }
    },
    {
      "cell_type": "code",
      "source": [
        "from sklearn import decomposition\n",
        "from sklearn.preprocessing import StandardScaler\n",
        "\n",
        "scaler=StandardScaler().fit(pred)\n",
        "pred=scaler.transform(pred)\n",
        "\n",
        "pca = decomposition.PCA().fit(pred)\n",
        "\n",
        "plt.figure(figsize=(10,7))\n",
        "plt.plot(np.cumsum(pca.explained_variance_ratio_), color='k', lw=2)\n",
        "plt.xlabel('Number of components')\n",
        "plt.ylabel('Total explained variance')\n",
        "plt.xlim(0, 150)\n",
        "plt.yticks(np.arange(0, 1.1, 0.1))\n",
        "plt.axvline(150, c='b')\n",
        "plt.axhline(0.9, c='r')\n",
        "plt.show();"
      ],
      "metadata": {
        "colab": {
          "base_uri": "https://localhost:8080/",
          "height": 442
        },
        "id": "GZJIqGesrS5B",
        "outputId": "5e643e5a-6549-46f7-cd96-d10dd356204a"
      },
      "execution_count": 42,
      "outputs": [
        {
          "output_type": "display_data",
          "data": {
            "text/plain": [
              "<Figure size 720x504 with 1 Axes>"
            ],
            "image/png": "[encoded data removed]"
          },
          "metadata": {
            "needs_background": "light"
          }
        }
      ]
    },
    {
      "cell_type": "code",
      "source": [
        "from sklearn.decomposition import PCA\n",
        "pca = PCA(n_components=70)\n",
        "pca_result = pca.fit_transform(pred)\n",
        "pca_result = pd.DataFrame(pca_result)\n",
        "pca_result.head()"
      ],
      "metadata": {
        "colab": {
          "base_uri": "https://localhost:8080/",
          "height": 300
        },
        "id": "K1l_OxlG2Fie",
        "outputId": "d147b2e3-b724-4067-8395-b4d13f2214d1"
      },
      "execution_count": 43,
      "outputs": [
        {
          "output_type": "execute_result",
          "data": {
            "text/plain": [
              "         0         1         2         3         4         5         6   \\\n",
              "0 -5.072246  7.357941  4.183902 -2.526993 -3.521885  4.260270 -0.938188   \n",
              "1 -5.064349  7.229688  3.873653 -2.672058 -3.606416  3.967448 -0.973017   \n",
              "2 -5.058324  7.356764  4.073729 -2.593525 -3.532983  4.025118 -1.035675   \n",
              "3 -5.147337  7.346690  3.846870 -2.590595 -3.513573  4.022755 -1.022722   \n",
              "4 -5.168501  7.348891  3.870708 -2.587257 -3.502351  3.956036 -1.073956   \n",
              "\n",
              "         7         8         9   ...        60        61        62        63  \\\n",
              "0 -1.437169  1.654942  1.654406  ... -1.128270  0.424442  0.729024  0.282196   \n",
              "1 -1.478281  1.582857  1.608470  ... -1.101358  0.545101  0.757268  0.057585   \n",
              "2 -1.541641  1.697382  1.665954  ... -1.142420  0.518255  0.712835  0.329614   \n",
              "3 -1.576625  1.612561  1.672074  ... -1.138614  0.558855  0.732960  0.144645   \n",
              "4 -1.633734  1.620984  1.702258  ... -1.053120  0.473688  0.745958  0.224778   \n",
              "\n",
              "         64        65        66        67        68        69  \n",
              "0  0.356701  0.426859  0.066971  0.840065  0.317818 -0.682380  \n",
              "1  0.259156  0.336829  0.020518  0.905177  0.422143 -0.753020  \n",
              "2  0.232590  0.356160 -0.032227  0.831220  0.339459 -0.641039  \n",
              "3  0.120944  0.347157 -0.109489  0.907756  0.362273 -0.659437  \n",
              "4  0.069755  0.300355 -0.288132  0.897269  0.469129 -0.634236  \n",
              "\n",
              "[5 rows x 70 columns]"
            ],
            "text/html": [
              "\n",
              "  <div id=\"df-6f13f9ba-ad71-4004-be98-3de698e93f6f\">\n",
              "    <div class=\"colab-df-container\">\n",
              "      <div>\n",
              "<style scoped>\n",
              "    .dataframe tbody tr th:only-of-type {\n",
              "        vertical-align: middle;\n",
              "    }\n",
              "\n",
              "    .dataframe tbody tr th {\n",
              "        vertical-align: top;\n",
              "    }\n",
              "\n",
              "    .dataframe thead th {\n",
              "        text-align: right;\n",
              "    }\n",
              "</style>\n",
              "<table border=\"1\" class=\"dataframe\">\n",
              "  <thead>\n",
              "    <tr style=\"text-align: right;\">\n",
              "      <th></th>\n",
              "      <th>0</th>\n",
              "      <th>1</th>\n",
              "      <th>2</th>\n",
              "      <th>3</th>\n",
              "      <th>4</th>\n",
              "      <th>5</th>\n",
              "      <th>6</th>\n",
              "      <th>7</th>\n",
              "      <th>8</th>\n",
              "      <th>9</th>\n",
              "      <th>...</th>\n",
              "      <th>60</th>\n",
              "      <th>61</th>\n",
              "      <th>62</th>\n",
              "      <th>63</th>\n",
              "      <th>64</th>\n",
              "      <th>65</th>\n",
              "      <th>66</th>\n",
              "      <th>67</th>\n",
              "      <th>68</th>\n",
              "      <th>69</th>\n",
              "    </tr>\n",
              "  </thead>\n",
              "  <tbody>\n",
              "    <tr>\n",
              "      <th>0</th>\n",
              "      <td>-5.072246</td>\n",
              "      <td>7.357941</td>\n",
              "      <td>4.183902</td>\n",
              "      <td>-2.526993</td>\n",
              "      <td>-3.521885</td>\n",
              "      <td>4.260270</td>\n",
              "      <td>-0.938188</td>\n",
              "      <td>-1.437169</td>\n",
              "      <td>1.654942</td>\n",
              "      <td>1.654406</td>\n",
              "      <td>...</td>\n",
              "      <td>-1.128270</td>\n",
              "      <td>0.424442</td>\n",
              "      <td>0.729024</td>\n",
              "      <td>0.282196</td>\n",
              "      <td>0.356701</td>\n",
              "      <td>0.426859</td>\n",
              "      <td>0.066971</td>\n",
              "      <td>0.840065</td>\n",
              "      <td>0.317818</td>\n",
              "      <td>-0.682380</td>\n",
              "    </tr>\n",
              "    <tr>\n",
              "      <th>1</th>\n",
              "      <td>-5.064349</td>\n",
              "      <td>7.229688</td>\n",
              "      <td>3.873653</td>\n",
              "      <td>-2.672058</td>\n",
              "      <td>-3.606416</td>\n",
              "      <td>3.967448</td>\n",
              "      <td>-0.973017</td>\n",
              "      <td>-1.478281</td>\n",
              "      <td>1.582857</td>\n",
              "      <td>1.608470</td>\n",
              "      <td>...</td>\n",
              "      <td>-1.101358</td>\n",
              "      <td>0.545101</td>\n",
              "      <td>0.757268</td>\n",
              "      <td>0.057585</td>\n",
              "      <td>0.259156</td>\n",
              "      <td>0.336829</td>\n",
              "      <td>0.020518</td>\n",
              "      <td>0.905177</td>\n",
              "      <td>0.422143</td>\n",
              "      <td>-0.753020</td>\n",
              "    </tr>\n",
              "    <tr>\n",
              "      <th>2</th>\n",
              "      <td>-5.058324</td>\n",
              "      <td>7.356764</td>\n",
              "      <td>4.073729</td>\n",
              "      <td>-2.593525</td>\n",
              "      <td>-3.532983</td>\n",
              "      <td>4.025118</td>\n",
              "      <td>-1.035675</td>\n",
              "      <td>-1.541641</td>\n",
              "      <td>1.697382</td>\n",
              "      <td>1.665954</td>\n",
              "      <td>...</td>\n",
              "      <td>-1.142420</td>\n",
              "      <td>0.518255</td>\n",
              "      <td>0.712835</td>\n",
              "      <td>0.329614</td>\n",
              "      <td>0.232590</td>\n",
              "      <td>0.356160</td>\n",
              "      <td>-0.032227</td>\n",
              "      <td>0.831220</td>\n",
              "      <td>0.339459</td>\n",
              "      <td>-0.641039</td>\n",
              "    </tr>\n",
              "    <tr>\n",
              "      <th>3</th>\n",
              "      <td>-5.147337</td>\n",
              "      <td>7.346690</td>\n",
              "      <td>3.846870</td>\n",
              "      <td>-2.590595</td>\n",
              "      <td>-3.513573</td>\n",
              "      <td>4.022755</td>\n",
              "      <td>-1.022722</td>\n",
              "      <td>-1.576625</td>\n",
              "      <td>1.612561</td>\n",
              "      <td>1.672074</td>\n",
              "      <td>...</td>\n",
              "      <td>-1.138614</td>\n",
              "      <td>0.558855</td>\n",
              "      <td>0.732960</td>\n",
              "      <td>0.144645</td>\n",
              "      <td>0.120944</td>\n",
              "      <td>0.347157</td>\n",
              "      <td>-0.109489</td>\n",
              "      <td>0.907756</td>\n",
              "      <td>0.362273</td>\n",
              "      <td>-0.659437</td>\n",
              "    </tr>\n",
              "    <tr>\n",
              "      <th>4</th>\n",
              "      <td>-5.168501</td>\n",
              "      <td>7.348891</td>\n",
              "      <td>3.870708</td>\n",
              "      <td>-2.587257</td>\n",
              "      <td>-3.502351</td>\n",
              "      <td>3.956036</td>\n",
              "      <td>-1.073956</td>\n",
              "      <td>-1.633734</td>\n",
              "      <td>1.620984</td>\n",
              "      <td>1.702258</td>\n",
              "      <td>...</td>\n",
              "      <td>-1.053120</td>\n",
              "      <td>0.473688</td>\n",
              "      <td>0.745958</td>\n",
              "      <td>0.224778</td>\n",
              "      <td>0.069755</td>\n",
              "      <td>0.300355</td>\n",
              "      <td>-0.288132</td>\n",
              "      <td>0.897269</td>\n",
              "      <td>0.469129</td>\n",
              "      <td>-0.634236</td>\n",
              "    </tr>\n",
              "  </tbody>\n",
              "</table>\n",
              "<p>5 rows × 70 columns</p>\n",
              "</div>\n",
              "      <button class=\"colab-df-convert\" onclick=\"convertToInteractive('df-6f13f9ba-ad71-4004-be98-3de698e93f6f')\"\n",
              "              title=\"Convert this dataframe to an interactive table.\"\n",
              "              style=\"display:none;\">\n",
              "        \n",
              "  <svg xmlns=\"http://www.w3.org/2000/svg\" height=\"24px\"viewBox=\"0 0 24 24\"\n",
              "       width=\"24px\">\n",
              "    <path d=\"M0 0h24v24H0V0z\" fill=\"none\"/>\n",
              "    <path d=\"M18.56 5.44l.94 2.06.94-2.06 2.06-.94-2.06-.94-.94-2.06-.94 2.06-2.06.94zm-11 1L8.5 8.5l.94-2.06 2.06-.94-2.06-.94L8.5 2.5l-.94 2.06-2.06.94zm10 10l.94 2.06.94-2.06 2.06-.94-2.06-.94-.94-2.06-.94 2.06-2.06.94z\"/><path d=\"M17.41 7.96l-1.37-1.37c-.4-.4-.92-.59-1.43-.59-.52 0-1.04.2-1.43.59L10.3 9.45l-7.72 7.72c-.78.78-.78 2.05 0 2.83L4 21.41c.39.39.9.59 1.41.59.51 0 1.02-.2 1.41-.59l7.78-7.78 2.81-2.81c.8-.78.8-2.07 0-2.86zM5.41 20L4 18.59l7.72-7.72 1.47 1.35L5.41 20z\"/>\n",
              "  </svg>\n",
              "      </button>\n",
              "      \n",
              "  <style>\n",
              "    .colab-df-container {\n",
              "      display:flex;\n",
              "      flex-wrap:wrap;\n",
              "      gap: 12px;\n",
              "    }\n",
              "\n",
              "    .colab-df-convert {\n",
              "      background-color: #E8F0FE;\n",
              "      border: none;\n",
              "      border-radius: 50%;\n",
              "      cursor: pointer;\n",
              "      display: none;\n",
              "      fill: #1967D2;\n",
              "      height: 32px;\n",
              "      padding: 0 0 0 0;\n",
              "      width: 32px;\n",
              "    }\n",
              "\n",
              "    .colab-df-convert:hover {\n",
              "      background-color: #E2EBFA;\n",
              "      box-shadow: 0px 1px 2px rgba(60, 64, 67, 0.3), 0px 1px 3px 1px rgba(60, 64, 67, 0.15);\n",
              "      fill: #174EA6;\n",
              "    }\n",
              "\n",
              "    [theme=dark] .colab-df-convert {\n",
              "      background-color: #3B4455;\n",
              "      fill: #D2E3FC;\n",
              "    }\n",
              "\n",
              "    [theme=dark] .colab-df-convert:hover {\n",
              "      background-color: #434B5C;\n",
              "      box-shadow: 0px 1px 3px 1px rgba(0, 0, 0, 0.15);\n",
              "      filter: drop-shadow(0px 1px 2px rgba(0, 0, 0, 0.3));\n",
              "      fill: #FFFFFF;\n",
              "    }\n",
              "  </style>\n",
              "\n",
              "      <script>\n",
              "        const buttonEl =\n",
              "          document.querySelector('#df-6f13f9ba-ad71-4004-be98-3de698e93f6f button.colab-df-convert');\n",
              "        buttonEl.style.display =\n",
              "          google.colab.kernel.accessAllowed ? 'block' : 'none';\n",
              "\n",
              "        async function convertToInteractive(key) {\n",
              "          const element = document.querySelector('#df-6f13f9ba-ad71-4004-be98-3de698e93f6f');\n",
              "          const dataTable =\n",
              "            await google.colab.kernel.invokeFunction('convertToInteractive',\n",
              "                                                     [key], {});\n",
              "          if (!dataTable) return;\n",
              "\n",
              "          const docLinkHtml = 'Like what you see? Visit the ' +\n",
              "            '<a target=\"_blank\" href=https://colab.research.google.com/notebooks/data_table.ipynb>data table notebook</a>'\n",
              "            + ' to learn more about interactive tables.';\n",
              "          element.innerHTML = '';\n",
              "          dataTable['output_type'] = 'display_data';\n",
              "          await google.colab.output.renderOutput(dataTable, element);\n",
              "          const docLink = document.createElement('div');\n",
              "          docLink.innerHTML = docLinkHtml;\n",
              "          element.appendChild(docLink);\n",
              "        }\n",
              "      </script>\n",
              "    </div>\n",
              "  </div>\n",
              "  "
            ]
          },
          "metadata": {},
          "execution_count": 43
        }
      ]
    },
    {
      "cell_type": "markdown",
      "source": [
        "##Preprocessing Steps 6: Train test split for suprervised learning approach: LGBM"
      ],
      "metadata": {
        "id": "L7bFNxvGMkZT"
      }
    },
    {
      "cell_type": "code",
      "source": [
        "from sklearn.model_selection import train_test_split\n",
        "\n",
        "X_train, X_test, y_train, y_test=train_test_split(pca_result, target, test_size=0.2, random_state=77, stratify=target)"
      ],
      "metadata": {
        "id": "Gst2zrzs2NfC"
      },
      "execution_count": 51,
      "outputs": []
    },
    {
      "cell_type": "code",
      "source": [
        "#lgbm\n",
        "\n",
        "import lightgbm  as lgb\n",
        "from lightgbm import LGBMClassifier\n",
        "from sklearn.metrics import accuracy_score\n",
        "\n",
        "lgb = LGBMClassifier(random_state=12)\n",
        "\n",
        "lgb.fit(X_train, y_train)\n",
        "y_pred_lgb = lgb.predict(X_test)\n",
        "\n",
        "acc_lgb = round(accuracy_score(y_pred_lgb, y_test)*100, 2)\n",
        "\n",
        "print(acc_lgb)"
      ],
      "metadata": {
        "colab": {
          "base_uri": "https://localhost:8080/"
        },
        "id": "vG_64NjX2ZaH",
        "outputId": "988a3800-ca0b-4ec2-dc19-611fbb45f05f"
      },
      "execution_count": 52,
      "outputs": [
        {
          "output_type": "stream",
          "name": "stdout",
          "text": [
            "99.92\n"
          ]
        }
      ]
    },
    {
      "cell_type": "code",
      "source": [
        "from sklearn.metrics import confusion_matrix\n",
        "cm = confusion_matrix(y_test, y_pred_lgb)\n",
        "\n",
        "cm_matrix = pd.DataFrame(data=cm, columns=['Actual Positive', 'Actual Negative'], \n",
        "                                 index=['Predict Positive', 'Predict Negative'])\n",
        "\n",
        "sns.heatmap(cm_matrix, annot=True, fmt='d', cmap='YlOrRd')"
      ],
      "metadata": {
        "colab": {
          "base_uri": "https://localhost:8080/",
          "height": 283
        },
        "id": "Bu-IW8Dx4_g8",
        "outputId": "9f9d6c92-efb3-45fe-c2d3-5927466be08b"
      },
      "execution_count": 53,
      "outputs": [
        {
          "output_type": "execute_result",
          "data": {
            "text/plain": [
              "<matplotlib.axes._subplots.AxesSubplot at 0x7f620daf4e90>"
            ]
          },
          "metadata": {},
          "execution_count": 53
        },
        {
          "output_type": "display_data",
          "data": {
            "text/plain": [
              "<Figure size 432x288 with 2 Axes>"
            ],
            "image/png": "[encoded data removed]"
          },
          "metadata": {
            "needs_background": "light"
          }
        }
      ]
    },
    {
      "cell_type": "code",
      "source": [
        "from sklearn.metrics import roc_curve, roc_auc_score, auc\n",
        "from sklearn.metrics import classification_report, accuracy_score\n",
        "\n",
        "false_positive_rate, true_positive_rate, thresholds = roc_curve(y_test, y_pred_lgb)\n",
        "roc_auc = auc(false_positive_rate, true_positive_rate)\n",
        "\n",
        "import matplotlib.pyplot as plt\n",
        "plt.figure(figsize=(10,10))\n",
        "plt.plot(false_positive_rate,true_positive_rate, color='red',label = 'AUC = %0.2f' % roc_auc)\n",
        "plt.legend(loc = 'lower right')\n",
        "plt.plot([0, 1], [0, 1],linestyle='--')\n",
        "plt.axis('tight')\n",
        "plt.ylabel('True Positive Rate')\n",
        "plt.xlabel('False Positive Rate')"
      ],
      "metadata": {
        "colab": {
          "base_uri": "https://localhost:8080/",
          "height": 624
        },
        "id": "L7pclLK97rUf",
        "outputId": "5768ae65-db12-4217-aeaf-92539ee41b15"
      },
      "execution_count": 54,
      "outputs": [
        {
          "output_type": "execute_result",
          "data": {
            "text/plain": [
              "Text(0.5, 0, 'False Positive Rate')"
            ]
          },
          "metadata": {},
          "execution_count": 54
        },
        {
          "output_type": "display_data",
          "data": {
            "text/plain": [
              "<Figure size 720x720 with 1 Axes>"
            ],
            "image/png": "[encoded data removed]"
          },
          "metadata": {
            "needs_background": "light"
          }
        }
      ]
    },
    {
      "cell_type": "code",
      "source": [
        "n_errors = (y_pred_lgb != y_test).sum()\n",
        "n_errors"
      ],
      "metadata": {
        "colab": {
          "base_uri": "https://localhost:8080/"
        },
        "id": "7dVKDrBsAnWi",
        "outputId": "7d0a3462-3302-4b55-ebc2-b4fd19530311"
      },
      "execution_count": 55,
      "outputs": [
        {
          "output_type": "execute_result",
          "data": {
            "text/plain": [
              "34"
            ]
          },
          "metadata": {},
          "execution_count": 55
        }
      ]
    },
    {
      "cell_type": "code",
      "source": [
        "print(classification_report(y_test,y_pred_lgb))"
      ],
      "metadata": {
        "colab": {
          "base_uri": "https://localhost:8080/"
        },
        "id": "7KwuyGGUplWl",
        "outputId": "e4ce7ca0-eac0-46ba-efb8-7d828c126a8e"
      },
      "execution_count": 56,
      "outputs": [
        {
          "output_type": "stream",
          "name": "stdout",
          "text": [
            "              precision    recall  f1-score   support\n",
            "\n",
            "           0       1.00      1.00      1.00     39145\n",
            "           1       1.00      1.00      1.00      6163\n",
            "\n",
            "    accuracy                           1.00     45308\n",
            "   macro avg       1.00      1.00      1.00     45308\n",
            "weighted avg       1.00      1.00      1.00     45308\n",
            "\n"
          ]
        }
      ]
    },
    {
      "cell_type": "markdown",
      "source": [
        "# Anomaly detection algorithms: Isolation Forest, Local Outlier, One Class SVM: "
      ],
      "metadata": {
        "id": "DVenCuw46chu"
      }
    },
    {
      "cell_type": "markdown",
      "source": [
        "##For these algorithms, \"pca_result\", and \"target\" will be utilized instead of \"X_train\" or \"y_train\""
      ],
      "metadata": {
        "id": "PVv4VxfZ6iLN"
      }
    },
    {
      "cell_type": "code",
      "source": [
        "from sklearn.ensemble import IsolationForest\n",
        "from sklearn.neighbors import LocalOutlierFactor\n",
        "from sklearn.svm import OneClassSVM\n",
        "\n",
        "\n",
        "abnormal = target[target == 1]\n",
        "normal = target[target == 0]\n",
        "\n",
        "abnormal_proportion = len(abnormal) / float(len(normal))\n",
        "\n",
        "abnormal_proportion"
      ],
      "metadata": {
        "colab": {
          "base_uri": "https://localhost:8080/"
        },
        "id": "Nqeg2tAM-T04",
        "outputId": "8928f9e5-4aeb-42f6-80a8-1c4cc9b3c6c9"
      },
      "execution_count": 52,
      "outputs": [
        {
          "output_type": "execute_result",
          "data": {
            "text/plain": [
              "0.15539506701756534"
            ]
          },
          "metadata": {},
          "execution_count": 52
        }
      ]
    },
    {
      "cell_type": "markdown",
      "source": [
        "##Define three classifiers "
      ],
      "metadata": {
        "id": "eCrcZMQx7hvH"
      }
    },
    {
      "cell_type": "code",
      "source": [
        "classifiers = {\n",
        "    \"Isolation Forest\":IsolationForest(max_samples=len(pred), contamination=abnormal_proportion,random_state=77, verbose=0),\n",
        "    \"Local Outlier Factor\":LocalOutlierFactor(contamination=abnormal_proportion),\n",
        "    \"Support Vector Machine\":OneClassSVM(kernel='rbf', gamma=0.1)\n",
        "}"
      ],
      "metadata": {
        "id": "wUCYYCWo9DJl"
      },
      "execution_count": 56,
      "outputs": []
    },
    {
      "cell_type": "code",
      "source": [
        "n_outliers = len(abnormal)\n",
        "\n",
        "for i, (clf_name,clf) in enumerate(classifiers.items()):\n",
        "    if clf_name == \"Local Outlier Factor\":\n",
        "        y_pred = clf.fit_predict(pca_result)\n",
        "        scores_prediction = clf.negative_outlier_factor_\n",
        "    elif clf_name == \"Support Vector Machine\":\n",
        "        clf.fit(pca_result)\n",
        "        y_pred = clf.predict(pca_result)\n",
        "    else:    \n",
        "        clf.fit(pca_result)\n",
        "        scores_prediction = clf.decision_function(pca_result)\n",
        "        y_pred = clf.predict(pca_result)\n",
        "    y_pred[y_pred == 1] = 0\n",
        "    y_pred[y_pred == -1] = 1\n",
        "    n_errors = (y_pred != target).sum()\n",
        "\n",
        "    print(\"{}: {}\".format(clf_name,n_errors))\n",
        "    print(\"Accuracy Score :\")\n",
        "    print(accuracy_score(target,y_pred))\n",
        "    print(\"Classification Report :\")\n",
        "    print(classification_report(target,y_pred))\n",
        "    print(\"Confusion Matrix :\")\n",
        "    print(confusion_matrix(target, y_pred))"
      ],
      "metadata": {
        "colab": {
          "base_uri": "https://localhost:8080/"
        },
        "id": "VLb80wOU-LAi",
        "outputId": "ee09e8f1-98e5-4e6b-936f-c3daaeb2ccff"
      },
      "execution_count": null,
      "outputs": [
        {
          "output_type": "stream",
          "name": "stdout",
          "text": [
            "Isolation Forest: 39051\n",
            "Accuracy Score :\n",
            "0.827616802627397\n",
            "Classification Report :\n",
            "              precision    recall  f1-score   support\n",
            "\n",
            "           0       0.91      0.89      0.90    196068\n",
            "           1       0.38      0.44      0.41     30468\n",
            "\n",
            "    accuracy                           0.83    226536\n",
            "   macro avg       0.64      0.66      0.65    226536\n",
            "weighted avg       0.84      0.83      0.83    226536\n",
            "\n",
            "Confusion Matrix :\n",
            "[[174175  21893]\n",
            " [ 17158  13310]]\n",
            "Local Outlier Factor: 51971\n",
            "Accuracy Score :\n",
            "0.7705839248507963\n",
            "Classification Report :\n",
            "              precision    recall  f1-score   support\n",
            "\n",
            "           0       0.88      0.86      0.87    196068\n",
            "           1       0.19      0.22      0.21     30468\n",
            "\n",
            "    accuracy                           0.77    226536\n",
            "   macro avg       0.54      0.54      0.54    226536\n",
            "weighted avg       0.78      0.77      0.78    226536\n",
            "\n",
            "Confusion Matrix :\n",
            "[[167715  28353]\n",
            " [ 23618   6850]]\n"
          ]
        }
      ]
    },
    {
      "cell_type": "code",
      "source": [
        ""
      ],
      "metadata": {
        "id": "uhT2awaEnbQR"
      },
      "execution_count": null,
      "outputs": []
    }
  ]
}